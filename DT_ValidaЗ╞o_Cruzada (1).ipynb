{
  "nbformat": 4,
  "nbformat_minor": 0,
  "metadata": {
    "colab": {
      "name": "DT - Validação Cruzada.ipynb",
      "provenance": [],
      "collapsed_sections": [
        "nbPb0q01k11H",
        "dIAkU4eklKlu",
        "9XKQgZBMlOz9",
        "_nv0l3GhlX9l",
        "19CfDrXjlg1p",
        "i0gSVbcMlg1q"
      ]
    },
    "kernelspec": {
      "name": "python3",
      "display_name": "Python 3"
    }
  },
  "cells": [
    {
      "cell_type": "markdown",
      "metadata": {
        "id": "mZVCagpZvZfE"
      },
      "source": [
        "![alt text](https://encrypted-tbn0.gstatic.com/images?q=tbn%3AANd9GcTK4gQ9nhwHHaSXMHpeggWg7twwMCgb877smkRmtkmDeDoGF9Z6&usqp=CAU)"
      ]
    },
    {
      "cell_type": "markdown",
      "metadata": {
        "id": "nbPb0q01k11H"
      },
      "source": [
        "##<font color='GreeN'>Dicas e Truques de Ciência de Dados </font>\n",
        "\n",
        "##<font color='black'>Fase de Pré-Processamamento dos Dados</font>\n",
        "\n",
        "### <font color='grey'>Validação Cruzada ou Cross Validation</font>\n",
        " \n",
        "### <font color='blUE'> O que é.... e Quando Usar....</font>"
      ]
    },
    {
      "cell_type": "markdown",
      "metadata": {
        "id": "hdbCnpDJjWQX"
      },
      "source": [
        "![alt text](https://upload.wikimedia.org/wikipedia/commons/thumb/b/b0/Kfold.pdf/page1-220px-Kfold.pdf.jpg)"
      ]
    },
    {
      "cell_type": "code",
      "metadata": {
        "id": "fiL1hw23h9Jb"
      },
      "source": [
        "from PIL import Image\n",
        "%matplotlib inline\n",
        "im = Image.open(\"cross-validation.jpg\")\n",
        "im.show()\n",
        "im\n"
      ],
      "execution_count": null,
      "outputs": []
    },
    {
      "cell_type": "markdown",
      "metadata": {
        "id": "ZRBkEoZiS7Ts"
      },
      "source": [
        "https://scikit-learn.org/stable/modules/generated/sklearn.model_selection.cross_val_score.html"
      ]
    },
    {
      "cell_type": "markdown",
      "metadata": {
        "id": "hP0GPFQOS7Ts"
      },
      "source": [
        "Cross Validation é uma técnica que pode ser utilizada para avaliar a performance de um modelo com menos variância que a técnica de dividir os dados em treino/teste. Com esta técnica dividimos os dados em partes normalmente chamadas de k-folds (por exemplo k = 5, k = 10). Cada parte é chamada fold. O algoritmo é treinado em k-1 folds. Cada fold é usado no treinamento de forma repetida e um fold por vez. Após executar o processo em k-1 folds, podemos sumarizar a performance em cada fold usando a média e o desvio padrão (Estatística era importante no processo de Ciência dos Dados). O resultado é normalmente mais confiável e oferece maior acurácia ao modelo. A chave deste processo está em definir o correto valor de k, de modo que o número de folds represente adequadamente o número de repetições necessárias."
      ]
    },
    {
      "cell_type": "markdown",
      "metadata": {
        "id": "dIAkU4eklKlu"
      },
      "source": [
        "# 1° Problema de Negócio"
      ]
    },
    {
      "cell_type": "markdown",
      "metadata": {
        "id": "paMUnIo7kH6a"
      },
      "source": [
        "https://www.kaggle.com/uciml/pima-indians-diabetes-database"
      ]
    },
    {
      "cell_type": "code",
      "metadata": {
        "id": "usFZdI3z7Tgc"
      },
      "source": [
        "\n",
        "# Import dos módulos\n",
        "from pandas import read_csv\n",
        "from sklearn.model_selection import train_test_split\n",
        "from sklearn.model_selection import KFold\n",
        "from sklearn.model_selection import cross_val_score\n",
        "from sklearn.linear_model import LogisticRegression\n",
        "%matplotlib inline\n",
        "import warnings\n",
        "warnings.filterwarnings('ignore')"
      ],
      "execution_count": 39,
      "outputs": []
    },
    {
      "cell_type": "markdown",
      "metadata": {
        "id": "9XKQgZBMlOz9"
      },
      "source": [
        "# 2° e 3° - Análise Exploratória e Pré-Processamento dos Dados "
      ]
    },
    {
      "cell_type": "code",
      "metadata": {
        "id": "L8gXgFaRgvfX",
        "outputId": "a2054f53-4fba-4445-e6b4-10bdc002ece6",
        "colab": {
          "base_uri": "https://localhost:8080/"
        }
      },
      "source": [
        "\n",
        "# Carregando os dados\n",
        "arquivo = 'pima-data.csv'\n",
        "colunas = ['preg', 'plas', 'pres', 'skin', 'test', 'mass', 'pedi', 'age', 'class']\n",
        "dados = read_csv(arquivo, names = colunas)\n",
        "array = dados.values\n",
        "array\n",
        "\n"
      ],
      "execution_count": 41,
      "outputs": [
        {
          "output_type": "execute_result",
          "data": {
            "text/plain": [
              "array([[  6.   , 148.   ,  72.   , ...,   0.627,  50.   ,   1.   ],\n",
              "       [  1.   ,  85.   ,  66.   , ...,   0.351,  31.   ,   0.   ],\n",
              "       [  8.   , 183.   ,  64.   , ...,   0.672,  32.   ,   1.   ],\n",
              "       ...,\n",
              "       [  5.   , 121.   ,  72.   , ...,   0.245,  30.   ,   0.   ],\n",
              "       [  1.   , 126.   ,  60.   , ...,   0.349,  47.   ,   1.   ],\n",
              "       [  1.   ,  93.   ,  70.   , ...,   0.315,  23.   ,   0.   ]])"
            ]
          },
          "metadata": {
            "tags": []
          },
          "execution_count": 41
        }
      ]
    },
    {
      "cell_type": "code",
      "metadata": {
        "id": "XfZJD1N9Z9lK"
      },
      "source": [
        "# Separando o array em componentes de input e output\n",
        "X = array[:,0:8]\n",
        "Y = array[:,8]\n",
        "Y\n"
      ],
      "execution_count": null,
      "outputs": []
    },
    {
      "cell_type": "code",
      "metadata": {
        "id": "UVrxGwcQaIFe"
      },
      "source": [
        "# Criando os conjuntos de dados de treino e de teste\n",
        "X_treino, X_teste, Y_treino, Y_teste = train_test_split(X, Y, test_size = 0.3, random_state = 7)\n"
      ],
      "execution_count": 45,
      "outputs": []
    },
    {
      "cell_type": "markdown",
      "metadata": {
        "id": "_nv0l3GhlX9l"
      },
      "source": [
        "# 4° e 5° Construção e Avaliação da Máquina Preditiva"
      ]
    },
    {
      "cell_type": "code",
      "metadata": {
        "id": "CDTi-QTslG1g",
        "outputId": "d072cab6-abea-4b74-bff5-abf1b528a94b",
        "colab": {
          "base_uri": "https://localhost:8080/"
        }
      },
      "source": [
        "# Criação do modelo\n",
        "modelo = LogisticRegression()\n",
        "\n",
        "# Treinamento do modelo\n",
        "modelo.fit(X_treino, Y_treino)\n",
        "\n",
        "# Score do modelo nos dados de teste\n",
        "result = modelo.score(X_teste, Y_teste)\n",
        "print(\"Acurácia nos Dados de Teste: %.3f%%\" % (result * 100.0))"
      ],
      "execution_count": 46,
      "outputs": [
        {
          "output_type": "stream",
          "text": [
            "Acurácia nos Dados de Teste: 74.892%\n"
          ],
          "name": "stdout"
        }
      ]
    },
    {
      "cell_type": "markdown",
      "metadata": {
        "id": "19CfDrXjlg1p"
      },
      "source": [
        "# 2° e 3° - Análise Exploratória e Pré-Processamento dos Dados "
      ]
    },
    {
      "cell_type": "code",
      "metadata": {
        "id": "ApGfCudXS7Ty"
      },
      "source": [
        "# Avaliação usando Cross Validation\n",
        "\n",
        "# Import dos módulos\n",
        "from pandas import read_csv\n",
        "from sklearn.model_selection import KFold\n",
        "from sklearn.model_selection import cross_val_score\n",
        "from sklearn.linear_model import LogisticRegression\n",
        "%matplotlib inline\n",
        "import warnings\n",
        "warnings.filterwarnings('ignore')\n",
        "\n",
        "# Carregando os dados\n",
        "arquivo = 'pima-data.csv'\n",
        "colunas = ['preg', 'plas', 'pres', 'skin', 'test', 'mass', 'pedi', 'age', 'class']\n",
        "dados = read_csv(arquivo, names = colunas)\n",
        "array = dados.values\n",
        "\n",
        "# Separando o array em componentes de input e output\n",
        "X = array[:,0:8]\n",
        "Y = array[:,8]\n",
        "\n"
      ],
      "execution_count": 47,
      "outputs": []
    },
    {
      "cell_type": "markdown",
      "metadata": {
        "id": "i0gSVbcMlg1q"
      },
      "source": [
        "# 4° e 5° Construção e Avaliação da Máquina Preditiva"
      ]
    },
    {
      "cell_type": "code",
      "metadata": {
        "id": "g86MAwGplmcT"
      },
      "source": [
        "# Definindo os valores para os folds\n",
        "num_folds = 40\n",
        "seed = 7\n",
        "\n",
        "# Separando os dados em folds\n",
        "kfold = KFold(num_folds, True, random_state = seed)\n",
        "\n"
      ],
      "execution_count": 52,
      "outputs": []
    },
    {
      "cell_type": "code",
      "metadata": {
        "id": "Q_y27yWFbdER",
        "outputId": "c5c368d0-3099-4570-a363-7ba7ff52d1f1",
        "colab": {
          "base_uri": "https://localhost:8080/"
        }
      },
      "source": [
        "# Criando o modelo\n",
        "modelo = LogisticRegression()\n",
        "resultado = cross_val_score(modelo, X, Y, cv = kfold)\n",
        "\n",
        "# Usamos a média e o desvio padrão\n",
        "print(\"Acurácia Final: %.3f%%\" % (resultado.mean() * 100.0))"
      ],
      "execution_count": 53,
      "outputs": [
        {
          "output_type": "stream",
          "text": [
            "Acurácia Final: 77.480%\n"
          ],
          "name": "stdout"
        }
      ]
    },
    {
      "cell_type": "code",
      "metadata": {
        "id": "p2Twa7HmmldU",
        "outputId": "308bf256-328d-4e02-d41f-d83bab8948fd",
        "colab": {
          "base_uri": "https://localhost:8080/",
          "height": 304
        }
      },
      "source": [
        "from PIL import Image\n",
        "%matplotlib inline\n",
        "im = Image.open(\"res.PNG\")\n",
        "im.show()\n",
        "im"
      ],
      "execution_count": 38,
      "outputs": [
        {
          "output_type": "execute_result",
          "data": {
            "image/png": "[encoded data removed]",
            "text/plain": [
              "<PIL.PngImagePlugin.PngImageFile image mode=RGBA size=525x287 at 0x7FA4C90EE240>"
            ]
          },
          "metadata": {
            "tags": []
          },
          "execution_count": 38
        }
      ]
    },
    {
      "cell_type": "markdown",
      "metadata": {
        "id": "XTRc7NjBKG65"
      },
      "source": [
        "# Fim"
      ]
    },
    {
      "cell_type": "markdown",
      "metadata": {
        "id": "_fHqFSvWe94c"
      },
      "source": [
        "## Valeu!"
      ]
    },
    {
      "cell_type": "markdown",
      "metadata": {
        "id": "_2DT4SBZRDP-"
      },
      "source": [
        "### #Links - Ciência dos Dados <a href=\"https://linktr.ee/cienciadosdados\">https://linktr.ee/cienciadosdados</a>"
      ]
    },
    {
      "cell_type": "markdown",
      "metadata": {
        "id": "ThxYRK6DfJ3f"
      },
      "source": [
        "### #YouTube - Mais Aulas como essa no YouTube <a href=\"https://www.youtube.com/watch?v=IaIc5oHd3II&t=1569s\">https://www.youtube.com/watch?v=IaIc5oHd3II&t=1569s</a>"
      ]
    },
    {
      "cell_type": "code",
      "metadata": {
        "id": "_pg8zEm-Nv6Y",
        "outputId": "4fa5cc37-dbe6-480b-e32c-15d947f1d8eb",
        "colab": {
          "base_uri": "https://localhost:8080/",
          "height": 221
        }
      },
      "source": [
        "from IPython.core.display import HTML\n",
        "HTML('<iframe width=\"380\" height=\"200\" src=\"https://www.youtube.com/embed/q-7SbZpR1hQ\" frameborder=\"0\" allow=\"accelerometer; autoplay; clipboard-write; encrypted-media; gyroscope; picture-in-picture\" allowfullscreen></iframe>')"
      ],
      "execution_count": 35,
      "outputs": [
        {
          "output_type": "execute_result",
          "data": {
            "text/html": [
              "<iframe width=\"380\" height=\"200\" src=\"https://www.youtube.com/embed/q-7SbZpR1hQ\" frameborder=\"0\" allow=\"accelerometer; autoplay; clipboard-write; encrypted-media; gyroscope; picture-in-picture\" allowfullscreen></iframe>"
            ],
            "text/plain": [
              "<IPython.core.display.HTML object>"
            ]
          },
          "metadata": {
            "tags": []
          },
          "execution_count": 35
        }
      ]
    }
  ]
}