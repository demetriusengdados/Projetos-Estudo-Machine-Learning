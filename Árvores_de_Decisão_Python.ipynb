{
  "nbformat": 4,
  "nbformat_minor": 0,
  "metadata": {
    "anaconda-cloud": {},
    "kernelspec": {
      "display_name": "Python 3",
      "language": "python",
      "name": "python3"
    },
    "language_info": {
      "codemirror_mode": {
        "name": "ipython",
        "version": 3
      },
      "file_extension": ".py",
      "mimetype": "text/x-python",
      "name": "python",
      "nbconvert_exporter": "python",
      "pygments_lexer": "ipython3",
      "version": "3.7.4"
    },
    "colab": {
      "name": "Árvores_de_Decisão_Python.ipynb",
      "provenance": [],
      "collapsed_sections": []
    }
  },
  "cells": [
    {
      "cell_type": "markdown",
      "metadata": {
        "id": "ERxoVkA49oRo",
        "colab_type": "text"
      },
      "source": [
        "# <font color='PURPLE'>Ciência dos Dados </font>\n",
        "\n",
        "# <font color='blue'> Machine Learning - Decision Tree em Python</font>\n"
      ]
    },
    {
      "cell_type": "code",
      "metadata": {
        "id": "-NjkbprJ9oRw",
        "colab_type": "code",
        "colab": {}
      },
      "source": [
        "# Visualizar o Grafo (Decision Tree é Grafo Computacional)\n",
        "!pip install graphviz "
      ],
      "execution_count": null,
      "outputs": []
    },
    {
      "cell_type": "code",
      "metadata": {
        "id": "VSmK0a8z9oR0",
        "colab_type": "code",
        "colab": {}
      },
      "source": [
        "### Talvez seja necessário executar esse comando (CMD) para o windows\n",
        "!conda install python-graphviz\n",
        "\n",
        "# Documentação em http://www.graphviz.org"
      ],
      "execution_count": null,
      "outputs": []
    },
    {
      "cell_type": "code",
      "metadata": {
        "id": "5E9Ydb9R9oR4",
        "colab_type": "code",
        "colab": {}
      },
      "source": [
        "# Importando os módulos\n",
        "import pandas as pd\n",
        "from sklearn.tree import DecisionTreeClassifier\n",
        "from sklearn.tree import export_graphviz\n",
        "import graphviz"
      ],
      "execution_count": null,
      "outputs": []
    },
    {
      "cell_type": "code",
      "metadata": {
        "id": "ZVQ3_87Y9oR7",
        "colab_type": "code",
        "colab": {}
      },
      "source": [
        "# Criando o dataset\n",
        "instancias = [\n",
        "    {'Curado': False, 'Cloroquina': 'sim'},\n",
        "    {'Curado': True, 'Cloroquina': 'nao'},\n",
        "    {'Curado': True, 'Cloroquina': 'nao'},\n",
        "    {'Curado': True, 'Cloroquina': 'nao'},\n",
        "    {'Curado': False, 'Cloroquina': 'nao'},\n",
        "    {'Curado': True, 'Cloroquina': 'nao'},\n",
        "    {'Curado': True, 'Cloroquina': 'nao'},\n",
        "    {'Curado': False, 'Cloroquina': 'sim'},\n",
        "    {'Curado': True, 'Cloroquina': 'nao'},\n",
        "    {'Curado': False, 'Cloroquina': 'sim'},\n",
        "    {'Curado': False, 'Cloroquina': 'sim'},\n",
        "    {'Curado': False, 'Cloroquina': 'nao'},\n",
        "    {'Curado': True, 'Cloroquina': 'nao'},\n",
        "    {'Curado': True, 'Cloroquina': 'sim'}\n",
        "]"
      ],
      "execution_count": null,
      "outputs": []
    },
    {
      "cell_type": "code",
      "metadata": {
        "id": "FfdoROaQ9oR-",
        "colab_type": "code",
        "colab": {}
      },
      "source": [
        "# Transformando o Ddicionário em DataFrame\n",
        "df = pd.DataFrame(instancias)"
      ],
      "execution_count": null,
      "outputs": []
    },
    {
      "cell_type": "code",
      "metadata": {
        "id": "ZS5edCD29oSB",
        "colab_type": "code",
        "colab": {}
      },
      "source": [
        "df"
      ],
      "execution_count": null,
      "outputs": []
    },
    {
      "cell_type": "code",
      "metadata": {
        "id": "DHLlak0b9oSG",
        "colab_type": "code",
        "colab": {}
      },
      "source": [
        "# Preparando os dados de treino \n",
        "# Transformando Variáveis...Tipo o Case When no Curso de SAS\n",
        "\n",
        "X_train = [[1] if a else [0] for a in df['Curado']]       \n",
        "y_train = [1 if d == 'sim' else 0 for d in df['Cloroquina']]\n",
        "labels = ['Cloroquina']\n",
        "\n",
        "#OBS: Como o objetivo é mostrar como se constrói uma Árvore de Decisão, não vamos usar dados de TESTE....Só base de de Treino  "
      ],
      "execution_count": null,
      "outputs": []
    },
    {
      "cell_type": "code",
      "metadata": {
        "id": "jFl1UdSO9oSK",
        "colab_type": "code",
        "colab": {}
      },
      "source": [
        "print(X_train)"
      ],
      "execution_count": null,
      "outputs": []
    },
    {
      "cell_type": "code",
      "metadata": {
        "id": "pXo1sPbJ9oSN",
        "colab_type": "code",
        "colab": {}
      },
      "source": [
        "print(y_train)"
      ],
      "execution_count": null,
      "outputs": []
    },
    {
      "cell_type": "code",
      "metadata": {
        "id": "oVKvL5Ya9oSQ",
        "colab_type": "code",
        "colab": {}
      },
      "source": [
        "# Construindo o Classificador Baseado em Entropia (Ganho de Informação)\n",
        "# http://scikit-learn.org/stable/modules/generated/sklearn.tree.DecisionTreeClassifier.html\n",
        "modelo_v1 = DecisionTreeClassifier(max_depth = None, \n",
        "                                   max_features = None, \n",
        "                                   criterion = 'entropy', \n",
        "                                   min_samples_leaf = 1, \n",
        "                                   min_samples_split = 2)"
      ],
      "execution_count": null,
      "outputs": []
    },
    {
      "cell_type": "code",
      "metadata": {
        "id": "W-xVfdFm9oST",
        "colab_type": "code",
        "colab": {}
      },
      "source": [
        "# Apresentando os dados ao Classificador\n",
        "modelo_v1.fit(X_train, y_train)"
      ],
      "execution_count": null,
      "outputs": []
    },
    {
      "cell_type": "markdown",
      "metadata": {
        "id": "DSmZkA9e6NZm",
        "colab_type": "text"
      },
      "source": [
        "## Hiper-parâmetros. \n",
        "\n",
        "### Max_Depth\n",
        "\n",
        "Quando temos muitas variáveis de entrada,  temos que delimitar a profundidade da árvore para evitar o OVERFITING (modelo fica viciado nos dados de treino e só acerta o gabarito...quando passa novos dados ele erra muito).\n",
        "\n",
        "Para isso, usamos o hiperparâmetro \"max_depth\", que nosso caso foi usado como default \"max_depth=None\"  (temos só 1 variável...)\n",
        "\n",
        "### Max_Features\n",
        "\n",
        "Por meio desse hiperparâmetro a gente delimita a quantidade de variáveis e faz agrupamento no caso de haver muitas variáveis explicativas\n",
        "\n",
        "No nosso modelo foi usado o default \"max_features=None\"...\n",
        "\n",
        "Eduardo, qual o valor do hiperparâmetro do modelo a gente deve usar?\n",
        "R: Existem técnicas de \"tunagem\" de hiperparâmetros como \"Grid Search\", por exemplo..."
      ]
    },
    {
      "cell_type": "code",
      "metadata": {
        "id": "gJ_I-dbB9oSX",
        "colab_type": "code",
        "colab": {}
      },
      "source": [
        "# Definindo o nome do arquivo com a árvore de decisão\n",
        "arquivo = '/content/sample_data/tree_modelo_v1.dot'"
      ],
      "execution_count": null,
      "outputs": []
    },
    {
      "cell_type": "code",
      "metadata": {
        "id": "t1baI1xd9oSZ",
        "colab_type": "code",
        "colab": {
          "base_uri": "https://localhost:8080/",
          "height": 241
        },
        "outputId": "14324211-2450-457e-deaf-a58c2a4ffee9"
      },
      "source": [
        "# Gerando o gráfico da árvore de decisão\n",
        "export_graphviz(modelo_v1, out_file = arquivo, feature_names = labels)\n",
        "with open(arquivo) as f:\n",
        "    dot_graph = f.read()\n",
        "graphviz.Source(dot_graph)"
      ],
      "execution_count": null,
      "outputs": [
        {
          "output_type": "execute_result",
          "data": {
            "text/plain": [
              "<graphviz.files.Source at 0x7f6cd8772978>"
            ],
            "image/svg+xml": "<?xml version=\"1.0\" encoding=\"UTF-8\" standalone=\"no\"?>\n<!DOCTYPE svg PUBLIC \"-//W3C//DTD SVG 1.1//EN\"\n \"http://www.w3.org/Graphics/SVG/1.1/DTD/svg11.dtd\">\n<!-- Generated by graphviz version 2.40.1 (20161225.0304)\n -->\n<!-- Title: Tree Pages: 1 -->\n<svg width=\"246pt\" height=\"165pt\"\n viewBox=\"0.00 0.00 246.00 165.00\" xmlns=\"http://www.w3.org/2000/svg\" xmlns:xlink=\"http://www.w3.org/1999/xlink\">\n<g id=\"graph0\" class=\"graph\" transform=\"scale(1 1) rotate(0) translate(4 161)\">\n<title>Tree</title>\n<polygon fill=\"#ffffff\" stroke=\"transparent\" points=\"-4,4 -4,-161 242,-161 242,4 -4,4\"/>\n<!-- 0 -->\n<g id=\"node1\" class=\"node\">\n<title>0</title>\n<polygon fill=\"none\" stroke=\"#000000\" points=\"181.5,-157 56.5,-157 56.5,-89 181.5,-89 181.5,-157\"/>\n<text text-anchor=\"middle\" x=\"119\" y=\"-141.8\" font-family=\"Times,serif\" font-size=\"14.00\" fill=\"#000000\">Cloroquina &lt;= 0.5</text>\n<text text-anchor=\"middle\" x=\"119\" y=\"-126.8\" font-family=\"Times,serif\" font-size=\"14.00\" fill=\"#000000\">entropy = 0.94</text>\n<text text-anchor=\"middle\" x=\"119\" y=\"-111.8\" font-family=\"Times,serif\" font-size=\"14.00\" fill=\"#000000\">samples = 14</text>\n<text text-anchor=\"middle\" x=\"119\" y=\"-96.8\" font-family=\"Times,serif\" font-size=\"14.00\" fill=\"#000000\">value = [9, 5]</text>\n</g>\n<!-- 1 -->\n<g id=\"node2\" class=\"node\">\n<title>1</title>\n<polygon fill=\"none\" stroke=\"#000000\" points=\"110,-53 0,-53 0,0 110,0 110,-53\"/>\n<text text-anchor=\"middle\" x=\"55\" y=\"-37.8\" font-family=\"Times,serif\" font-size=\"14.00\" fill=\"#000000\">entropy = 0.918</text>\n<text text-anchor=\"middle\" x=\"55\" y=\"-22.8\" font-family=\"Times,serif\" font-size=\"14.00\" fill=\"#000000\">samples = 6</text>\n<text text-anchor=\"middle\" x=\"55\" y=\"-7.8\" font-family=\"Times,serif\" font-size=\"14.00\" fill=\"#000000\">value = [2, 4]</text>\n</g>\n<!-- 0&#45;&gt;1 -->\n<g id=\"edge1\" class=\"edge\">\n<title>0&#45;&gt;1</title>\n<path fill=\"none\" stroke=\"#000000\" d=\"M96.436,-88.9777C90.6059,-80.187 84.3169,-70.7044 78.443,-61.8477\"/>\n<polygon fill=\"#000000\" stroke=\"#000000\" points=\"81.1838,-59.6478 72.7399,-53.2485 75.3502,-63.5167 81.1838,-59.6478\"/>\n<text text-anchor=\"middle\" x=\"67.7783\" y=\"-74.0512\" font-family=\"Times,serif\" font-size=\"14.00\" fill=\"#000000\">True</text>\n</g>\n<!-- 2 -->\n<g id=\"node3\" class=\"node\">\n<title>2</title>\n<polygon fill=\"none\" stroke=\"#000000\" points=\"238,-53 128,-53 128,0 238,0 238,-53\"/>\n<text text-anchor=\"middle\" x=\"183\" y=\"-37.8\" font-family=\"Times,serif\" font-size=\"14.00\" fill=\"#000000\">entropy = 0.544</text>\n<text text-anchor=\"middle\" x=\"183\" y=\"-22.8\" font-family=\"Times,serif\" font-size=\"14.00\" fill=\"#000000\">samples = 8</text>\n<text text-anchor=\"middle\" x=\"183\" y=\"-7.8\" font-family=\"Times,serif\" font-size=\"14.00\" fill=\"#000000\">value = [7, 1]</text>\n</g>\n<!-- 0&#45;&gt;2 -->\n<g id=\"edge2\" class=\"edge\">\n<title>0&#45;&gt;2</title>\n<path fill=\"none\" stroke=\"#000000\" d=\"M141.564,-88.9777C147.3941,-80.187 153.6831,-70.7044 159.557,-61.8477\"/>\n<polygon fill=\"#000000\" stroke=\"#000000\" points=\"162.6498,-63.5167 165.2601,-53.2485 156.8162,-59.6478 162.6498,-63.5167\"/>\n<text text-anchor=\"middle\" x=\"170.2217\" y=\"-74.0512\" font-family=\"Times,serif\" font-size=\"14.00\" fill=\"#000000\">False</text>\n</g>\n</g>\n</svg>\n"
          },
          "metadata": {
            "tags": []
          },
          "execution_count": 17
        }
      ]
    },
    {
      "cell_type": "markdown",
      "metadata": {
        "id": "PRjyuim_5jS1",
        "colab_type": "text"
      },
      "source": [
        "O agrupamento com 9 e 5 foi o que apresentou  MELHOR ENTROPIA, portanto maior ganho de informação. Portanto ele fica no TOPO da hierarquia da Decision Tree.\n",
        "Isso é exatamente o que o algoritmo faz: Ele percorre os exemplos de dados, faz o cálculo da entropia, e então faz a melhor combinação...o atributo que tem a melhor entropia vai para o TOPO....Então ele vai criando os níveis da Árvore..."
      ]
    },
    {
      "cell_type": "code",
      "metadata": {
        "id": "34OhPyzs9oSf",
        "colab_type": "code",
        "colab": {}
      },
      "source": [
        "# Construindo o Classificador Baseado no índice Gini\n",
        "# http://scikit-learn.org/stable/modules/generated/sklearn.tree.DecisionTreeClassifier.html\n",
        "modelo_v2 = DecisionTreeClassifier(max_depth = None, \n",
        "                                   max_features = None, \n",
        "                                   min_samples_leaf = 1, \n",
        "                                   min_samples_split = 2)"
      ],
      "execution_count": null,
      "outputs": []
    },
    {
      "cell_type": "code",
      "metadata": {
        "id": "RMJvvQHD9oSi",
        "colab_type": "code",
        "colab": {
          "base_uri": "https://localhost:8080/",
          "height": 126
        },
        "outputId": "f42dd273-c292-449f-b403-e20faf362bd8"
      },
      "source": [
        "# Apresentando os dados ao Classificador\n",
        "modelo_v2.fit(X_train, y_train)"
      ],
      "execution_count": null,
      "outputs": [
        {
          "output_type": "execute_result",
          "data": {
            "text/plain": [
              "DecisionTreeClassifier(ccp_alpha=0.0, class_weight=None, criterion='gini',\n",
              "                       max_depth=None, max_features=None, max_leaf_nodes=None,\n",
              "                       min_impurity_decrease=0.0, min_impurity_split=None,\n",
              "                       min_samples_leaf=1, min_samples_split=2,\n",
              "                       min_weight_fraction_leaf=0.0, presort='deprecated',\n",
              "                       random_state=None, splitter='best')"
            ]
          },
          "metadata": {
            "tags": []
          },
          "execution_count": 19
        }
      ]
    },
    {
      "cell_type": "code",
      "metadata": {
        "id": "N4hV5moe9oSl",
        "colab_type": "code",
        "colab": {}
      },
      "source": [
        "# Definindo o nome do arquivo com a árvore de decisão\n",
        "arquivo = '/content/sample_data/tree_modelo_v2.dot'"
      ],
      "execution_count": null,
      "outputs": []
    },
    {
      "cell_type": "code",
      "metadata": {
        "id": "tuBAhD0f9oSn",
        "colab_type": "code",
        "colab": {
          "base_uri": "https://localhost:8080/",
          "height": 241
        },
        "outputId": "3b49608b-74c0-4c93-e156-3b7e5237082d"
      },
      "source": [
        "# Gerando o gráfico da árvore de decisão\n",
        "export_graphviz(modelo_v2, out_file = arquivo, feature_names = labels)\n",
        "with open(arquivo) as f:\n",
        "    dot_graph = f.read()\n",
        "graphviz.Source(dot_graph)"
      ],
      "execution_count": null,
      "outputs": [
        {
          "output_type": "execute_result",
          "data": {
            "text/plain": [
              "<graphviz.files.Source at 0x7f6cd8772630>"
            ],
            "image/svg+xml": "<?xml version=\"1.0\" encoding=\"UTF-8\" standalone=\"no\"?>\n<!DOCTYPE svg PUBLIC \"-//W3C//DTD SVG 1.1//EN\"\n \"http://www.w3.org/Graphics/SVG/1.1/DTD/svg11.dtd\">\n<!-- Generated by graphviz version 2.40.1 (20161225.0304)\n -->\n<!-- Title: Tree Pages: 1 -->\n<svg width=\"216pt\" height=\"165pt\"\n viewBox=\"0.00 0.00 216.00 165.00\" xmlns=\"http://www.w3.org/2000/svg\" xmlns:xlink=\"http://www.w3.org/1999/xlink\">\n<g id=\"graph0\" class=\"graph\" transform=\"scale(1 1) rotate(0) translate(4 161)\">\n<title>Tree</title>\n<polygon fill=\"#ffffff\" stroke=\"transparent\" points=\"-4,4 -4,-161 212,-161 212,4 -4,4\"/>\n<!-- 0 -->\n<g id=\"node1\" class=\"node\">\n<title>0</title>\n<polygon fill=\"none\" stroke=\"#000000\" points=\"166,-157 41,-157 41,-89 166,-89 166,-157\"/>\n<text text-anchor=\"middle\" x=\"103.5\" y=\"-141.8\" font-family=\"Times,serif\" font-size=\"14.00\" fill=\"#000000\">Cloroquina &lt;= 0.5</text>\n<text text-anchor=\"middle\" x=\"103.5\" y=\"-126.8\" font-family=\"Times,serif\" font-size=\"14.00\" fill=\"#000000\">gini = 0.459</text>\n<text text-anchor=\"middle\" x=\"103.5\" y=\"-111.8\" font-family=\"Times,serif\" font-size=\"14.00\" fill=\"#000000\">samples = 14</text>\n<text text-anchor=\"middle\" x=\"103.5\" y=\"-96.8\" font-family=\"Times,serif\" font-size=\"14.00\" fill=\"#000000\">value = [9, 5]</text>\n</g>\n<!-- 1 -->\n<g id=\"node2\" class=\"node\">\n<title>1</title>\n<polygon fill=\"none\" stroke=\"#000000\" points=\"95,-53 0,-53 0,0 95,0 95,-53\"/>\n<text text-anchor=\"middle\" x=\"47.5\" y=\"-37.8\" font-family=\"Times,serif\" font-size=\"14.00\" fill=\"#000000\">gini = 0.444</text>\n<text text-anchor=\"middle\" x=\"47.5\" y=\"-22.8\" font-family=\"Times,serif\" font-size=\"14.00\" fill=\"#000000\">samples = 6</text>\n<text text-anchor=\"middle\" x=\"47.5\" y=\"-7.8\" font-family=\"Times,serif\" font-size=\"14.00\" fill=\"#000000\">value = [2, 4]</text>\n</g>\n<!-- 0&#45;&gt;1 -->\n<g id=\"edge1\" class=\"edge\">\n<title>0&#45;&gt;1</title>\n<path fill=\"none\" stroke=\"#000000\" d=\"M83.7565,-88.9777C78.7083,-80.2786 73.2669,-70.9018 68.1734,-62.1247\"/>\n<polygon fill=\"#000000\" stroke=\"#000000\" points=\"71.0689,-60.1409 63.0224,-53.2485 65.0145,-63.6544 71.0689,-60.1409\"/>\n<text text-anchor=\"middle\" x=\"56.6055\" y=\"-73.7109\" font-family=\"Times,serif\" font-size=\"14.00\" fill=\"#000000\">True</text>\n</g>\n<!-- 2 -->\n<g id=\"node3\" class=\"node\">\n<title>2</title>\n<polygon fill=\"none\" stroke=\"#000000\" points=\"208,-53 113,-53 113,0 208,0 208,-53\"/>\n<text text-anchor=\"middle\" x=\"160.5\" y=\"-37.8\" font-family=\"Times,serif\" font-size=\"14.00\" fill=\"#000000\">gini = 0.219</text>\n<text text-anchor=\"middle\" x=\"160.5\" y=\"-22.8\" font-family=\"Times,serif\" font-size=\"14.00\" fill=\"#000000\">samples = 8</text>\n<text text-anchor=\"middle\" x=\"160.5\" y=\"-7.8\" font-family=\"Times,serif\" font-size=\"14.00\" fill=\"#000000\">value = [7, 1]</text>\n</g>\n<!-- 0&#45;&gt;2 -->\n<g id=\"edge2\" class=\"edge\">\n<title>0&#45;&gt;2</title>\n<path fill=\"none\" stroke=\"#000000\" d=\"M123.5961,-88.9777C128.7344,-80.2786 134.273,-70.9018 139.4575,-62.1247\"/>\n<polygon fill=\"#000000\" stroke=\"#000000\" points=\"142.6281,-63.6387 144.7004,-53.2485 136.601,-60.0786 142.6281,-63.6387\"/>\n<text text-anchor=\"middle\" x=\"150.9306\" y=\"-73.7597\" font-family=\"Times,serif\" font-size=\"14.00\" fill=\"#000000\">False</text>\n</g>\n</g>\n</svg>\n"
          },
          "metadata": {
            "tags": []
          },
          "execution_count": 21
        }
      ]
    },
    {
      "cell_type": "markdown",
      "metadata": {
        "id": "6OKXiFbw4YBw",
        "colab_type": "text"
      },
      "source": [
        "O agrupamento com 9 e 5 foi o que apresentou  MELHOR GINI. Portanto ele fica no TOPO da hierarquia da Decision Tree.Isso é exatamente o que o algoritmo faz: Ele percorre os exemplos de dados, faz o cálculo do maior gini, e então faz a melhor combinação...o atributo que tem o maior gini vai para o TOPO....Então ele vai criando os níveis da Árvore..."
      ]
    },
    {
      "cell_type": "markdown",
      "metadata": {
        "id": "ctmLojFD9oSu",
        "colab_type": "text"
      },
      "source": [
        "# Fim \n",
        "# TamoJunto"
      ]
    },
    {
      "cell_type": "markdown",
      "metadata": {
        "id": "32IWOsJd9oSv",
        "colab_type": "text"
      },
      "source": [
        "### Facebook -  Ciência dos Dados - <a href=\"http://facebook.com/dsacademybr\">facebook.com/cienciadosdadosbr</a>"
      ]
    },
    {
      "cell_type": "markdown",
      "metadata": {
        "colab_type": "text",
        "id": "UcLdsjkKEZO3"
      },
      "source": [
        "### #**Telegram** - Scripts e Datasets - Comunidade Telegram <a href=\"https://t.me/cienciadosdados\">https://t.me/cienciadosdados</a>"
      ]
    },
    {
      "cell_type": "markdown",
      "metadata": {
        "colab_type": "text",
        "id": "GSn9GBmuEeJ1"
      },
      "source": [
        "### #YouTube - Mais Aulas como essa no YouTube <a href=\"https://www.youtube.com/watch?v=IaIc5oHd3II&t=1569s\">https://www.youtube.com/watch?v=IaIc5oHd3II&t=1569s</a>"
      ]
    }
  ]
}