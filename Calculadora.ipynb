{
 "cells": [
  {
   "cell_type": "code",
   "execution_count": 1,
   "metadata": {},
   "outputs": [],
   "source": [
    "import tkinter as tk\n",
    "from tkinter import ttk"
   ]
  },
  {
   "cell_type": "code",
   "execution_count": 2,
   "metadata": {},
   "outputs": [],
   "source": [
    "exp = \"\""
   ]
  },
  {
   "cell_type": "code",
   "execution_count": 3,
   "metadata": {},
   "outputs": [],
   "source": [
    "def press(num):\n",
    "    global exp\n",
    "    exp += str(num)\n",
    "    equation.set(exp)"
   ]
  },
  {
   "cell_type": "code",
   "execution_count": 4,
   "metadata": {},
   "outputs": [],
   "source": [
    "def equalpress():\n",
    "    try:\n",
    "        global exp\n",
    "        total = str(eval(exp))\n",
    "        equation.set(total)\n",
    "        exp = \" \"\n",
    "    except:\n",
    "        equation.set('error')\n",
    "        exp = \" \""
   ]
  },
  {
   "cell_type": "code",
   "execution_count": 5,
   "metadata": {},
   "outputs": [],
   "source": [
    "def clear():\n",
    "    global exp\n",
    "    exp = \" \"\n",
    "    equation.set(\" \")"
   ]
  },
  {
   "cell_type": "code",
   "execution_count": 11,
   "metadata": {},
   "outputs": [],
   "source": [
    "if __name__ == \"__main__\":\n",
    "    root = tk.tk()\n",
    "    root.title('Calculadora')\n",
    "    root.iconbitmap('C:\\\\Users\\\\Desktop\\\\Betaprogramer\\\\xalculator.ico') #caminho do icone\n",
    "    root.geometry('258x170')\n",
    "    root.maxsize(width = 258, height = 170)\n",
    "    root.configure(bg = 'blue')"
   ]
  },
  {
   "cell_type": "code",
   "execution_count": null,
   "metadata": {},
   "outputs": [],
   "source": [
    "equation = tk.StringVar()\n",
    "dis_entry = ttk.Entry(rot,width = 40, state = 'readonly',\n",
    "                     background = 'red', textvariable = equation)\n",
    "dis_entry.grid(row = 0, columnspan = 10, ipadx = 6, ipady = 8)\n",
    "dis_entry.focus()"
   ]
  },
  {
   "cell_type": "code",
   "execution_count": null,
   "metadata": {},
   "outputs": [],
   "source": [
    "btn7 = ttk.Button(root, text = '7', width = 5, command = lambda : press(7))\n",
    "btn7.grid(row = 1, column = 0, ipady = 4, ipadx = 2)"
   ]
  },
  {
   "cell_type": "code",
   "execution_count": null,
   "metadata": {},
   "outputs": [],
   "source": [
    "btn8 = ttk.Button(root, text = '8', width = 5, command = lambda : press(8))\n",
    "btn8.grid(row = 1, column = 1, ipady = 4, ipadx = 2)"
   ]
  },
  {
   "cell_type": "code",
   "execution_count": null,
   "metadata": {},
   "outputs": [],
   "source": [
    "btn9 = ttk.Button(root, text = '9', width = 5, command = lambda : press(9))\n",
    "btn7.grid(row = 1, column = 2, ipady = 4, ipadx = 2)"
   ]
  },
  {
   "cell_type": "code",
   "execution_count": null,
   "metadata": {},
   "outputs": [],
   "source": [
    "btnmines = ttk.Button(root, text = '-', width = 8, command = lambda : press('-'))\n",
    "btnmines.grid(row = 1, column = 3, ipady = 3, ipadx = 2)"
   ]
  },
  {
   "cell_type": "code",
   "execution_count": null,
   "metadata": {},
   "outputs": [],
   "source": [
    "btnmul = ttk.Button(root, text = '*', width = 8, command = lambda : press(\"*\"))\n",
    "btnmul.grid(row = 1, column = 4, ipady = 3, ipadx = 2)"
   ]
  },
  {
   "cell_type": "code",
   "execution_count": null,
   "metadata": {},
   "outputs": [],
   "source": [
    "btn4 = ttk.Button(root, text = '4', width = 5, command = lambda : press(4))\n",
    "btn4.grid(row = 2, column = 0, ipady = 4, ipadx = 2)"
   ]
  },
  {
   "cell_type": "code",
   "execution_count": null,
   "metadata": {},
   "outputs": [],
   "source": [
    "btn5 = ttk.Button(root, text = '5', width = 5, command = lambda : press(5))\n",
    "btn5.grid(row = 2, column = 0, ipady = 4, ipadx = 2)"
   ]
  },
  {
   "cell_type": "code",
   "execution_count": null,
   "metadata": {},
   "outputs": [],
   "source": [
    "btn6 = ttk.Button(root, text = '6', width = 5, command = lambda : press(6))\n",
    "btn6.grid(row = 2, column = 0, ipady = 4, ipadx = 2)"
   ]
  },
  {
   "cell_type": "code",
   "execution_count": null,
   "metadata": {},
   "outputs": [],
   "source": [
    "btnplus = ttk.Button(root, text = '+', width = 5, command = lambda : press(\"+\"))\n",
    "btnplus.grid(row = 2, column = 4, ipady = 4, ipadx = 16)"
   ]
  },
  {
   "cell_type": "code",
   "execution_count": null,
   "metadata": {},
   "outputs": [],
   "source": [
    "btndiv = ttk.Button(root, text = '/', width = 5, command = lambda : press(\"/\"))\n",
    "btndiv.grid(row = 2, column = 4, ipady = 4, ipadx = 10)"
   ]
  },
  {
   "cell_type": "code",
   "execution_count": null,
   "metadata": {},
   "outputs": [],
   "source": [
    "btnequal = ttk.Button(root, text = 'Enter', width = 5, command = equalpress)\n",
    "btnequal.grid (row = 3, column = 4, ipady = 4, ipadx = 10)"
   ]
  },
  {
   "cell_type": "code",
   "execution_count": null,
   "metadata": {},
   "outputs": [],
   "source": [
    "btn0 = ttk.Button(root, text = '0', width = 5, command = lambda : press(0))\n",
    "btn0.grid(row = 3, column = 3, ipady = 4, ipadx = 10)"
   ]
  },
  {
   "cell_type": "code",
   "execution_count": null,
   "metadata": {},
   "outputs": [],
   "source": [
    "btn3 = ttk.Button(root, text = '3', width = 5, command = lambda : press(3))\n",
    "btn3.grid(row = 3, column = 0, ipady = 4, ipadx = 2)"
   ]
  },
  {
   "cell_type": "code",
   "execution_count": null,
   "metadata": {},
   "outputs": [],
   "source": [
    "btn2 = ttk.Button(root, text = '2', width = 5, command = lambda : press(2))\n",
    "btn2.grid(row = 3, column = 1, ipady = 4, ipadx = 2)"
   ]
  },
  {
   "cell_type": "code",
   "execution_count": null,
   "metadata": {},
   "outputs": [],
   "source": [
    "btn1 = ttk.Button(root, text = '1', width = 5, command = lambda : press(1))\n",
    "btn1.grid(row = 3, column = 2, ipady = 4, ipadx = 2)"
   ]
  },
  {
   "cell_type": "code",
   "execution_count": null,
   "metadata": {},
   "outputs": [],
   "source": [
    "btnclr = ttk.Button(root, text = 'Clear', width = 5, command = clear)\n",
    "btnclr.grid(row = 4, columnspan = 6, ipady = 4, ipadx = 108)"
   ]
  },
  {
   "cell_type": "code",
   "execution_count": null,
   "metadata": {},
   "outputs": [],
   "source": [
    "root.mainloop()"
   ]
  }
 ],
 "metadata": {
  "kernelspec": {
   "display_name": "Python 3",
   "language": "python",
   "name": "python3"
  },
  "language_info": {
   "codemirror_mode": {
    "name": "ipython",
    "version": 3
   },
   "file_extension": ".py",
   "mimetype": "text/x-python",
   "name": "python",
   "nbconvert_exporter": "python",
   "pygments_lexer": "ipython3",
   "version": "3.8.5"
  }
 },
 "nbformat": 4,
 "nbformat_minor": 4
}
