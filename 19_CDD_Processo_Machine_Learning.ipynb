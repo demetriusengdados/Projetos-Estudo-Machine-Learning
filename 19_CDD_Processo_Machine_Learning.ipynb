{
  "nbformat": 4,
  "nbformat_minor": 0,
  "metadata": {
    "anaconda-cloud": {},
    "kernelspec": {
      "display_name": "Python 3",
      "language": "python",
      "name": "python3"
    },
    "language_info": {
      "codemirror_mode": {
        "name": "ipython",
        "version": 3
      },
      "file_extension": ".py",
      "mimetype": "text/x-python",
      "name": "python",
      "nbconvert_exporter": "python",
      "pygments_lexer": "ipython3",
      "version": "3.7.3"
    },
    "colab": {
      "name": "19_CDD_Processo_Machine_Learning.ipynb",
      "provenance": [],
      "collapsed_sections": [
        "2EOt7JZoS7Q0",
        "phLl9u12S7Q3",
        "Ay8v6V6-S7RE",
        "eBJPX6LGS7Sb",
        "PBnlv8QzS7Sg",
        "40DhT47yS7Sl",
        "-nj-CYSnS7Sy",
        "Yfm5YFwLS7TG",
        "iGiDrHe_S7TQ",
        "crzvc1HnS7TQ"
      ]
    }
  },
  "cells": [
    {
      "cell_type": "markdown",
      "metadata": {
        "id": "Jl1gLqPqS7Qo",
        "colab_type": "text"
      },
      "source": [
        "# <font color='purple'>Ciência dos Dados na Prática</font>\n",
        "\n",
        "\n"
      ]
    },
    {
      "cell_type": "markdown",
      "metadata": {
        "id": "8uV5e4LUS7Qq",
        "colab_type": "text"
      },
      "source": [
        "## <font color='blue'>Processo de Machine Learning - Previsão de Diabetes</font>\n"
      ]
    },
    {
      "cell_type": "code",
      "metadata": {
        "id": "dhP7SNTlhBWi",
        "colab_type": "code",
        "colab": {}
      },
      "source": [
        "from PIL import Image\n",
        "%matplotlib inline\n",
        "im = Image.open(\"/content/processo.JPG\")\n",
        "im.show()\n",
        "im \n"
      ],
      "execution_count": 0,
      "outputs": []
    },
    {
      "cell_type": "markdown",
      "metadata": {
        "id": "2EOt7JZoS7Q0",
        "colab_type": "text"
      },
      "source": [
        "## 1. Definição do Problema de Negócio"
      ]
    },
    {
      "cell_type": "markdown",
      "metadata": {
        "id": "aC8RH9H1S7Q0",
        "colab_type": "text"
      },
      "source": [
        "Vamos criar um modelo preditivo que seja capaz de **prever se uma pessoa pode ou não desenvolver diabetes**. Para isso, usaremos dados históricos de pacientes, disponíveis no dataset abaixo."
      ]
    },
    {
      "cell_type": "markdown",
      "metadata": {
        "id": "12uEf5HmS7Q1",
        "colab_type": "text"
      },
      "source": [
        "Dataset: Pima Indians Diabetes Data Set\n",
        "http://archive.ics.uci.edu/ml/datasets/diabetes"
      ]
    },
    {
      "cell_type": "markdown",
      "metadata": {
        "id": "95qIYvqWS7Q2",
        "colab_type": "text"
      },
      "source": [
        "Este dataset descreve os registros médicos entre pacientes do Pima Indians e cada registro está marcado se o paciente desenvolveu ou não diabetes. "
      ]
    },
    {
      "cell_type": "markdown",
      "metadata": {
        "id": "sPJGPc0TS7Q3",
        "colab_type": "text"
      },
      "source": [
        "### Informações sobre os atributos:\n",
        "\n",
        "1. Number of times pregnant \n",
        "2. Plasma glucose concentration a 2 hours in an oral glucose tolerance test \n",
        "3. Diastolic blood pressure (mm Hg) \n",
        "4. Triceps skin fold thickness (mm) \n",
        "5. 2-Hour serum insulin (mu U/ml) \n",
        "6. Body mass index (weight in kg/(height in m)^2) \n",
        "7. Diabetes pedigree function \n",
        "8. Age (years) \n",
        "9. Class variable (0 or 1) "
      ]
    },
    {
      "cell_type": "markdown",
      "metadata": {
        "id": "phLl9u12S7Q3",
        "colab_type": "text"
      },
      "source": [
        "##2.  Extraindo e Carregando os Dados"
      ]
    },
    {
      "cell_type": "markdown",
      "metadata": {
        "id": "OZ1pS5vMS7Q4",
        "colab_type": "text"
      },
      "source": [
        "Existem diversas considerações ao se carregar dados para o processo de Machine Learning. Por exemplo: seus dados possuem um header (cabeçalho)? Caso negativo, você vai precisar definir o título para cada coluna. Seus arquivos possuem comentários? Qual o delimitador das colunas? Alguns dados estão entre aspas, simples ou duplas?"
      ]
    },
    {
      "cell_type": "code",
      "metadata": {
        "id": "pkb-x8yBS7Q8",
        "colab_type": "code",
        "colab": {}
      },
      "source": [
        "# Carregando arquivo csv usando Pandas\n",
        "import pandas as pd\n",
        "import warnings\n",
        "warnings.filterwarnings('ignore')\n",
        "\n",
        "\n",
        "arquivo = 'pima-data.csv'\n",
        "colunas = ['preg', 'plas', 'pres', 'skin', 'test', 'mass', 'pedi', 'age', 'class']\n",
        "dados = pd.read_csv(arquivo, names = colunas)\n",
        "print(dados.shape)"
      ],
      "execution_count": 0,
      "outputs": []
    },
    {
      "cell_type": "markdown",
      "metadata": {
        "id": "Ay8v6V6-S7RE",
        "colab_type": "text"
      },
      "source": [
        "## 3. Análise Exploratória de Dados"
      ]
    },
    {
      "cell_type": "markdown",
      "metadata": {
        "id": "ZFJeVKoSS7RF",
        "colab_type": "text"
      },
      "source": [
        "### Estatística Descritiva"
      ]
    },
    {
      "cell_type": "code",
      "metadata": {
        "id": "4ql6LakuS7RG",
        "colab_type": "code",
        "colab": {}
      },
      "source": [
        "# Visualizando as primeiras 20 linhas\n",
        "dados.head(20)"
      ],
      "execution_count": 0,
      "outputs": []
    },
    {
      "cell_type": "markdown",
      "metadata": {
        "id": "aqG0LxWLS7RK",
        "colab_type": "text"
      },
      "source": [
        "Se o número de linhas no seu arquivo for muito grande, o algoritmo pode levar muito tempo para ser treinado. Se o número de registros for muito pequeno, você pode não ter registros suficientes para treinar seu modelo.\n",
        "\n",
        "Se você tiver muitas colunas em seu arquivo, o algoritmo pode apresentar problemas de performance devido a alta dimensionalidade.\n",
        "\n",
        "A melhor solução vai depender de cada caso. Mas lembre-se: treine seu modelo em um subset do seu conjunto de dados maior e depois aplique o modelo a novos dados.\n"
      ]
    },
    {
      "cell_type": "code",
      "metadata": {
        "id": "lW6COvpiS7RL",
        "colab_type": "code",
        "colab": {}
      },
      "source": [
        "# Visualizando as dimensões\n",
        "dados.shape"
      ],
      "execution_count": 0,
      "outputs": []
    },
    {
      "cell_type": "markdown",
      "metadata": {
        "id": "ybJH4MmfS7RO",
        "colab_type": "text"
      },
      "source": [
        "O tipo dos dados é muito importante. Pode ser necessário converter strings, ou colunas com números inteiros podem representar variáveis categóricas ou valores ordinários."
      ]
    },
    {
      "cell_type": "code",
      "metadata": {
        "id": "NL-gk8DWS7RP",
        "colab_type": "code",
        "colab": {}
      },
      "source": [
        "# Tipo de dados de cada atributo\n",
        "dados.dtypes"
      ],
      "execution_count": 0,
      "outputs": []
    },
    {
      "cell_type": "code",
      "metadata": {
        "id": "vI5_2MEdS7RS",
        "colab_type": "code",
        "colab": {}
      },
      "source": [
        "# Sumário estatístico\n",
        "dados.describe()"
      ],
      "execution_count": 0,
      "outputs": []
    },
    {
      "cell_type": "markdown",
      "metadata": {
        "id": "_TPJED6yS7RV",
        "colab_type": "text"
      },
      "source": [
        "Em problemas de classificação pode ser necessário balancear as classes. Classes desbalanceadas (ou seja, volume maior de um dos tipos das classes) são comuns e precisam ser tratadas durante a fase de pré-processamento. Podemos ver abaixo que existe uma clara desproporção entre as classes 0 (não ocorrência de diabetes) e 1 (ocorrência de diabetes)."
      ]
    },
    {
      "cell_type": "code",
      "metadata": {
        "id": "GZsko0p2S7RW",
        "colab_type": "code",
        "colab": {}
      },
      "source": [
        "# Distribuição das classes\n",
        "dados.groupby('class').size()"
      ],
      "execution_count": 0,
      "outputs": []
    },
    {
      "cell_type": "markdown",
      "metadata": {
        "id": "QbJ8IpZrS7RZ",
        "colab_type": "text"
      },
      "source": [
        "A correlação é o relacionamento entre 2 variáveis. O método mais comum para calcular correlação é o método de Pearson, que assume uma distribuição normal dos dados. Correlação de -1 mostra uma correlação negativa, enquanto uma correlação de +1 mostra uma correlação positiva. Uma correlação igual a 0 mostra que não há relacionamento entre as variáveis.\n",
        "\n",
        "Alguns algoritmos como regressão linear e regressão logística podem apresentar problemas de performance se houver atributos altamente correlacionados (colineares)."
      ]
    },
    {
      "cell_type": "code",
      "metadata": {
        "id": "AMOV6w-8S7Ra",
        "colab_type": "code",
        "colab": {}
      },
      "source": [
        "# Correlação de Pearson\n",
        "dados.corr(method = 'pearson')"
      ],
      "execution_count": 0,
      "outputs": []
    },
    {
      "cell_type": "markdown",
      "metadata": {
        "id": "4j0UOP36S7Re",
        "colab_type": "text"
      },
      "source": [
        "Skew (ou simetria) se refere a distribuição dos dados que é assumida ser normal ou gaussiana (bell curve). Muitos algoritmos de Machine Learning consideram que os dados possuem uma distribuição normal. Conhecendo a simetria dos dados, permite que você faça uma preparação e entregue o que o algoritmo espera receber, aumentado desta forma a acurácia do modelo preditivo."
      ]
    },
    {
      "cell_type": "code",
      "metadata": {
        "id": "1jQieZ9IS7Re",
        "colab_type": "code",
        "colab": {}
      },
      "source": [
        "# Verificando o skew de cada atributo\n",
        "dados.skew()"
      ],
      "execution_count": 0,
      "outputs": []
    },
    {
      "cell_type": "markdown",
      "metadata": {
        "id": "VTACB_jfS7Rj",
        "colab_type": "text"
      },
      "source": [
        "### Visualização com Matplotlib"
      ]
    },
    {
      "cell_type": "code",
      "metadata": {
        "id": "fhjAMhTOS7Rk",
        "colab_type": "code",
        "colab": {}
      },
      "source": [
        "import matplotlib.pyplot as plt\n",
        "# Por se tratar de um conjunto de gráficos menores, pode ser mais interessante gerar os gráficos em janela separada\n",
        "%matplotlib inline"
      ],
      "execution_count": 0,
      "outputs": []
    },
    {
      "cell_type": "markdown",
      "metadata": {
        "id": "5Q0KcJHHS7Rn",
        "colab_type": "text"
      },
      "source": [
        "Com o histograma podemos rapidamente avaliar a distribuição de cada atributo. Os histogramas agrupam os dados em bins e fornecem uma contagem do número de observações em cada bin. Com o histograma, você pode rapidamente verificar a simetria dos dados e se eles estão em distribuição normal ou não. Isso também vai ajudar na identificação dos outliers.\n",
        "\n",
        "Podemos ver que os atributos age, pedi e test possuem uma distribuição exponencial. Podemos ver que as colunas mass e press possuem uma distribuição normal."
      ]
    },
    {
      "cell_type": "code",
      "metadata": {
        "id": "4xuUhMRjS7Ro",
        "colab_type": "code",
        "colab": {}
      },
      "source": [
        "# Histograma Univariado\n",
        "dados.hist()\n",
        "plt.show()"
      ],
      "execution_count": 0,
      "outputs": []
    },
    {
      "cell_type": "markdown",
      "metadata": {
        "id": "e5Ag491JS7Ru",
        "colab_type": "text"
      },
      "source": [
        "Os Density Plots são outra forma de visualizar a distribuição dos dados para cada atributo. O plot é como uma espécie de histograma abstrato com uma curva suave através do topo dos bins de um histograma. Pode ser mais fácil identificar a distribuição dos dados usando um density plot."
      ]
    },
    {
      "cell_type": "code",
      "metadata": {
        "id": "t_OVepVOS7Rv",
        "colab_type": "code",
        "colab": {}
      },
      "source": [
        "# Density Plot Univariado\n",
        "dados.plot(kind = 'density', subplots = True, layout = (3,3), sharex = False)\n",
        "plt.show()"
      ],
      "execution_count": 0,
      "outputs": []
    },
    {
      "cell_type": "markdown",
      "metadata": {
        "id": "8fyOYn1KS7Rz",
        "colab_type": "text"
      },
      "source": [
        "Com os boxplots também podemos revisar a distribuição dos dados para cada atributo. A linha no centro (vermelho) é o valor da mediana (quartil 50%), a linha abaixo é o quartil 25% e a linha acima o quartil 75%. O boxplot ajuda a ter uma ideia da dispersão dos dados e os possíveis outliers.\n",
        "\n",
        "Podemos ver que a dispersão dos dados é bem diferente entre os atributos. As colunas age, skin e test possuem uma simetria muito próxima a valores de dados menores."
      ]
    },
    {
      "cell_type": "code",
      "metadata": {
        "id": "ednpb5HxS7Rz",
        "colab_type": "code",
        "colab": {}
      },
      "source": [
        "# Box and Whisker Plots\n",
        "dados.plot(kind = 'box', subplots = True, layout = (3,3), sharex = False, sharey = False)\n",
        "plt.show()"
      ],
      "execution_count": 0,
      "outputs": []
    },
    {
      "cell_type": "code",
      "metadata": {
        "id": "-zEkii1OS7R3",
        "colab_type": "code",
        "colab": {}
      },
      "source": [
        "# Matriz de Correlação com nomes das variáveis\n",
        "correlations = dados.corr()\n",
        "\n",
        "# Plot\n",
        "import numpy as np\n",
        "fig = plt.figure()\n",
        "ax = fig.add_subplot(111)\n",
        "cax = ax.matshow(correlations, vmin = -1, vmax = 1)\n",
        "fig.colorbar(cax)\n",
        "ticks = np.arange(0, 9, 1)\n",
        "ax.set_xticks(ticks)\n",
        "ax.set_yticks(ticks)\n",
        "ax.set_xticklabels(colunas)\n",
        "ax.set_yticklabels(colunas)\n",
        "plt.show()"
      ],
      "execution_count": 0,
      "outputs": []
    },
    {
      "cell_type": "code",
      "metadata": {
        "id": "VxwItduzS7R7",
        "colab_type": "code",
        "colab": {}
      },
      "source": [
        "# Matriz de Correlação genérica\n",
        "correlations = dados.corr()\n",
        "\n",
        "# Plot\n",
        "fig = plt.figure()\n",
        "ax = fig.add_subplot(111)\n",
        "cax = ax.matshow(correlations, vmin = -1, vmax = 1)\n",
        "fig.colorbar(cax)\n",
        "plt.show()"
      ],
      "execution_count": 0,
      "outputs": []
    },
    {
      "cell_type": "markdown",
      "metadata": {
        "id": "BTRpr0CHS7R-",
        "colab_type": "text"
      },
      "source": [
        "Um scatterplot mostra o relacionamento entre duas variáveis como pontos em duas dimensões, sendo um eixo para cada variável. Podemos criar um scatterplot para cada par de variáveis em nosso dataset. A exemplo da matriz de correlação, o scatterplot matrix é simétrico."
      ]
    },
    {
      "cell_type": "code",
      "metadata": {
        "id": "ihRlsxZOS7R_",
        "colab_type": "code",
        "colab": {}
      },
      "source": [
        "# Scatter Plot \n",
        "from pandas.plotting import scatter_matrix\n",
        "scatter_matrix(dados)\n",
        "plt.show()"
      ],
      "execution_count": 0,
      "outputs": []
    },
    {
      "cell_type": "markdown",
      "metadata": {
        "id": "g750R4WvS7SD",
        "colab_type": "text"
      },
      "source": [
        "### Visualização com Seaborn"
      ]
    },
    {
      "cell_type": "code",
      "metadata": {
        "id": "1ZGGTuSWS7SE",
        "colab_type": "code",
        "colab": {}
      },
      "source": [
        "import seaborn as sns"
      ],
      "execution_count": 0,
      "outputs": []
    },
    {
      "cell_type": "code",
      "metadata": {
        "id": "AIdRd51dS7SH",
        "colab_type": "code",
        "colab": {}
      },
      "source": [
        "# Pairplot\n",
        "sns.pairplot(dados)"
      ],
      "execution_count": 0,
      "outputs": []
    },
    {
      "cell_type": "code",
      "metadata": {
        "id": "LmYaNcsDS7SN",
        "colab_type": "code",
        "colab": {}
      },
      "source": [
        "# Boxplot com orientação vertical\n",
        "sns.boxplot(data = dados, orient = \"v\")"
      ],
      "execution_count": 0,
      "outputs": []
    },
    {
      "cell_type": "code",
      "metadata": {
        "id": "MBuFt-A9S7SW",
        "colab_type": "code",
        "colab": {}
      },
      "source": [
        "from scipy import stats\n",
        "sns.distplot(dados.pedi, fit = stats.norm);"
      ],
      "execution_count": 0,
      "outputs": []
    },
    {
      "cell_type": "markdown",
      "metadata": {
        "id": "eN5MxQyGWB6K",
        "colab_type": "text"
      },
      "source": [
        "## <font color='black'>4. Pré-Processamento - Preparando os Dados para Machine Learning</font>\n",
        "\n",
        "Muitos algoritmos esperam receber os dados em um formato específico. É seu trabalho preparar os dados em uma estrutura que seja adequada ao algoritmo que você está utilizando.\n"
      ]
    },
    {
      "cell_type": "markdown",
      "metadata": {
        "id": "eBJPX6LGS7Sb",
        "colab_type": "text"
      },
      "source": [
        "## Normalização - Método 1"
      ]
    },
    {
      "cell_type": "markdown",
      "metadata": {
        "id": "MbLotZBxS7Sc",
        "colab_type": "text"
      },
      "source": [
        "https://scikit-learn.org/stable/modules/generated/sklearn.preprocessing.MinMaxScaler.html"
      ]
    },
    {
      "cell_type": "markdown",
      "metadata": {
        "id": "jxCgxiIWS7Sd",
        "colab_type": "text"
      },
      "source": [
        "E uma das primeiras tarefas dentro do pré-processamento, é colocar seus dados na mesma escala. Muitos algoritmos de Machine Learning vão se beneficiar disso e produzir resultados melhores. Esta etapa também é chamada de normalização e significa colocar os dados em uma escala com range entre 0 e 1. Isso é útil para a otimização, sendo usado no core dos algoritmos de Machine Learning, como gradient descent. Isso também é útil para algoritmos como regressão e redes neurais e algoritmos que usam medidas de distância, como KNN. O scikit-learn possui uma função para esta etapa, chamada MinMaxScaler()."
      ]
    },
    {
      "cell_type": "code",
      "metadata": {
        "id": "PR_VDPzWS7Sd",
        "colab_type": "code",
        "colab": {}
      },
      "source": [
        "# Transformando os dados para a mesma escala (entre 0 e 1)\n",
        "\n",
        "# Import dos módulos\n",
        "from pandas import read_csv\n",
        "from sklearn.preprocessing import MinMaxScaler\n",
        "\n",
        "# Carregando os dados\n",
        "arquivo = 'pima-data.csv'\n",
        "colunas = ['preg', 'plas', 'pres', 'skin', 'test', 'mass', 'pedi', 'age', 'class']\n",
        "dados = read_csv(arquivo, names = colunas)\n",
        "array = dados.values\n",
        "\n",
        "# Separando o array em componentes de input (X) e output (Y)\n",
        "X = array[:,0:8]\n",
        "Y = array[:,8]\n",
        "\n",
        "# Gerando a nova escala (normalizando os dados)\n",
        "scaler = MinMaxScaler(feature_range = (0, 1))\n",
        "rescaledX = scaler.fit_transform(X)\n",
        "\n",
        "# Sumarizando os dados transformados\n",
        "print(\"Dados Originais: \\n\\n\", dados.values)\n",
        "print(\"\\nDados Normalizados: \\n\\n\", rescaledX[0:5,:])"
      ],
      "execution_count": 0,
      "outputs": []
    },
    {
      "cell_type": "markdown",
      "metadata": {
        "id": "PBnlv8QzS7Sg",
        "colab_type": "text"
      },
      "source": [
        "## Normalização - Método 2"
      ]
    },
    {
      "cell_type": "markdown",
      "metadata": {
        "id": "7P6D1cA_S7Sg",
        "colab_type": "text"
      },
      "source": [
        "https://scikit-learn.org/stable/modules/generated/sklearn.preprocessing.Normalizer.html"
      ]
    },
    {
      "cell_type": "markdown",
      "metadata": {
        "id": "ZXPInUx-S7Sh",
        "colab_type": "text"
      },
      "source": [
        "No scikit-learn, normalização se refere a ajustar a escala de cada observação (linha) de modo que ela tenha comprimento igual a 1 (chamado vetor de comprimento 1 em álgebra linear). Este método de pré-processamento é útil quando temos datasets esparsos (com muitos zeros) e atributos com escala muito variada. Útil quando usamos algoritmos de redes neurais ou que usam medida de distância, como KNN. O scikit-learn possui uma função para esta etapa, chamada Normalizer()."
      ]
    },
    {
      "cell_type": "code",
      "metadata": {
        "id": "cNzZi5OTS7Sh",
        "colab_type": "code",
        "colab": {}
      },
      "source": [
        "# Normalizando os dados (comprimento igual a 1)\n",
        "from pandas import read_csv\n",
        "from sklearn.preprocessing import Normalizer\n",
        "\n",
        "# Carregando os dados\n",
        "arquivo = 'pima-data.csv'\n",
        "colunas = ['preg', 'plas', 'pres', 'skin', 'test', 'mass', 'pedi', 'age', 'class']\n",
        "dados = read_csv(arquivo, names = colunas)\n",
        "array = dados.values\n",
        "\n",
        "# Separando o array em componentes de input e output\n",
        "X = array[:,0:8]\n",
        "Y = array[:,8]\n",
        "\n",
        "# Gerando os dados normalizados\n",
        "scaler = Normalizer().fit(X)\n",
        "normalizedX = scaler.transform(X)\n",
        "\n",
        "# Sumarizando os dados transformados\n",
        "print(\"Dados Originais: \\n\\n\", dados.values)\n",
        "print(\"\\nDados Normalizados: \\n\\n\", normalizedX[0:5,:])"
      ],
      "execution_count": 0,
      "outputs": []
    },
    {
      "cell_type": "markdown",
      "metadata": {
        "id": "40DhT47yS7Sl",
        "colab_type": "text"
      },
      "source": [
        "## Padronização"
      ]
    },
    {
      "cell_type": "markdown",
      "metadata": {
        "id": "7mBVo1buS7Sm",
        "colab_type": "text"
      },
      "source": [
        "https://scikit-learn.org/stable/modules/generated/sklearn.preprocessing.StandardScaler.html"
      ]
    },
    {
      "cell_type": "markdown",
      "metadata": {
        "id": "0sSVDoheS7Sn",
        "colab_type": "text"
      },
      "source": [
        "Padronização é a técnica para transformar os atributos com distribuição Gaussiana (normal) e diferentes médias e desvios padrão em uma distribuição Gaussiana com a média igual a 0 e desvio padrão igual a 1. Isso é útil para algoritmos que esperam que os dados estejam com uma distribuição Gaussiana, como regressão linear, regressão logística e linear discriminant analysis. Funciona bem quando os dados já estão na mesma escala. O scikit-learn possui uma função para esta etapa, chamada StandardScaler()."
      ]
    },
    {
      "cell_type": "code",
      "metadata": {
        "id": "A5NCZwSwS7Sn",
        "colab_type": "code",
        "colab": {}
      },
      "source": [
        "# Padronizando os dados (0 para a média, 1 para o desvio padrão)\n",
        "\n",
        "# Import dos módulos\n",
        "from pandas import read_csv\n",
        "from sklearn.preprocessing import StandardScaler\n",
        "\n",
        "# Carregando os dados\n",
        "arquivo = 'pima-data.csv'\n",
        "colunas = ['preg', 'plas', 'pres', 'skin', 'test', 'mass', 'pedi', 'age', 'class']\n",
        "dados = read_csv(arquivo, names = colunas)\n",
        "array = dados.values\n",
        "\n",
        "# Separando o array em componentes de input e output\n",
        "X = array[:,0:8]\n",
        "Y = array[:,8]\n",
        "\n",
        "# Gerando o novo padrão\n",
        "scaler = StandardScaler().fit(X)\n",
        "standardX = scaler.transform(X)\n",
        "\n",
        "# Sumarizando os dados transformados\n",
        "print(\"Dados Originais: \\n\\n\", dados.values)\n",
        "print(\"\\nDados Padronizados: \\n\\n\", standardX[0:5,:])"
      ],
      "execution_count": 0,
      "outputs": []
    },
    {
      "cell_type": "markdown",
      "metadata": {
        "id": "-nj-CYSnS7Sy",
        "colab_type": "text"
      },
      "source": [
        "## Feature Selection"
      ]
    },
    {
      "cell_type": "markdown",
      "metadata": {
        "id": "JIeNzOknS7Sz",
        "colab_type": "text"
      },
      "source": [
        "Os atributos presentes no seu dataset e que você utiliza nos dados de treino, terão grande influência na precisão e resultado do seu modelo preditivo. Atributos irrelevantes terão impacto negativo na performance, enquanto atributos colineares podem afetar o grau de acurácia do modelo. O Scikit-learn possui funções que automatizam o trabalho de extração e seleção de variáveis."
      ]
    },
    {
      "cell_type": "markdown",
      "metadata": {
        "id": "dJTglDbUS7Sz",
        "colab_type": "text"
      },
      "source": [
        "A etapa de Feature Selection é onde selecionamos os atributos (variáveis) que serão melhores candidatas a variáveis preditoras. O Feature Selection nos ajuda a reduzir o overfitting (quando o algoritmo aprende demais), aumenta a acurácia do modelo e reduz o tempo de treinamento."
      ]
    },
    {
      "cell_type": "markdown",
      "metadata": {
        "id": "nB6crWcQS7S0",
        "colab_type": "text"
      },
      "source": [
        "https://scikit-learn.org/stable/modules/generated/sklearn.feature_selection.SelectKBest.html"
      ]
    },
    {
      "cell_type": "markdown",
      "metadata": {
        "id": "gfGFDcNFS7S1",
        "colab_type": "text"
      },
      "source": [
        "Testes estatísticos podem ser usados para selecionar os atributos que possuem forte relacionamento com a variável que estamos tentando prever. O Scikit-learn fornece a função SelectKBest() que pode ser usada com diversos testes estatísticos, para selecionar os atributos. Vamos usar o teste qui-quadrado e selecionar os 4 melhores atributos que podem ser usados como variáveis preditoras."
      ]
    },
    {
      "cell_type": "code",
      "metadata": {
        "id": "PQJlZWqKS7S2",
        "colab_type": "code",
        "colab": {}
      },
      "source": [
        "# Extração de Variáveis com Testes Estatísticos Univariados (Teste qui-quadrado neste exemplo)\n",
        "\n",
        "# Import dos módulos\n",
        "from pandas import read_csv\n",
        "from sklearn.feature_selection import SelectKBest\n",
        "from sklearn.feature_selection import chi2\n",
        "\n",
        "# Carregando os dados\n",
        "arquivo = 'pima-data.csv'\n",
        "colunas = ['preg', 'plas', 'pres', 'skin', 'test', 'mass', 'pedi', 'age', 'class']\n",
        "dados = read_csv(arquivo, names = colunas)\n",
        "array = dados.values\n",
        "\n",
        "# Separando o array em componentes de input e output\n",
        "X = array[:,0:8]\n",
        "Y = array[:,8]\n",
        "\n",
        "# Função para seleção de variáveis\n",
        "best_var = SelectKBest(score_func = chi2, k = 4)\n",
        "\n",
        "# Executa a função de pontuação em (X, y) e obtém os recursos selecionados\n",
        "fit = best_var.fit(X, Y)\n",
        "\n",
        "# Reduz X para os recursos selecionados\n",
        "features = fit.transform(X)\n",
        "\n",
        "# Resultados\n",
        "print('\\nNúmero original de features:', X.shape[1])\n",
        "print('\\nNúmero reduzido de features:', features.shape[1])\n",
        "print('\\nFeatures (Variáveis Selecionadas): \\n\\n', features)"
      ],
      "execution_count": 0,
      "outputs": []
    },
    {
      "cell_type": "markdown",
      "metadata": {
        "id": "Yfm5YFwLS7TG",
        "colab_type": "text"
      },
      "source": [
        "## Método Ensemble para Seleção de Variáveis"
      ]
    },
    {
      "cell_type": "markdown",
      "metadata": {
        "id": "03lgPmtxS7TH",
        "colab_type": "text"
      },
      "source": [
        "https://scikit-learn.org/stable/modules/generated/sklearn.ensemble.ExtraTreesClassifier.html"
      ]
    },
    {
      "cell_type": "markdown",
      "metadata": {
        "id": "3CD8zTB4S7TI",
        "colab_type": "text"
      },
      "source": [
        "Bagged Decision Trees, como o algoritmo RandomForest (esses são chamados de Métodos Ensemble), podem ser usados para estimar a importância de cada atributo. Esse método retorna um score para cada atributo."
      ]
    },
    {
      "cell_type": "markdown",
      "metadata": {
        "id": "LFTBbXGYS7TJ",
        "colab_type": "text"
      },
      "source": [
        "Quanto maior o score, maior a importância do atributo."
      ]
    },
    {
      "cell_type": "code",
      "metadata": {
        "id": "qQSHwN-uS7TK",
        "colab_type": "code",
        "colab": {}
      },
      "source": [
        "# Importância do Atributo com o Extra Trees Classifier\n",
        "\n",
        "# Import dos Módulos\n",
        "from pandas import read_csv\n",
        "from sklearn.ensemble import ExtraTreesClassifier\n",
        "\n",
        "# Carregando os dados\n",
        "arquivo = 'pima-data.csv'\n",
        "colunas = ['preg', 'plas', 'pres', 'skin', 'test', 'mass', 'pedi', 'age', 'class']\n",
        "dados = read_csv(arquivo, names = colunas)\n",
        "array = dados.values\n",
        "\n",
        "# Separando o array em componentes de input e output\n",
        "X = array[:,0:8]\n",
        "Y = array[:,8]\n",
        "\n",
        "# Criação do Modelo - Feature Selection\n",
        "modelo = ExtraTreesClassifier()\n",
        "modelo.fit(X, Y)\n",
        "\n",
        "# Print dos Resultados\n",
        "print(dados.columns[0:8])\n",
        "print(modelo.feature_importances_)"
      ],
      "execution_count": 0,
      "outputs": []
    },
    {
      "cell_type": "markdown",
      "metadata": {
        "id": "iGiDrHe_S7TQ",
        "colab_type": "text"
      },
      "source": [
        "## Redução de Dimensionalidade (Feature Extraction)"
      ]
    },
    {
      "cell_type": "markdown",
      "metadata": {
        "id": "crzvc1HnS7TQ",
        "colab_type": "text"
      },
      "source": [
        "## Principal Component Analysis (PCA)"
      ]
    },
    {
      "cell_type": "markdown",
      "metadata": {
        "id": "WOqVTK82S7TR",
        "colab_type": "text"
      },
      "source": [
        "O PCA foi inventado em 1901 por Karl Pearson e utiliza álgebra linear para transformar datasets em uma forma comprimida, o que é geralmente conhecido como Redução de Dimensionalidade. Com PCA você pode escolher o número de dimensões (chamados componentes principais) no resultado transformado. Vamos usar PCA para selecionar 3 componentes principais."
      ]
    },
    {
      "cell_type": "markdown",
      "metadata": {
        "id": "MA_DjyXoS7TR",
        "colab_type": "text"
      },
      "source": [
        "A Análise de Componentes Principais (PCA) é um método para extração das variáveis importantes (na forma de componentes) a partir de um grande conjunto de variáveis, disponíveis em um conjunto de dados. Esta técnica permite extrair um número pequenos de conjuntos dimensionais a partir de um dataset altamente dimensional. Com menos variáveis a visualização também se torna muito mais significativa. PCA é mais útil quando se lida com 3 ou mais dimensões."
      ]
    },
    {
      "cell_type": "code",
      "metadata": {
        "id": "vXKB6eX96Ts0",
        "colab_type": "code",
        "colab": {}
      },
      "source": [
        "from PIL import Image\n",
        "%matplotlib inline\n",
        "im = Image.open(\"PCA2.png\")\n",
        "im.show()\n",
        "im "
      ],
      "execution_count": 0,
      "outputs": []
    },
    {
      "cell_type": "markdown",
      "metadata": {
        "id": "0Qna9RRuS7TU",
        "colab_type": "text"
      },
      "source": [
        "Cada componente resultante é uma combinação linear de n atributos. Ou seja, cada componente principal é uma combinação de atributos presentes no dataset. O Primeiro Componente Principal é a combinação linear dos atributos com máxima variância e determina a direção em que há mais alta variabilidade nos dados. Quanto maior a variabilidade capturada no primeiro componente principal, mais informação será capturada pelo componente. O Segundo Componente Principal captura a variabilidade remanescente. Todos os componentes subsequentes possuem o mesmo conceito."
      ]
    },
    {
      "cell_type": "code",
      "metadata": {
        "id": "l9xSMglo6iJK",
        "colab_type": "code",
        "colab": {}
      },
      "source": [
        "from PIL import Image\n",
        "%matplotlib inline\n",
        "im = Image.open(\"PCA3.png\")\n",
        "im.show()\n",
        "im "
      ],
      "execution_count": 0,
      "outputs": []
    },
    {
      "cell_type": "markdown",
      "metadata": {
        "id": "Ys8gbZEjS7Ta",
        "colab_type": "text"
      },
      "source": [
        "O PCA precisa ser alimentado com dados normalizados. Utilizar o PCA em dados não normalizados pode gerar resultados inesperados."
      ]
    },
    {
      "cell_type": "markdown",
      "metadata": {
        "id": "A_jA3kFNS7Tb",
        "colab_type": "text"
      },
      "source": [
        "A análise de componentes principais é uma técnica da estatística multivariada que consiste em transformar um conjunto de variáveis originais em outro conjunto de variáveis denominadas de componentes principais. Os componentes principais apresentam propriedades importantes: cada componente principal é uma combinação linear de todas as variáveis originais, são independentes entre si e estimados com o propósito de reter, em ordem de estimação, o máximo de informação, em termos da variação total contida nos dados. Os componentes principais são garantidamente independentes apenas se os dados forem normalmente distribuídos (conjuntamente)."
      ]
    },
    {
      "cell_type": "markdown",
      "metadata": {
        "id": "yDDufJbtS7Tb",
        "colab_type": "text"
      },
      "source": [
        "Procura-se redistribuir a variação observada nos eixos originais de forma a se obter um conjunto de eixos ortogonais não correlacionados. Esta técnica pode ser utilizada para geração de índices e agrupamento de indivíduos. A análise agrupa os indivíduos de acordo com sua variação, isto é, os indivíduos são agrupados segundo suas variâncias, ou seja, segundo seu comportamento dentro da população, representado pela variação do conjunto de características que define o indivíduo, ou seja, a técnica agrupa os indivíduos de uma população segundo a variação de suas características."
      ]
    },
    {
      "cell_type": "markdown",
      "metadata": {
        "id": "s47dgDQWS7Tc",
        "colab_type": "text"
      },
      "source": [
        "A análise de componentes principais é associada à idéia de redução de massa de dados, com menor perda possível da informação. "
      ]
    },
    {
      "cell_type": "markdown",
      "metadata": {
        "id": "s3q4ju9nS7Tc",
        "colab_type": "text"
      },
      "source": [
        "O objetivo é sumarizar os dados que contém muitas variáveis (p) por um conjunto menor de variáveis (k) compostas derivadas a partir do conjunto original. PCA usa uma conjunto de dados representado por uma matriz de n registros por p atributos, que podem estar correlacionados, e sumariza esse conjunto por eixos não correlacionados (componentes principais) que são uma combinação linear das p variáveis originais. As primeiras k componentes contém a maior quantidade de variação dos dados."
      ]
    },
    {
      "cell_type": "markdown",
      "metadata": {
        "id": "vKbLEYX8S7Td",
        "colab_type": "text"
      },
      "source": [
        "Em termos gerais a PCA busca reduzir o número de dimensões de um dataset, projetando os dados em um novo plano. Usando essa nova projeção os dados originais, que podem envolver diversas variáveis, podem ser interpretados utilizando menos \"dimensões.\"\n",
        "\n",
        "No dataset reduzido podemos observar com mais clareza tendências, padrões e/ou outliers. Mas vale lembrar que a regra: \"Se não está nos dados brutos não existe!\" é sempre válida. A PCA fornece apenas mais clareza aos padrões que já estão lá."
      ]
    },
    {
      "cell_type": "code",
      "metadata": {
        "id": "pL_cM9xd6o_J",
        "colab_type": "code",
        "colab": {}
      },
      "source": [
        "from PIL import Image\n",
        "%matplotlib inline\n",
        "im = Image.open(\"PCA.png\")\n",
        "im.show()\n",
        "im "
      ],
      "execution_count": 0,
      "outputs": []
    },
    {
      "cell_type": "markdown",
      "metadata": {
        "id": "ri6sd6TLS7Th",
        "colab_type": "text"
      },
      "source": [
        "Quanto maior a variância, maior a quantidade de informação contida no componente."
      ]
    },
    {
      "cell_type": "code",
      "metadata": {
        "id": "IAALDcxFS7Ti",
        "colab_type": "code",
        "colab": {}
      },
      "source": [
        "# Feature Extraction\n",
        "\n",
        "# Import dos módulos\n",
        "from pandas import read_csv\n",
        "from sklearn.preprocessing import MinMaxScaler\n",
        "from sklearn.decomposition import PCA\n",
        "\n",
        "# Carregando os dados\n",
        "arquivo = 'pima-data.csv'\n",
        "colunas = ['preg', 'plas', 'pres', 'skin', 'test', 'mass', 'pedi', 'age', 'class']\n",
        "dados = read_csv(arquivo, names = colunas)\n",
        "array = dados.values\n",
        "\n",
        "# Separando o array em componentes de input e output\n",
        "X = array[:,0:8]\n",
        "Y = array[:,8]\n",
        "\n",
        "# Normalizando os dados\n",
        "scaler = MinMaxScaler(feature_range = (0, 1))\n",
        "rescaledX = scaler.fit_transform(X)\n",
        "\n",
        "# Seleção de atributos\n",
        "pca = PCA(n_components = 4)\n",
        "fit = pca.fit(rescaledX)\n",
        "\n",
        "# Sumarizando os componentes\n",
        "print(\"Variância: %s\" % fit.explained_variance_ratio_)\n",
        "print(fit.components_)"
      ],
      "execution_count": 0,
      "outputs": []
    },
    {
      "cell_type": "markdown",
      "metadata": {
        "id": "WtpPphwWS7Tk",
        "colab_type": "text"
      },
      "source": [
        "## Amostragem - Resampling"
      ]
    },
    {
      "cell_type": "markdown",
      "metadata": {
        "id": "Q2AXdTbVS7Tm",
        "colab_type": "text"
      },
      "source": [
        "### Dados de Treino e de Teste"
      ]
    },
    {
      "cell_type": "markdown",
      "metadata": {
        "id": "iPlEqkZDS7Tn",
        "colab_type": "text"
      },
      "source": [
        "https://scikit-learn.org/stable/modules/generated/sklearn.model_selection.train_test_split.html"
      ]
    },
    {
      "cell_type": "markdown",
      "metadata": {
        "id": "aLTccuZNS7Tn",
        "colab_type": "text"
      },
      "source": [
        "Este é o método mais utilizado para avaliar performance de um algoritmo de Machine Learning. Dividimos nossos dados originais em dados de treino e de teste. Treinamos o algoritmo nos dados de treino e fazemos as previsões nos dados de teste e avaliamos o resultado. A divisão dos dados vai depender do seu dataset, mas utiliza-se com frequência tamanhos entre 70/30 (treino/teste) e 65/35 (treino/teste)."
      ]
    },
    {
      "cell_type": "markdown",
      "metadata": {
        "id": "SkZ0WWdUS7Tn",
        "colab_type": "text"
      },
      "source": [
        "Este método é bem veloz e ideal para conjuntos de dados muito grandes. O ponto negativo é a possibilidade de alta variância."
      ]
    },
    {
      "cell_type": "code",
      "metadata": {
        "id": "it-bYGG8S7Tp",
        "colab_type": "code",
        "outputId": "8cf27b97-27b1-46d2-9a84-f0c382ade4a8",
        "colab": {
          "base_uri": "https://localhost:8080/",
          "height": 34
        }
      },
      "source": [
        "# Avaliação usando dados de treino e de teste\n",
        "\n",
        "# Import dos módulos\n",
        "from pandas import read_csv\n",
        "from sklearn.model_selection import train_test_split\n",
        "from sklearn.linear_model import LogisticRegression\n",
        "import warnings\n",
        "warnings.filterwarnings('ignore')\n",
        "\n",
        "# Carregando os dados\n",
        "arquivo = 'pima-data.csv'\n",
        "colunas = ['preg', 'plas', 'pres', 'skin', 'test', 'mass', 'pedi', 'age', 'class']\n",
        "dados = read_csv(arquivo, names = colunas)\n",
        "array = dados.values\n",
        "\n",
        "# Separando o array em componentes de input e output\n",
        "X = array[:,0:8]\n",
        "Y = array[:,8]\n",
        "\n",
        "# Definindo o tamanho das amostras\n",
        "teste_size = 0.33\n",
        "\n",
        "# Garante que os resultados podem ser reproduzidos\n",
        "# Isso é importante para comparar a acurácia com outros algoritmos de Machine Learning.\n",
        "seed = 7\n",
        "\n",
        "# Criando os conjuntos de dados de treino e de teste\n",
        "X_treino, X_teste, Y_treino, Y_teste = train_test_split(X, Y, test_size = teste_size, random_state = seed)\n",
        "\n",
        "# Criação do modelo\n",
        "modelo = LogisticRegression()\n",
        "\n",
        "# Treinamento do modelo\n",
        "modelo.fit(X_treino, Y_treino)\n",
        "\n",
        "# Score do modelo nos dados de teste\n",
        "result = modelo.score(X_teste, Y_teste)\n",
        "print(\"Acurácia nos Dados de Teste: %.3f%%\" % (result * 100.0))"
      ],
      "execution_count": 2,
      "outputs": [
        {
          "output_type": "stream",
          "text": [
            "Acurácia nos Dados de Teste: 78.740%\n"
          ],
          "name": "stdout"
        }
      ]
    },
    {
      "cell_type": "markdown",
      "metadata": {
        "id": "mZ9MAAtUS7Tr",
        "colab_type": "text"
      },
      "source": [
        "### Cross Validation"
      ]
    },
    {
      "cell_type": "markdown",
      "metadata": {
        "id": "ZRBkEoZiS7Ts",
        "colab_type": "text"
      },
      "source": [
        "https://scikit-learn.org/stable/modules/generated/sklearn.model_selection.cross_val_score.html"
      ]
    },
    {
      "cell_type": "markdown",
      "metadata": {
        "id": "hP0GPFQOS7Ts",
        "colab_type": "text"
      },
      "source": [
        "Cross Validation é uma técnica que pode ser utilizada para avaliar a performance de um modelo com menos variância que a técnica de dividir os dados em treino/teste. Com esta técnica dividimos os dados em partes normalmente chamadas de k-folds (por exemplo k = 5, k = 10). Cada parte é chamada fold. O algoritmo é treinado em k-1 folds. Cada fold é usado no treinamento de forma repetida e um fold por vez. Após executar o processo em k-1 folds, podemos sumarizar a performance em cada fold usando a média e o desvio padrão (Estatística era importante no processo de Ciência dos Dados). O resultado é normalmente mais confiável e oferece maior acurácia ao modelo. A chave deste processo está em definir o correto valor de k, de modo que o número de folds represente adequadamente o número de repetições necessárias."
      ]
    },
    {
      "cell_type": "code",
      "metadata": {
        "id": "usFZdI3z7Tgc",
        "colab_type": "code",
        "colab": {}
      },
      "source": [
        "from PIL import Image\n",
        "%matplotlib inline\n",
        "im = Image.open(\"cross-validation.jpg\")\n",
        "im.show()\n",
        "im "
      ],
      "execution_count": 0,
      "outputs": []
    },
    {
      "cell_type": "code",
      "metadata": {
        "id": "ApGfCudXS7Ty",
        "colab_type": "code",
        "colab": {}
      },
      "source": [
        "# Avaliação usando Cross Validation\n",
        "\n",
        "# Import dos módulos\n",
        "from pandas import read_csv\n",
        "from sklearn.model_selection import KFold\n",
        "from sklearn.model_selection import cross_val_score\n",
        "from sklearn.linear_model import LogisticRegression\n",
        "\n",
        "# Carregando os dados\n",
        "arquivo = 'pima-data.csv'\n",
        "colunas = ['preg', 'plas', 'pres', 'skin', 'test', 'mass', 'pedi', 'age', 'class']\n",
        "dados = read_csv(arquivo, names = colunas)\n",
        "array = dados.values\n",
        "\n",
        "# Separando o array em componentes de input e output\n",
        "X = array[:,0:8]\n",
        "Y = array[:,8]\n",
        "\n",
        "# Definindo os valores para os folds\n",
        "num_folds = 20\n",
        "seed = 7\n",
        "\n",
        "# Separando os dados em folds\n",
        "kfold = KFold(num_folds, True, random_state = seed)\n",
        "\n",
        "# Criando o modelo\n",
        "modelo = LogisticRegression()\n",
        "resultado = cross_val_score(modelo, X, Y, cv = kfold)\n",
        "\n",
        "# Usamos a média e o desvio padrão\n",
        "print(\"Acurácia Final: %.3f%%\" % (resultado.mean() * 100.0))"
      ],
      "execution_count": 0,
      "outputs": []
    },
    {
      "cell_type": "markdown",
      "metadata": {
        "colab_type": "text",
        "id": "tjnus5mlSgt-"
      },
      "source": [
        "> ### <font color='blue'>Aprendizado - Machine Learning</font>\n",
        "\n"
      ]
    },
    {
      "cell_type": "markdown",
      "metadata": {
        "id": "4Y_IxhxwS7UL",
        "colab_type": "text"
      },
      "source": [
        "## 5. Aprendizagem - Algoritmos para Problemas de Classificação"
      ]
    },
    {
      "cell_type": "markdown",
      "metadata": {
        "id": "vCXlfk3ZS7UN",
        "colab_type": "text"
      },
      "source": [
        "Não temos como saber qual algoritmo vai funcionar melhor na construção do modelo, antes de testarmos o algoritmo com nosso dataset. O ideal é testar alguns algoritmos e então escolher o que fornece melhor nível de precisão. Vamos testar um conjunto de algoritmos de classificação, nas mesmas condições."
      ]
    },
    {
      "cell_type": "markdown",
      "metadata": {
        "id": "AwgYagLgS7UO",
        "colab_type": "text"
      },
      "source": [
        "## Regressão Logística"
      ]
    },
    {
      "cell_type": "markdown",
      "metadata": {
        "id": "2LIpEgevS7UO",
        "colab_type": "text"
      },
      "source": [
        "Algoritmo Linear. O algoritmo de Regressão Logística assume que seus dados estão em uma Distribuição Normal para valores numéricos que podem ser modelados com classificação binária."
      ]
    },
    {
      "cell_type": "code",
      "metadata": {
        "id": "jnKtHYM7S7UP",
        "colab_type": "code",
        "colab": {
          "base_uri": "https://localhost:8080/",
          "height": 34
        },
        "outputId": "5e8268a0-f6b7-4876-828e-e0b72a4ffc14"
      },
      "source": [
        "# Import dos módulos\n",
        "from pandas import read_csv\n",
        "from sklearn.model_selection import KFold\n",
        "from sklearn.model_selection import cross_val_score\n",
        "from sklearn.linear_model import LogisticRegression\n",
        "import warnings\n",
        "warnings.filterwarnings('ignore')\n",
        "\n",
        "\n",
        "# Carregando os dados\n",
        "arquivo = 'pima-data.csv'\n",
        "colunas = ['preg', 'plas', 'pres', 'skin', 'test', 'mass', 'pedi', 'age', 'class']\n",
        "dados = read_csv(arquivo, names = colunas)\n",
        "array = dados.values\n",
        "\n",
        "# Separando o array em componentes de input e output\n",
        "X = array[:,0:8]\n",
        "Y = array[:,8]\n",
        "\n",
        "# Definindo os valores para o número de folds\n",
        "num_folds = 10\n",
        "seed = 7\n",
        "\n",
        "# Separando os dados em folds\n",
        "kfold = KFold(num_folds, True, random_state = seed)\n",
        "\n",
        "# Criando o modelo\n",
        "modelo = LogisticRegression()\n",
        "\n",
        "# Cross Validation\n",
        "resultado = cross_val_score(modelo, X, Y, cv = kfold)\n",
        "\n",
        "# Print do resultado\n",
        "print(\"Acurácia: %.3f\" % (resultado.mean() * 100))"
      ],
      "execution_count": 3,
      "outputs": [
        {
          "output_type": "stream",
          "text": [
            "Acurácia: 77.734\n"
          ],
          "name": "stdout"
        }
      ]
    },
    {
      "cell_type": "markdown",
      "metadata": {
        "id": "kMbpCKvoS7UR",
        "colab_type": "text"
      },
      "source": [
        "## Linear Discriminant Analysis"
      ]
    },
    {
      "cell_type": "markdown",
      "metadata": {
        "id": "LAFu6-qyS7US",
        "colab_type": "text"
      },
      "source": [
        "Algoritmo Linear. Técnica estatística para classificação binária. Também assume que os dados estão em Distribuição Normal."
      ]
    },
    {
      "cell_type": "code",
      "metadata": {
        "id": "khDj_CqUS7UT",
        "colab_type": "code",
        "outputId": "784d6e83-06ef-4f1c-9186-c6d0ffb06962",
        "colab": {
          "base_uri": "https://localhost:8080/",
          "height": 34
        }
      },
      "source": [
        "# Import dos módulos\n",
        "from pandas import read_csv\n",
        "from sklearn.model_selection import KFold\n",
        "from sklearn.model_selection import cross_val_score\n",
        "from sklearn.discriminant_analysis import LinearDiscriminantAnalysis\n",
        "\n",
        "# Carregando os dados\n",
        "arquivo = 'pima-data.csv'\n",
        "colunas = ['preg', 'plas', 'pres', 'skin', 'test', 'mass', 'pedi', 'age', 'class']\n",
        "dados = read_csv(arquivo, names = colunas)\n",
        "array = dados.values\n",
        "\n",
        "# Separando o array em componentes de input e output\n",
        "X = array[:,0:8]\n",
        "Y = array[:,8]\n",
        "\n",
        "# Definindo os valores para o número de folds\n",
        "num_folds = 10\n",
        "seed = 7\n",
        "\n",
        "# Separando os dados em folds\n",
        "kfold = KFold(num_folds, True, random_state = seed)\n",
        "\n",
        "# Criando o modelo\n",
        "modelo = LinearDiscriminantAnalysis()\n",
        "\n",
        "# Cross Validation\n",
        "resultado = cross_val_score(modelo, X, Y, cv = kfold)\n",
        "\n",
        "# Print do resultado\n",
        "print(\"Acurácia: %.3f\" % (resultado.mean() * 100))"
      ],
      "execution_count": 4,
      "outputs": [
        {
          "output_type": "stream",
          "text": [
            "Acurácia: 76.697\n"
          ],
          "name": "stdout"
        }
      ]
    },
    {
      "cell_type": "markdown",
      "metadata": {
        "id": "aHEVsLbrS7UX",
        "colab_type": "text"
      },
      "source": [
        "## KNN - K-Nearest Neighbors"
      ]
    },
    {
      "cell_type": "markdown",
      "metadata": {
        "id": "-zPwlGu_S7UZ",
        "colab_type": "text"
      },
      "source": [
        "Algoritmo Não-Linear que utiliza uma métrica de distância para encontrar o valor de K mais adequado às instâncias do dataset de treino."
      ]
    },
    {
      "cell_type": "code",
      "metadata": {
        "id": "LJNr928JS7Ua",
        "colab_type": "code",
        "outputId": "1c67bbb7-6984-4914-b7d9-6b22f73bf5ca",
        "colab": {
          "base_uri": "https://localhost:8080/",
          "height": 34
        }
      },
      "source": [
        "# Import dos módulos\n",
        "from pandas import read_csv\n",
        "from sklearn.model_selection import KFold\n",
        "from sklearn.model_selection import cross_val_score\n",
        "from sklearn.neighbors import KNeighborsClassifier\n",
        "\n",
        "# Carregando os dados\n",
        "arquivo = 'pima-data.csv'\n",
        "colunas = ['preg', 'plas', 'pres', 'skin', 'test', 'mass', 'pedi', 'age', 'class']\n",
        "dados = read_csv(arquivo, names = colunas)\n",
        "array = dados.values\n",
        "\n",
        "# Separando o array em componentes de input e output\n",
        "X = array[:,0:8]\n",
        "Y = array[:,8]\n",
        "\n",
        "# Definindo os valores para o número de folds\n",
        "num_folds = 10\n",
        "random_state = 7\n",
        "\n",
        "# Separando os dados em folds\n",
        "kfold = KFold(num_folds, True, random_state = random_state)\n",
        "\n",
        "# Criando o modelo\n",
        "modelo = KNeighborsClassifier()\n",
        "\n",
        "# Cross Validation\n",
        "results = cross_val_score(modelo, X, Y, cv = kfold)\n",
        "\n",
        "# Print do resultado\n",
        "print(\"Acurácia: %.3f\" % (resultado.mean() * 100))"
      ],
      "execution_count": 5,
      "outputs": [
        {
          "output_type": "stream",
          "text": [
            "Acurácia: 76.697\n"
          ],
          "name": "stdout"
        }
      ]
    },
    {
      "cell_type": "markdown",
      "metadata": {
        "id": "xlBcIJP8S7Uf",
        "colab_type": "text"
      },
      "source": [
        "## Naive Bayes"
      ]
    },
    {
      "cell_type": "markdown",
      "metadata": {
        "id": "sOK98AJoS7Uf",
        "colab_type": "text"
      },
      "source": [
        "Algoritmo Não-Linear. Calcula a Probabilidade de cada classe e a probabilidade condicional de cada classe dado uma variável de entrada. As probabilidades são então estimadas para os novos dados e multiplicadas, assumindo que são independentes (suposição simples ou Naive). Assume dados em distirbuição Gaussiana (Normal)"
      ]
    },
    {
      "cell_type": "code",
      "metadata": {
        "id": "iajXLZX0S7Ug",
        "colab_type": "code",
        "outputId": "0f819e0f-48f7-4927-b138-f1fc297460f0",
        "colab": {
          "base_uri": "https://localhost:8080/",
          "height": 34
        }
      },
      "source": [
        "# Import dos módulos\n",
        "from pandas import read_csv\n",
        "from sklearn.model_selection import KFold\n",
        "from sklearn.model_selection import cross_val_score\n",
        "from sklearn.naive_bayes import GaussianNB\n",
        "\n",
        "# Carregando os dados\n",
        "arquivo = 'pima-data.csv'\n",
        "colunas = ['preg', 'plas', 'pres', 'skin', 'test', 'mass', 'pedi', 'age', 'class']\n",
        "dados = read_csv(arquivo, names = colunas)\n",
        "array = dados.values\n",
        "\n",
        "# Separando o array em componentes de input e output\n",
        "X = array[:,0:8]\n",
        "Y = array[:,8]\n",
        "\n",
        "# Definindo os valores para o número de folds\n",
        "num_folds = 10\n",
        "seed = 7\n",
        "\n",
        "# Separando os dados em folds\n",
        "kfold = KFold(num_folds, True, random_state = seed)\n",
        "\n",
        "# Criando o modelo\n",
        "modelo = GaussianNB()\n",
        "\n",
        "# Cross Validation\n",
        "resultado = cross_val_score(modelo, X, Y, cv = kfold)\n",
        "\n",
        "# Print do resultado\n",
        "print(\"Acurácia: %.3f\" % (resultado.mean() * 100))"
      ],
      "execution_count": 6,
      "outputs": [
        {
          "output_type": "stream",
          "text": [
            "Acurácia: 75.914\n"
          ],
          "name": "stdout"
        }
      ]
    },
    {
      "cell_type": "markdown",
      "metadata": {
        "id": "d2KvGA7TS7Ui",
        "colab_type": "text"
      },
      "source": [
        "## CART (Classification and Regression Trees)"
      ]
    },
    {
      "cell_type": "markdown",
      "metadata": {
        "id": "5y7K8Lh-S7Ui",
        "colab_type": "text"
      },
      "source": [
        "Algoritmo Não-Linear. O algoritmo CART constrói uma árvore binária a partir do dataset de treino. Cada atributo e cada valor de cada atributo são avaliados com o objetivo de reduzir a função de custo (Cost Function)."
      ]
    },
    {
      "cell_type": "code",
      "metadata": {
        "id": "t0VUdtAMS7Uj",
        "colab_type": "code",
        "outputId": "a09902ca-f42c-4aab-8282-3b9aecf80426",
        "colab": {
          "base_uri": "https://localhost:8080/",
          "height": 34
        }
      },
      "source": [
        "# Import dos módulos\n",
        "from pandas import read_csv\n",
        "from sklearn.model_selection import KFold\n",
        "from sklearn.model_selection import cross_val_score\n",
        "from sklearn.tree import DecisionTreeClassifier\n",
        "\n",
        "# Carregando os dados\n",
        "arquivo = 'pima-data.csv'\n",
        "colunas = ['preg', 'plas', 'pres', 'skin', 'test', 'mass', 'pedi', 'age', 'class']\n",
        "dados = read_csv(arquivo, names = colunas)\n",
        "array = dados.values\n",
        "\n",
        "# Separando o array em componentes de input e output\n",
        "X = array[:,0:8]\n",
        "Y = array[:,8]\n",
        "\n",
        "# Definindo os valores para o número de folds\n",
        "num_folds = 10\n",
        "seed = 7\n",
        "\n",
        "# Separando os dados em folds\n",
        "kfold = KFold(num_folds, True, random_state = seed)\n",
        "\n",
        "# Criando o modelo\n",
        "modelo = DecisionTreeClassifier()\n",
        "\n",
        "# Cross Validation\n",
        "resultado = cross_val_score(modelo, X, Y, cv = kfold)\n",
        "\n",
        "# Print do resultado\n",
        "print(\"Acurácia: %.3f\" % (resultado.mean() * 100))"
      ],
      "execution_count": 7,
      "outputs": [
        {
          "output_type": "stream",
          "text": [
            "Acurácia: 68.896\n"
          ],
          "name": "stdout"
        }
      ]
    },
    {
      "cell_type": "markdown",
      "metadata": {
        "id": "aiqTTLF_S7Um",
        "colab_type": "text"
      },
      "source": [
        "## SVM - Support Vector Machines"
      ]
    },
    {
      "cell_type": "markdown",
      "metadata": {
        "id": "6vSAQv16S7Un",
        "colab_type": "text"
      },
      "source": [
        "O objetivo deste algoritmo é buscar uma linha que melhor separa duas classes dentro de um conjunto de dados. As instâncias de dados que estão mais próximas desta linha que separa as classes, são chamadas support vectors. O SVM tem sido estendido para suportar multiclasses."
      ]
    },
    {
      "cell_type": "markdown",
      "metadata": {
        "id": "5KBoQr__S7Un",
        "colab_type": "text"
      },
      "source": [
        "Support Vector Machines são algoritmos de classificação muito poderosos. Quando usados em conjunto com “Random forest” e outras ferramentas de aprendizagem de máquina, dão uma dimensão muito diferente para montagem de modelos. Assim, eles se tornam cruciais para os casos em que é necessária um poder de previsão muito elevado. Esses algoritmos são um pouco mais difíceis de visualizar devido à complexidade na formulação."
      ]
    },
    {
      "cell_type": "code",
      "metadata": {
        "id": "L4gatLusS7Uo",
        "colab_type": "code",
        "outputId": "6cdce775-9e32-47b1-b850-bfaf50ed03dc",
        "colab": {
          "base_uri": "https://localhost:8080/",
          "height": 34
        }
      },
      "source": [
        "# Import dos módulos\n",
        "from pandas import read_csv\n",
        "from sklearn.model_selection import KFold\n",
        "from sklearn.model_selection import cross_val_score\n",
        "from sklearn.svm import SVC\n",
        "\n",
        "# Carregando os dados\n",
        "arquivo = 'pima-data.csv'\n",
        "colunas = ['preg', 'plas', 'pres', 'skin', 'test', 'mass', 'pedi', 'age', 'class']\n",
        "dados = read_csv(arquivo, names = colunas)\n",
        "array = dados.values\n",
        "\n",
        "# Separando o array em componentes de input e output\n",
        "X = array[:,0:8]\n",
        "Y = array[:,8]\n",
        "\n",
        "# Definindo os valores para o número de folds\n",
        "num_folds = 10\n",
        "seed = 7\n",
        "\n",
        "# Separando os dados em folds\n",
        "kfold = KFold(num_folds, True, random_state = seed)\n",
        "\n",
        "# Criando o modelo\n",
        "modelo = SVC()\n",
        "\n",
        "# Cross Validation\n",
        "resultado = cross_val_score(modelo, X, Y, cv = kfold)\n",
        "\n",
        "# Print do resultado\n",
        "print(\"Acurácia: %.3f\" % (resultado.mean() * 100))"
      ],
      "execution_count": 8,
      "outputs": [
        {
          "output_type": "stream",
          "text": [
            "Acurácia: 76.046\n"
          ],
          "name": "stdout"
        }
      ]
    },
    {
      "cell_type": "markdown",
      "metadata": {
        "id": "CQ8yTmXOS7Uq",
        "colab_type": "text"
      },
      "source": [
        "## Seleção do Modelo Preditivo"
      ]
    },
    {
      "cell_type": "markdown",
      "metadata": {
        "id": "2S49QwymS7Uq",
        "colab_type": "text"
      },
      "source": [
        "Veremos que os algoritmos de Regressão Logística e Linear Discriminant Analysis apresentaram o melhor nível de precisão."
      ]
    },
    {
      "cell_type": "code",
      "metadata": {
        "id": "Sm7HYy01S7Ur",
        "colab_type": "code",
        "colab": {
          "base_uri": "https://localhost:8080/",
          "height": 396
        },
        "outputId": "97751386-df16-4ce3-e839-72b7f6446f85"
      },
      "source": [
        "# Import dos módulos\n",
        "from pandas import read_csv\n",
        "import matplotlib.pyplot as plt\n",
        "from sklearn.model_selection import KFold\n",
        "from sklearn.model_selection import cross_val_score\n",
        "from sklearn.linear_model import LogisticRegression\n",
        "from sklearn.tree import DecisionTreeClassifier\n",
        "from sklearn.neighbors import KNeighborsClassifier\n",
        "from sklearn.discriminant_analysis import LinearDiscriminantAnalysis\n",
        "from sklearn.naive_bayes import GaussianNB\n",
        "from sklearn.svm import SVC\n",
        "\n",
        "# Carregando os dados\n",
        "arquivo = 'pima-data.csv'\n",
        "colunas = ['preg', 'plas', 'pres', 'skin', 'test', 'mass', 'pedi', 'age', 'class']\n",
        "dados = read_csv(arquivo, names = colunas)\n",
        "array = dados.values\n",
        "\n",
        "# Separando o array em componentes de input e output\n",
        "X = array[:,0:8]\n",
        "Y = array[:,8]\n",
        "\n",
        "# Definindo os valores para o número de folds\n",
        "num_folds = 10\n",
        "seed = 7\n",
        "\n",
        "# Preparando a lista de modelos\n",
        "modelos = []\n",
        "modelos.append(('LR', LogisticRegression()))\n",
        "modelos.append(('LDA', LinearDiscriminantAnalysis()))\n",
        "modelos.append(('NB', GaussianNB()))\n",
        "modelos.append(('KNN', KNeighborsClassifier()))\n",
        "modelos.append(('CART', DecisionTreeClassifier()))\n",
        "modelos.append(('SVM', SVC()))\n",
        "\n",
        "# Avaliando cada modelo em um loop\n",
        "resultados = []\n",
        "nomes = []\n",
        "\n",
        "for nome, modelo in modelos:\n",
        "    kfold = KFold(n_splits = num_folds, random_state = seed)\n",
        "    cv_results = cross_val_score(modelo, X, Y, cv = kfold, scoring = 'accuracy')\n",
        "    resultados.append(cv_results)\n",
        "    nomes.append(nome)\n",
        "    msg = \"%s: %f (%f)\" % (nome, cv_results.mean(), cv_results.std())\n",
        "    print(msg)\n",
        "\n",
        "# Boxplot para comparar os algoritmos\n",
        "fig = plt.figure()\n",
        "fig.suptitle('Comparação de Algoritmos de Classificação')\n",
        "ax = fig.add_subplot(111)\n",
        "plt.boxplot(resultados)\n",
        "ax.set_xticklabels(nomes)\n",
        "plt.show()"
      ],
      "execution_count": 9,
      "outputs": [
        {
          "output_type": "stream",
          "text": [
            "LR: 0.773428 (0.053375)\n",
            "LDA: 0.773462 (0.051592)\n",
            "NB: 0.755178 (0.042766)\n",
            "KNN: 0.726555 (0.061821)\n",
            "CART: 0.686039 (0.070864)\n",
            "SVM: 0.760424 (0.052931)\n"
          ],
          "name": "stdout"
        },
        {
          "output_type": "display_data",
          "data": {
            "image/png": "[encoded data removed]",
            "text/plain": [
              "<Figure size 432x288 with 1 Axes>"
            ]
          },
          "metadata": {
            "tags": [],
            "needs_background": "light"
          }
        }
      ]
    },
    {
      "cell_type": "markdown",
      "metadata": {
        "id": "h5guQy7JS7T1",
        "colab_type": "text"
      },
      "source": [
        "## Avaliando a Performance"
      ]
    },
    {
      "cell_type": "markdown",
      "metadata": {
        "id": "JfOUMqxmS7T2",
        "colab_type": "text"
      },
      "source": [
        "As métricas que você escolhe para avaliar a performance do modelo vão influenciar a forma como a performance é medida e comparada com modelos criados com outros algoritmos."
      ]
    },
    {
      "cell_type": "markdown",
      "metadata": {
        "id": "1NGumoL-S7T2",
        "colab_type": "text"
      },
      "source": [
        "Vamos utilizar o mesmo algoritmo, mas com métricas diferentes e assim comparar os resultados. A função cross_validation.cross_val_score() será usada para avaliar a performance."
      ]
    },
    {
      "cell_type": "markdown",
      "metadata": {
        "id": "NBkDtZ7oS7T6",
        "colab_type": "text"
      },
      "source": [
        "### Métricas para Algoritmos de Classificação"
      ]
    },
    {
      "cell_type": "markdown",
      "metadata": {
        "id": "QsmUU8PjS7T6",
        "colab_type": "text"
      },
      "source": [
        "https://scikit-learn.org/stable/modules/model_evaluation.html"
      ]
    },
    {
      "cell_type": "code",
      "metadata": {
        "id": "ZB2WNN-HS7T7",
        "colab_type": "code",
        "outputId": "0f93f4aa-d1d0-46dd-d3d2-d87c9b3a21d2",
        "colab": {
          "base_uri": "https://localhost:8080/",
          "height": 34
        }
      },
      "source": [
        "# Acurácia\n",
        "# Número de previsões corretas. É útil apenas quando existe o mesmo número de observações em cada classe.\n",
        "\n",
        "# Import dos módulos\n",
        "from pandas import read_csv\n",
        "from sklearn.model_selection import KFold\n",
        "from sklearn.model_selection import cross_val_score\n",
        "from sklearn.linear_model import LogisticRegression\n",
        "\n",
        "# Carregando os dados\n",
        "arquivo = 'pima-data.csv'\n",
        "colunas = ['preg', 'plas', 'pres', 'skin', 'test', 'mass', 'pedi', 'age', 'class']\n",
        "dados = read_csv(arquivo, names = colunas)\n",
        "array = dados.values\n",
        "\n",
        "# Separando o array em componentes de input e output\n",
        "X = array[:,0:8]\n",
        "Y = array[:,8]\n",
        "\n",
        "# Definindo os valores para o número de folds\n",
        "num_folds = 10\n",
        "seed = 7\n",
        "\n",
        "# Separando os dados em folds\n",
        "kfold = KFold(num_folds, True, random_state = seed)\n",
        "\n",
        "# Criando o modelo\n",
        "modelo = LogisticRegression()\n",
        "\n",
        "# Cross Validation\n",
        "resultado = cross_val_score(modelo, X, Y, cv = kfold, scoring = 'accuracy')\n",
        "\n",
        "# Print dos resultados\n",
        "print(\"Acurácia: %.3f\" % (resultado.mean() * 100))"
      ],
      "execution_count": 10,
      "outputs": [
        {
          "output_type": "stream",
          "text": [
            "Acurácia: 77.734\n"
          ],
          "name": "stdout"
        }
      ]
    },
    {
      "cell_type": "code",
      "metadata": {
        "id": "L_PWfKtfS7T-",
        "colab_type": "code",
        "outputId": "ce218256-5dfa-40d8-9298-057b123d9cf7",
        "colab": {
          "base_uri": "https://localhost:8080/",
          "height": 34
        }
      },
      "source": [
        "# Curva ROC \n",
        "# A Curva ROC permite analisar a métrica AUC (Area Under the Curve).\n",
        "# Essa é uma métrica de performance para classificação binária, em que podemos definir as classes em positiavs e negativas.\n",
        "# Problemas de classificação binária são um trade-off sentre Sensitivity e Specifity.\n",
        "# Sensitivity é a taxa de verdadeiros positivos (TP). Ese é o número de instâncias positivas da primeira classe que foram previstas corretamente.\n",
        "# Specifity é a taxa de verdadeiros negativos (TN). Esse é o número de instâncias da segunda classe que foram previstas corretamente.\n",
        "# Valores acima de 0.5 indicam uma boa taxa de previsão.\n",
        "\n",
        "# Import dos módulos\n",
        "from pandas import read_csv\n",
        "from sklearn.model_selection import KFold\n",
        "from sklearn.model_selection import cross_val_score\n",
        "from sklearn.linear_model import LogisticRegression\n",
        "\n",
        "# Carregando os dados\n",
        "arquivo = 'pima-data.csv'\n",
        "colunas = ['preg', 'plas', 'pres', 'skin', 'test', 'mass', 'pedi', 'age', 'class']\n",
        "dados = read_csv(arquivo, names = colunas)\n",
        "array = dados.values\n",
        "\n",
        "# Separando o array em componentes de input e output\n",
        "X = array[:,0:8]\n",
        "Y = array[:,8]\n",
        "\n",
        "# Definindo os valores para o número de folds\n",
        "num_folds = 10\n",
        "seed = 7\n",
        "\n",
        "# Separando os dados em folds\n",
        "kfold = KFold(num_folds, True, random_state = seed)\n",
        "\n",
        "# Criando o modelo\n",
        "model = LogisticRegression()\n",
        "\n",
        "# Cross Validation\n",
        "resultado = cross_val_score(model, X, Y, cv = kfold, scoring = 'roc_auc')\n",
        "\n",
        "# Print do resultado\n",
        "print(\"AUC: %.3f\" % (resultado.mean() * 100))"
      ],
      "execution_count": 11,
      "outputs": [
        {
          "output_type": "stream",
          "text": [
            "AUC: 82.407\n"
          ],
          "name": "stdout"
        }
      ]
    },
    {
      "cell_type": "code",
      "metadata": {
        "id": "7uAhz1sMS7UC",
        "colab_type": "code",
        "outputId": "7f0dee58-9f5f-4701-aaf3-066530a1cd8c",
        "colab": {
          "base_uri": "https://localhost:8080/",
          "height": 51
        }
      },
      "source": [
        "# Confusion Matrix\n",
        "# Permite verificar a acurácia em um formato de tabela\n",
        "\n",
        "# Import dos módulos\n",
        "from pandas import read_csv\n",
        "from sklearn.model_selection import train_test_split\n",
        "from sklearn.linear_model import LogisticRegression\n",
        "from sklearn.metrics import confusion_matrix\n",
        "\n",
        "# Carregando os dados\n",
        "arquivo = 'pima-data.csv'\n",
        "colunas = ['preg', 'plas', 'pres', 'skin', 'test', 'mass', 'pedi', 'age', 'class']\n",
        "dados = read_csv(arquivo, names = colunas)\n",
        "array = dados.values\n",
        "\n",
        "# Separando o array em componentes de input e output\n",
        "X = array[:,0:8]\n",
        "Y = array[:,8]\n",
        "\n",
        "# Definindo o tamanho do conjunto de dados\n",
        "teste_size = 0.33\n",
        "seed = 7\n",
        "\n",
        "# Dividindo os dados em treino e teste\n",
        "X_treino, X_teste, Y_treino, Y_teste = train_test_split(X, Y, test_size = teste_size, random_state = seed)\n",
        "\n",
        "# Criando o modelo\n",
        "model = LogisticRegression()\n",
        "model.fit(X_treino, Y_treino)\n",
        "\n",
        "# Fazendo as previsões e construindo a Confusion Matrix\n",
        "previsoes = model.predict(X_teste)\n",
        "matrix = confusion_matrix(Y_teste, previsoes)\n",
        "\n",
        "# Imprimindo a Confusion Matrix\n",
        "print(matrix)"
      ],
      "execution_count": 12,
      "outputs": [
        {
          "output_type": "stream",
          "text": [
            "[[142  20]\n",
            " [ 34  58]]\n"
          ],
          "name": "stdout"
        }
      ]
    },
    {
      "cell_type": "code",
      "metadata": {
        "id": "7yu85BATS7UJ",
        "colab_type": "code",
        "outputId": "0714b56d-ddc5-44b6-825c-036e4d313fdb",
        "colab": {
          "base_uri": "https://localhost:8080/",
          "height": 170
        }
      },
      "source": [
        "# Relatório de Classificação\n",
        "\n",
        "# Import dos módulos\n",
        "from pandas import read_csv\n",
        "from sklearn.model_selection import train_test_split\n",
        "from sklearn.linear_model import LogisticRegression\n",
        "from sklearn.metrics import classification_report\n",
        "\n",
        "# Carregando os dados\n",
        "arquivo = 'pima-data.csv'\n",
        "colunas = ['preg', 'plas', 'pres', 'skin', 'test', 'mass', 'pedi', 'age', 'class']\n",
        "dados = read_csv(arquivo, names = colunas)\n",
        "array = dados.values\n",
        "\n",
        "# Separando o array em componentes de input e output\n",
        "X = array[:,0:8]\n",
        "Y = array[:,8]\n",
        "\n",
        "# Definindo o tamanho do conjunto de dados\n",
        "teste_size = 0.33\n",
        "seed = 7\n",
        "\n",
        "# Dividindo os dados em treino e teste\n",
        "X_treino, X_teste, Y_treino, Y_teste = train_test_split(X, Y, test_size = teste_size, random_state = seed)\n",
        "\n",
        "# Criando o modelo\n",
        "modelo = LogisticRegression()\n",
        "modelo.fit(X_treino, Y_treino)\n",
        "\n",
        "# Fazendo as previsões e construindo o relatório\n",
        "previsoes = model.predict(X_teste)\n",
        "report = classification_report(Y_teste, previsoes)\n",
        "\n",
        "# Imprimindo o relatório\n",
        "print(report)"
      ],
      "execution_count": 13,
      "outputs": [
        {
          "output_type": "stream",
          "text": [
            "              precision    recall  f1-score   support\n",
            "\n",
            "         0.0       0.81      0.88      0.84       162\n",
            "         1.0       0.74      0.63      0.68        92\n",
            "\n",
            "    accuracy                           0.79       254\n",
            "   macro avg       0.78      0.75      0.76       254\n",
            "weighted avg       0.78      0.79      0.78       254\n",
            "\n"
          ],
          "name": "stdout"
        }
      ]
    },
    {
      "cell_type": "markdown",
      "metadata": {
        "id": "SwfGqoVrS7Ut",
        "colab_type": "text"
      },
      "source": [
        "## Otimização do Modelo - Ajuste de Hyperparâmetros"
      ]
    },
    {
      "cell_type": "markdown",
      "metadata": {
        "id": "KV81rNV0S7Ut",
        "colab_type": "text"
      },
      "source": [
        "Todos os algoritmos de Machine Learning são parametrizados, o que significa que você pode ajustar a performance do seu modelo preditivo, através do tuning (ajuste fino) dos parâmetros. Seu trabalho é encontrar a melhor combinação entre os parâmetros em cada algoritmo de Machine Learning. Esse processo também é chamado de Otimização de Hyperparâmetros. O scikit-learn oferece dois métodos para otimização automática dos parâmetros: Grid Search Parameter Tuning e Random Search Parameter Tuning. "
      ]
    },
    {
      "cell_type": "markdown",
      "metadata": {
        "id": "7r5mQVJiS7Uu",
        "colab_type": "text"
      },
      "source": [
        "### Grid Search Parameter Tuning"
      ]
    },
    {
      "cell_type": "markdown",
      "metadata": {
        "id": "ry7rA7jGS7Uu",
        "colab_type": "text"
      },
      "source": [
        "Este método realiza metodicamente combinações entre todos os parâmetros do algoritmo, criando um grid. Vamos experimentar este método utilizando o algoritmo de Regressão Logística. "
      ]
    },
    {
      "cell_type": "code",
      "metadata": {
        "id": "Mk4MKzPxS7Uu",
        "colab_type": "code",
        "colab": {
          "base_uri": "https://localhost:8080/",
          "height": 136
        },
        "outputId": "f177c13c-1495-4d2c-f9d9-8e568fa4705f"
      },
      "source": [
        "# Import dos módulos\n",
        "from pandas import read_csv\n",
        "from sklearn.model_selection import GridSearchCV\n",
        "from sklearn.linear_model import LogisticRegression\n",
        "\n",
        "# Carregando os dados\n",
        "arquivo = 'pima-data.csv'\n",
        "colunas = ['preg', 'plas', 'pres', 'skin', 'test', 'mass', 'pedi', 'age', 'class']\n",
        "dados = read_csv(arquivo, names = colunas)\n",
        "array = dados.values\n",
        "\n",
        "# Separando o array em componentes de input e output\n",
        "X = array[:,0:8]\n",
        "Y = array[:,8]\n",
        "\n",
        "# Definindo os valores que serão testados\n",
        "valores_grid = {'penalty': ['l1','l2'], 'C': [0.001,0.01,0.1,1,10,100,1000]}\n",
        "\n",
        "# Criando o modelo\n",
        "modelo = LogisticRegression()\n",
        "\n",
        "# Criando o grid\n",
        "grid = GridSearchCV(estimator = modelo, param_grid = valores_grid)\n",
        "grid.fit(X, Y)\n",
        "\n",
        "# Print do resultado\n",
        "print(\"Acurácia: %.3f\" % (grid.best_score_ * 100))\n",
        "print(\"Melhores Parâmetros do Modelo:\\n\", grid.best_estimator_)"
      ],
      "execution_count": 16,
      "outputs": [
        {
          "output_type": "stream",
          "text": [
            "Acurácia: 77.610\n",
            "Melhores Parâmetros do Modelo:\n",
            " LogisticRegression(C=10, class_weight=None, dual=False, fit_intercept=True,\n",
            "                   intercept_scaling=1, l1_ratio=None, max_iter=100,\n",
            "                   multi_class='auto', n_jobs=None, penalty='l2',\n",
            "                   random_state=None, solver='lbfgs', tol=0.0001, verbose=0,\n",
            "                   warm_start=False)\n"
          ],
          "name": "stdout"
        }
      ]
    },
    {
      "cell_type": "markdown",
      "metadata": {
        "id": "GR7sGXXfS7Uw",
        "colab_type": "text"
      },
      "source": [
        "### Random Search Parameter Tuning"
      ]
    },
    {
      "cell_type": "markdown",
      "metadata": {
        "id": "VMfRAv0PS7Ux",
        "colab_type": "text"
      },
      "source": [
        "Este método gera amostras dos parâmetros dos algoritmos a partir de uma distribuição randômica uniforme para um número fixo de iterações. Um modelo é construído e testado para cada combinação de parâmetros."
      ]
    },
    {
      "cell_type": "code",
      "metadata": {
        "id": "62aMhyqUS7Ux",
        "colab_type": "code",
        "colab": {}
      },
      "source": [
        "# Import dos módulos\n",
        "from pandas import read_csv\n",
        "from sklearn.model_selection import RandomizedSearchCV\n",
        "from sklearn.linear_model import LogisticRegression\n",
        "import warnings\n",
        "warnings.filterwarnings('ignore')\n",
        "\n",
        "# Carregando os dados\n",
        "arquivo = 'pima-data.csv'\n",
        "colunas = ['preg', 'plas', 'pres', 'skin', 'test', 'mass', 'pedi', 'age', 'class']\n",
        "dados = read_csv(arquivo, names = colunas)\n",
        "array = dados.values\n",
        "\n",
        "# Separando o array em componentes de input e output\n",
        "X = array[:,0:8]\n",
        "Y = array[:,8]\n",
        "\n",
        "# Definindo os valores que serão testados\n",
        "seed = 7\n",
        "iterations = 14\n",
        "\n",
        "# Definindo os valores que serão testados\n",
        "valores_grid = {'penalty': ['l1','l2'], 'C': [0.001,0.01,0.1,1,10,100,1000]}\n",
        "\n",
        "# Criando o modelo\n",
        "modelo = LogisticRegression()\n",
        "\n",
        "# Criando o grid\n",
        "rsearch = RandomizedSearchCV(estimator = modelo, \n",
        "                             param_distributions = valores_grid, \n",
        "                             n_iter = iterations, \n",
        "                             random_state = seed)\n",
        "rsearch.fit(X, Y)\n",
        "\n",
        "# Print dos resultados\n",
        "print(\"Acurácia: %.3f\" % (rsearch.best_score_ * 100))\n",
        "print(\"Melhores Parâmetros do Modelo:\\n\", rsearch.best_estimator_)"
      ],
      "execution_count": 0,
      "outputs": []
    },
    {
      "cell_type": "markdown",
      "metadata": {
        "id": "r648oc8bS7U5",
        "colab_type": "text"
      },
      "source": [
        "### Otimizando Performance com Métodos Ensemble"
      ]
    },
    {
      "cell_type": "markdown",
      "metadata": {
        "id": "iZIGdCCMS7U6",
        "colab_type": "text"
      },
      "source": [
        "Métodos Ensemble permitem aumentar consideravelmente o nível de precisão nas suas previsões. Veremos como criar alguns dos Métodos Ensemble mais poderosos em Python. Existem 3 métodos principais para combinar previsões a partir de diferentes modelos:"
      ]
    },
    {
      "cell_type": "markdown",
      "metadata": {
        "id": "It6dGvZmS7U7",
        "colab_type": "text"
      },
      "source": [
        "Bagging - Para construção de múltiplos modelos (normalmente do mesmo tipo) a partir de diferentes subsets no dataset de treino."
      ]
    },
    {
      "cell_type": "markdown",
      "metadata": {
        "id": "CeBdOeMtS7U7",
        "colab_type": "text"
      },
      "source": [
        "Boosting - Para construção de múltiplos modelos (normalmente do mesmo tipo), onde cada modelo aprende a corrigir os erros gerados pelo modelo anterior, dentro da sequência de modelos criados."
      ]
    },
    {
      "cell_type": "markdown",
      "metadata": {
        "id": "HV8zz5xLS7U8",
        "colab_type": "text"
      },
      "source": [
        "Voting - Para construção de múltiplos modelos (normalmente de tipos diferentes) e estatísticas simples (como a média) são usadas para combinar as previsões."
      ]
    },
    {
      "cell_type": "markdown",
      "metadata": {
        "id": "jaNGx0imS7U8",
        "colab_type": "text"
      },
      "source": [
        "Vejamos como utilizar estes métodos."
      ]
    },
    {
      "cell_type": "markdown",
      "metadata": {
        "id": "kKk6XwHqS7VB",
        "colab_type": "text"
      },
      "source": [
        "### Random Forest"
      ]
    },
    {
      "cell_type": "markdown",
      "metadata": {
        "id": "CGZ71eZfS7VB",
        "colab_type": "text"
      },
      "source": [
        "Random Forest é uma extensão do Baggig Decision Tree. Amostras do dataset de treino são usadas com reposição, mas as árvores são criadas de uma forma que reduz a correlação entre classificadores individuais (Random Forest é um conjunto de árvores de decisão)."
      ]
    },
    {
      "cell_type": "code",
      "metadata": {
        "id": "sDRhTymJS7VC",
        "colab_type": "code",
        "colab": {}
      },
      "source": [
        "# Import dos módulos\n",
        "from pandas import read_csv\n",
        "from sklearn.model_selection import KFold\n",
        "from sklearn.model_selection import cross_val_score\n",
        "from sklearn.ensemble import RandomForestClassifier\n",
        "\n",
        "# Carregando os dados\n",
        "arquivo = 'pima-data.csv'\n",
        "colunas = ['preg', 'plas', 'pres', 'skin', 'test', 'mass', 'pedi', 'age', 'class']\n",
        "dados = read_csv(arquivo, names = colunas)\n",
        "array = dados.values\n",
        "\n",
        "# Separando o array em componentes de input e output\n",
        "X = array[:,0:8]\n",
        "Y = array[:,8]\n",
        "\n",
        "# Definindo os valores para o número de folds\n",
        "num_folds = 10\n",
        "seed = 7\n",
        "\n",
        "# Definindo o número de trees\n",
        "num_trees = 100\n",
        "max_features = 3\n",
        "\n",
        "# Separando os dados em folds\n",
        "kfold = KFold(num_folds, True, random_state = seed)\n",
        "\n",
        "# Criando o modelo\n",
        "modelo = RandomForestClassifier(n_estimators = num_trees, max_features = max_features)\n",
        "\n",
        "# Cross Validation\n",
        "resultado = cross_val_score(modelo, X, Y, cv = kfold)\n",
        "\n",
        "# Print do resultado\n",
        "print(\"Acurácia: %.3f\" % (resultado.mean() * 100))"
      ],
      "execution_count": 0,
      "outputs": []
    },
    {
      "cell_type": "markdown",
      "metadata": {
        "id": "xjL5c6qJS7VS",
        "colab_type": "text"
      },
      "source": [
        "## Algoritmo XGBoost - Extreme Gradient Boosting"
      ]
    },
    {
      "cell_type": "markdown",
      "metadata": {
        "id": "FFWvrRJLS7VT",
        "colab_type": "text"
      },
      "source": [
        "O algoritmo XGBoost é uma extensão do GBM (Gradient Boosting Method) que permite trabalhar com multithreading em uma única máquina e processamento paralelo em um cluster de vários servidores. A principal vantagem do XGBoost sobre o GBM é sua capacidade de gerenciar dados esparsos. O XGBoost automaticamente aceita dados esparsos como input sem armazenar zeros na memória."
      ]
    },
    {
      "cell_type": "markdown",
      "metadata": {
        "id": "B8pVSdieS7VT",
        "colab_type": "text"
      },
      "source": [
        "Principais vantagensdo XGBoost:"
      ]
    },
    {
      "cell_type": "markdown",
      "metadata": {
        "id": "_ZL3CkZXS7VU",
        "colab_type": "text"
      },
      "source": [
        "1- Aceita dados esparsos (o que permite trabalhar com matrizes esparsas), sem a necessidade de conversão para matrizes densas."
      ]
    },
    {
      "cell_type": "markdown",
      "metadata": {
        "id": "LKsQ6keYS7VV",
        "colab_type": "text"
      },
      "source": [
        "2- Constrói uma árvore de aprendizagem utilizando um moderno método de split (chamado quatile sketch), o que resulta em tempo de processamento muito menor que métodos tradicionais."
      ]
    },
    {
      "cell_type": "markdown",
      "metadata": {
        "id": "9pVdid3uS7VW",
        "colab_type": "text"
      },
      "source": [
        "3- Permite computação paralela em uma única máquina (através do uso de multithreading) e processamento paralelo em máquinas distribuídas em cluster."
      ]
    },
    {
      "cell_type": "markdown",
      "metadata": {
        "id": "1LbwF1VlS7VW",
        "colab_type": "text"
      },
      "source": [
        "Basicamente o XGBoost utiliza os mesmos parâmetros do GBM e permite tratamento avançado de dados missing."
      ]
    },
    {
      "cell_type": "markdown",
      "metadata": {
        "id": "467IMnPMS7VX",
        "colab_type": "text"
      },
      "source": [
        "O XGBoost é muito utilizado por **Cientistas de Dados que vencem competições no Kaggle**. Repositório no Github: https://github.com/dmlc/XGBoost"
      ]
    },
    {
      "cell_type": "markdown",
      "metadata": {
        "id": "pJMeEpk5S7VY",
        "colab_type": "text"
      },
      "source": [
        "### Instalar XGBoost a partir do PyPi\n",
        "!pip install xgboost"
      ]
    },
    {
      "cell_type": "code",
      "metadata": {
        "id": "5tvI8RTMS7VY",
        "colab_type": "code",
        "colab": {}
      },
      "source": [
        "!pip install xgboost"
      ],
      "execution_count": 0,
      "outputs": []
    },
    {
      "cell_type": "code",
      "metadata": {
        "id": "AkMXz5BvS7Va",
        "colab_type": "code",
        "outputId": "34ce52b5-23eb-401d-bb87-155e9e6551af",
        "colab": {
          "base_uri": "https://localhost:8080/",
          "height": 153
        }
      },
      "source": [
        "# Import dos módulos\n",
        "from pandas import read_csv\n",
        "from sklearn.model_selection import train_test_split\n",
        "from sklearn.metrics import accuracy_score\n",
        "from xgboost import XGBClassifier\n",
        "\n",
        "# Carregando os dados\n",
        "arquivo = 'pima-data.csv'\n",
        "colunas = ['preg', 'plas', 'pres', 'skin', 'test', 'mass', 'pedi', 'age', 'class']\n",
        "dados = read_csv(arquivo, names = colunas)\n",
        "array = dados.values\n",
        "\n",
        "# Separando o array em componentes de input e output\n",
        "X = array[:,0:8]\n",
        "Y = array[:,8]\n",
        "\n",
        "# Definindo o tamanho dos dados de treino e de teste\n",
        "teste_size = 0.33\n",
        "seed = 7\n",
        "\n",
        "# Criando o dataset de treino e de teste\n",
        "X_treino, X_teste, y_treino, y_teste = train_test_split(X, Y, test_size = teste_size, random_state = seed)\n",
        "\n",
        "# Criando o modelo\n",
        "modelo = XGBClassifier()\n",
        "\n",
        "# Treinando o modelo\n",
        "modelo.fit(X_treino, y_treino)\n",
        "\n",
        "# Pront do modelo\n",
        "print(modelo)\n",
        "\n",
        "# Fazendo previsões\n",
        "y_pred = modelo.predict(X_teste)\n",
        "previsoes = [round(value) for value in y_pred]\n",
        "\n",
        "# Avaliando as previsões\n",
        "accuracy = accuracy_score(y_teste, previsoes)\n",
        "print(\"Acurácia: %.2f%%\" % (accuracy * 100.0))"
      ],
      "execution_count": 18,
      "outputs": [
        {
          "output_type": "stream",
          "text": [
            "XGBClassifier(base_score=0.5, booster='gbtree', colsample_bylevel=1,\n",
            "              colsample_bynode=1, colsample_bytree=1, gamma=0,\n",
            "              learning_rate=0.1, max_delta_step=0, max_depth=3,\n",
            "              min_child_weight=1, missing=None, n_estimators=100, n_jobs=1,\n",
            "              nthread=None, objective='binary:logistic', random_state=0,\n",
            "              reg_alpha=0, reg_lambda=1, scale_pos_weight=1, seed=None,\n",
            "              silent=None, subsample=1, verbosity=1)\n",
            "Acurácia: 77.95%\n"
          ],
          "name": "stdout"
        }
      ]
    },
    {
      "cell_type": "markdown",
      "metadata": {
        "id": "p-vDYNphS7Uz",
        "colab_type": "text"
      },
      "source": [
        "# 6. Salvando o resultado do seu trabalho (Deploy?)"
      ]
    },
    {
      "cell_type": "code",
      "metadata": {
        "id": "CKFTV8WJS7U0",
        "colab_type": "code",
        "outputId": "844d2bed-087a-44f0-fcac-35b86e8facbd",
        "colab": {
          "base_uri": "https://localhost:8080/",
          "height": 68
        }
      },
      "source": [
        "# Salvando o resultado do seu trabalho\n",
        "from pandas import read_csv\n",
        "from sklearn.model_selection import train_test_split\n",
        "from sklearn.linear_model import LogisticRegression\n",
        "import pickle\n",
        "import warnings\n",
        "warnings.filterwarnings('ignore')\n",
        "\n",
        "# Carregando os dados\n",
        "arquivo = 'pima-data.csv'\n",
        "colunas = ['preg', 'plas', 'pres', 'skin', 'test', 'mass', 'pedi', 'age', 'class']\n",
        "dados = read_csv(arquivo, names = colunas)\n",
        "array = dados.values\n",
        "\n",
        "# Separando o array em componentes de input e output\n",
        "X = array[:,0:8]\n",
        "Y = array[:,8]\n",
        "\n",
        "# Definindo o tamanho dos dados de treino e de teste\n",
        "teste_size = 0.33\n",
        "seed = 7\n",
        "\n",
        "# Criando o dataset de treino e de teste\n",
        "X_treino, X_teste, Y_treino, Y_teste = train_test_split(X, Y, test_size = teste_size, random_state = seed)\n",
        "\n",
        "# Criando o modelo\n",
        "modelo = LogisticRegression()\n",
        "\n",
        "# Treinando o modelo\n",
        "modelo.fit(X_treino, Y_treino)\n",
        "\n",
        "# Salvando o modelo\n",
        "arquivo = 'modelo_classificador_final.sav'\n",
        "pickle.dump(modelo, open(arquivo, 'wb'))\n",
        "print(\"Modelo salvo!\")\n",
        "\n",
        "# Carregando o arquivo\n",
        "modelo_classificador_final = pickle.load(open(arquivo, 'rb'))\n",
        "modelo_prod = modelo_classificador_final.score(X_teste, Y_teste)\n",
        "print(\"Modelo carregado!\")\n",
        "\n",
        "# Print do resultado\n",
        "print(\"Acurácia: %.3f\" % (modelo_prod.mean() * 100))"
      ],
      "execution_count": 19,
      "outputs": [
        {
          "output_type": "stream",
          "text": [
            "Modelo salvo!\n",
            "Modelo carregado!\n",
            "Acurácia: 78.740\n"
          ],
          "name": "stdout"
        }
      ]
    },
    {
      "cell_type": "markdown",
      "metadata": {
        "collapsed": true,
        "id": "VKVPPr_ES7Vc",
        "colab_type": "text"
      },
      "source": [
        "# Fim"
      ]
    },
    {
      "cell_type": "markdown",
      "metadata": {
        "id": "nvETGaDKrvNg",
        "colab_type": "text"
      },
      "source": [
        "### #Facebook - Ciência dos Dados - <a href=\"http://facebook.com/cienciadosdadosbr\">facebook.com/cienciadosdadosbr</a>"
      ]
    },
    {
      "cell_type": "markdown",
      "metadata": {
        "id": "iRkAI2airx6V",
        "colab_type": "text"
      },
      "source": [
        "### #**Telegram** - Scripts e Datasets - Comunidade Telegram <a href=\"https://t.me/cienciadosdados\">https://t.me/cienciadosdados</a>"
      ]
    },
    {
      "cell_type": "markdown",
      "metadata": {
        "id": "cakIhnHGr4Nu",
        "colab_type": "text"
      },
      "source": [
        "### #YouTube - Mais Aulas como essa no YouTube <a href=\"https://www.youtube.com/watch?v=IaIc5oHd3II&t=1569s\">https://www.youtube.com/watch?v=IaIc5oHd3II&t=1569s</a>"
      ]
    },
    {
      "cell_type": "code",
      "metadata": {
        "id": "Y0GudUV0r4wC",
        "colab_type": "code",
        "outputId": "feff5faf-bc4f-41a8-d06d-a58b66b83f75",
        "colab": {
          "base_uri": "https://localhost:8080/",
          "height": 221
        }
      },
      "source": [
        "from IPython.core.display import HTML\n",
        "HTML('<iframe width=\"300\" height=\"200\" src=\"https://www.youtube.com/embed/EbxV4I0BkXk\" frameborder=\"0\" allow=\"accelerometer; autoplay; encrypted-media; gyroscope; picture-in-picture\" allowfullscreen></iframe>')"
      ],
      "execution_count": 20,
      "outputs": [
        {
          "output_type": "execute_result",
          "data": {
            "text/html": [
              "<iframe width=\"300\" height=\"200\" src=\"https://www.youtube.com/embed/EbxV4I0BkXk\" frameborder=\"0\" allow=\"accelerometer; autoplay; encrypted-media; gyroscope; picture-in-picture\" allowfullscreen></iframe>"
            ],
            "text/plain": [
              "<IPython.core.display.HTML object>"
            ]
          },
          "metadata": {
            "tags": []
          },
          "execution_count": 20
        }
      ]
    },
    {
      "cell_type": "code",
      "metadata": {
        "id": "7V0ngfERB71a",
        "colab_type": "code",
        "colab": {}
      },
      "source": [
        ""
      ],
      "execution_count": 0,
      "outputs": []
    }
  ]
}