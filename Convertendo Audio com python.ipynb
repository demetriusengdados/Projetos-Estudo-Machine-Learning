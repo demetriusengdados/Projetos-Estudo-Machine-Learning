{
 "cells": [
  {
   "cell_type": "code",
   "execution_count": null,
   "metadata": {},
   "outputs": [],
   "source": [
    "from gtts import gTTS\n",
    "#pip3 install gtts\n",
    "from playsound import playsound\n",
    "#pip install playsound\n",
    "\n",
    "audio = 'spech.mp3'\n",
    "language = 'pt'\n",
    "sp = gTTS(text = \"Entre com seu texto para ser convertido em um arquivo de audio\", \n",
    "         lang = language, slow = False)\n",
    "\n",
    "sp.save(audio)\n",
    "playsound(audio)"
   ]
  }
 ],
 "metadata": {
  "kernelspec": {
   "display_name": "Python 3",
   "language": "python",
   "name": "python3"
  },
  "language_info": {
   "codemirror_mode": {
    "name": "ipython",
    "version": 3
   },
   "file_extension": ".py",
   "mimetype": "text/x-python",
   "name": "python",
   "nbconvert_exporter": "python",
   "pygments_lexer": "ipython3",
   "version": "3.8.5"
  }
 },
 "nbformat": 4,
 "nbformat_minor": 4
}
