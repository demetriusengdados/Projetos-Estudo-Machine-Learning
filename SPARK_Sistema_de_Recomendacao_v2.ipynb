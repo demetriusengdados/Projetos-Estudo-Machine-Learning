{
  "nbformat": 4,
  "nbformat_minor": 0,
  "metadata": {
    "anaconda-cloud": {},
    "colab": {
      "name": "SPARK_Sistema_de_Recomendacao v2.ipynb",
      "provenance": [],
      "collapsed_sections": []
    },
    "kernelspec": {
      "display_name": "Python 3",
      "language": "python",
      "name": "python3"
    },
    "language_info": {
      "codemirror_mode": {
        "name": "ipython",
        "version": 3
      },
      "file_extension": ".py",
      "mimetype": "text/x-python",
      "name": "python",
      "nbconvert_exporter": "python",
      "pygments_lexer": "ipython3",
      "version": "3.7.6"
    }
  },
  "cells": [
    {
      "cell_type": "markdown",
      "metadata": {
        "colab_type": "text",
        "id": "3A5iM0HZDW20"
      },
      "source": [
        "# <font color='purple'>Ciência dos Dados</font>\n",
        "## <font color='blue'>BigData com Spark</font>\n",
        "\n",
        "## <font color='blue'>Sistema de Recomendacao</font>"
      ]
    },
    {
      "cell_type": "markdown",
      "metadata": {
        "colab_type": "text",
        "id": "-0TpQUL-DW3A"
      },
      "source": [
        "### *********** Atenção: *********** \n",
        "Utilize Java JDK 1.8 ou 11 e Apache Spark 2.4.2"
      ]
    },
    {
      "cell_type": "markdown",
      "metadata": {
        "colab_type": "text",
        "id": "9z-4uBgpDW3U"
      },
      "source": [
        "****** Caso receba mensagem de erro \"name 'sc' is not defined\", interrompa o pyspark e apague o diretório metastore_db no mesmo diretório onde está este Jupyter notebook ******"
      ]
    },
    {
      "cell_type": "markdown",
      "metadata": {
        "colab_type": "text",
        "id": "HFXDzRoJDW3a"
      },
      "source": [
        "## <font color='blue'>Spark MLLib - Sistema de Recomendação</font>"
      ]
    },
    {
      "cell_type": "markdown",
      "metadata": {
        "colab_type": "text",
        "id": "wfUZ-TUSDW3e"
      },
      "source": [
        "<strong> Descrição </strong>\n",
        "<ul style=\"list-style-type:square\">\n",
        "  <li>Também chamado de filtros colaborativos.</li>\n",
        "  <li>Analisa dados passados para compreender comportamentos de pessoas/entidades.</li>\n",
        "  <li>A recomendação é feita por similaridade de comportamento.</li>\n",
        "  <li>Recomendação baseada em usuários ou items.</li>\n",
        "  <li>Algoritmos de Recomendação esperam receber os dados em um formato específico: [user_ID, item_ID, score].</li>\n",
        "  <li>Score, também chamado rating, indica a preferência de um usuário sobre um item. Podem ser valores booleanos, ratings ou mesmo volume de vendas.</li>\n",
        "</ul>"
      ]
    },
    {
      "cell_type": "code",
      "metadata": {
        "colab_type": "code",
        "id": "CVWtPkJMDW3f",
        "colab": {}
      },
      "source": [
        "# Imports de pacotes\n",
        "from pyspark.ml.recommendation import ALS"
      ],
      "execution_count": null,
      "outputs": []
    },
    {
      "cell_type": "code",
      "metadata": {
        "colab_type": "code",
        "id": "LpUBduFRDW3m",
        "colab": {}
      },
      "source": [
        "# Spark Session - usada quando se trabalha com Dataframes no Spark\n",
        "spSession = SparkSession.builder.master(\"local\").appName(\"DSA-SparkMLLib\").getOrCreate()"
      ],
      "execution_count": null,
      "outputs": []
    },
    {
      "cell_type": "code",
      "metadata": {
        "colab_type": "code",
        "id": "OD19CWSnDW31",
        "colab": {},
        "outputId": "f7ee16e7-5607-4621-a000-35921c3788a2"
      },
      "source": [
        "# Carrega os dados no formato ALS (user, item, rating)\n",
        "ratingsRDD = sc.textFile(\"user-item.txt\")\n",
        "ratingsRDD.collect()"
      ],
      "execution_count": null,
      "outputs": [
        {
          "output_type": "execute_result",
          "data": {
            "text/plain": [
              "['1001,9001,10',\n",
              " '1001,9002,1',\n",
              " '1001,9003,9',\n",
              " '1002,9001,3',\n",
              " '1002,9002,5',\n",
              " '1002,9003,1',\n",
              " '1002,9004,10',\n",
              " '1003,9001,2',\n",
              " '1003,9002,6',\n",
              " '1003,9003,2',\n",
              " '1003,9004,9',\n",
              " '1003,9005,10',\n",
              " '1003,9006,8',\n",
              " '1003,9007,9',\n",
              " '1004,9001,9',\n",
              " '1004,9002,2',\n",
              " '1004,9003,8',\n",
              " '1004,9004,3',\n",
              " '1004,9010,10',\n",
              " '1004,9011,9',\n",
              " '1004,9012,8',\n",
              " '1005,9001,8',\n",
              " '1005,9002,3',\n",
              " '1005,9003,7',\n",
              " '1005,9004,1',\n",
              " '1005,9010,9',\n",
              " '1005,9011,10',\n",
              " '1005,9012,9',\n",
              " '1005,9013,8',\n",
              " '1005,9014,1',\n",
              " '1005,9015,1',\n",
              " '1006,9001,7',\n",
              " '1006,9002,4',\n",
              " '1006,9003,8',\n",
              " '1006,9004,1',\n",
              " '1006,9010,7',\n",
              " '1006,9011,6',\n",
              " '1006,9012,9']"
            ]
          },
          "metadata": {
            "tags": []
          },
          "execution_count": 4
        }
      ]
    },
    {
      "cell_type": "code",
      "metadata": {
        "colab_type": "code",
        "id": "DN7PwirkDW4B",
        "colab": {}
      },
      "source": [
        "# Convertendo as strings\n",
        "ratingsRDD2 = ratingsRDD.map(lambda l: l.split(',')).map(lambda l:(int(l[0]), int(l[1]), float(l[2])))"
      ],
      "execution_count": null,
      "outputs": []
    },
    {
      "cell_type": "code",
      "metadata": {
        "colab_type": "code",
        "id": "l95GVCuBmFYu",
        "colab": {}
      },
      "source": [
        "# Criando um Dataframe\n",
        "ratingsDF = spSession.createDataFrame(ratingsRDD2, [\"user\", \"item\", \"rating\"])"
      ],
      "execution_count": null,
      "outputs": []
    },
    {
      "cell_type": "code",
      "metadata": {
        "id": "makTey_HQH36",
        "colab_type": "code",
        "colab": {},
        "outputId": "54106541-4caa-4694-a24b-7d3c9837db52"
      },
      "source": [
        "ratingsDF "
      ],
      "execution_count": null,
      "outputs": [
        {
          "output_type": "execute_result",
          "data": {
            "text/plain": [
              "DataFrame[user: bigint, item: bigint, rating: double]"
            ]
          },
          "metadata": {
            "tags": []
          },
          "execution_count": 7
        }
      ]
    },
    {
      "cell_type": "code",
      "metadata": {
        "colab_type": "code",
        "id": "pM3wbHwsDW4p",
        "colab": {}
      },
      "source": [
        "# Construindo o modelo\n",
        "# ALS = Alternating Least Squares --> Algoritmo para sistema de recomendação, que otimiza a loss function \n",
        "# e funciona muito bem em ambientes paralelizados\n",
        "als = ALS(rank = 10, maxIter = 5)\n",
        "modelo = als.fit(ratingsDF)"
      ],
      "execution_count": null,
      "outputs": []
    },
    {
      "cell_type": "code",
      "metadata": {
        "colab_type": "code",
        "id": "ARuHfZ5ODW5G",
        "colab": {},
        "outputId": "55d28a54-f2bd-409e-da71-b3b11fe99d94"
      },
      "source": [
        "# Visualizando o Affinity Score\n",
        "modelo.userFactors.orderBy(\"id\").collect()"
      ],
      "execution_count": null,
      "outputs": [
        {
          "output_type": "execute_result",
          "data": {
            "text/plain": [
              "[Row(id=1001, features=[0.9681084156036377, -0.6955734491348267, 0.7195470929145813, -0.23173299431800842, 0.258536159992218, 0.21683301031589508, -0.3001883029937744, 0.9602264761924744, 0.4306694269180298, 0.176595076918602]),\n",
              " Row(id=1002, features=[0.2752208411693573, 0.45148375630378723, 0.007497432176023722, 0.029693691059947014, 0.7466303110122681, 1.5252691507339478, 0.1335616558790207, -0.6253135204315186, -0.16368703544139862, -0.18602345883846283]),\n",
              " Row(id=1003, features=[0.31628555059432983, 0.48526066541671753, -0.09361215680837631, 0.6461942791938782, 0.16269101202487946, 1.2503844499588013, 0.22005711495876312, -0.5321128368377686, -0.16695955395698547, 0.0727267861366272]),\n",
              " Row(id=1004, features=[0.9316565990447998, -0.7643890976905823, 0.4667227268218994, -0.060695432126522064, 0.544359028339386, 0.6515966057777405, -0.22367969155311584, 0.5234723091125488, 0.09014416486024857, 0.03905295953154564]),\n",
              " Row(id=1005, features=[0.7033907771110535, 0.16621631383895874, 0.7207597494125366, -0.14930357038974762, -0.0844234973192215, 0.4931977391242981, -0.14033769071102142, 0.6706025004386902, 0.5866522789001465, 0.34019169211387634]),\n",
              " Row(id=1006, features=[0.8660502433776855, -0.25038591027259827, 0.23852765560150146, 1.1677603721618652, -0.6388601660728455, 0.19746306538581848, 0.04223300889134407, 0.5780878663063049, 0.20296424627304077, 0.5022971630096436])]"
            ]
          },
          "metadata": {
            "tags": []
          },
          "execution_count": 9
        }
      ]
    },
    {
      "cell_type": "code",
      "metadata": {
        "colab_type": "code",
        "id": "vgy_oDakDW5Y",
        "colab": {}
      },
      "source": [
        "# Criando um dataset de teste com usuários e items para rating\n",
        "testeDF = spSession.createDataFrame([(1001,9004),(1001,9005),(1001,9010)], [\"user\", \"item\"])"
      ],
      "execution_count": null,
      "outputs": []
    },
    {
      "cell_type": "code",
      "metadata": {
        "colab_type": "code",
        "id": "Wl-Z6MVSDW5k",
        "colab": {},
        "outputId": "83e93a7d-fad5-4edb-abeb-0b2a51da75e1"
      },
      "source": [
        "# Previsões  \n",
        "# Quanto maior o Affinity Score, maior a probabilidade do usuário aceitar uma recomendação\n",
        "previsoes = (modelo.transform(testeDF).collect())\n",
        "previsoes"
      ],
      "execution_count": null,
      "outputs": [
        {
          "output_type": "execute_result",
          "data": {
            "text/plain": [
              "[Row(user=1001, item=9004, prediction=-0.6358490586280823),\n",
              " Row(user=1001, item=9005, prediction=-2.2901651859283447),\n",
              " Row(user=1001, item=9010, prediction=11.249283790588379)]"
            ]
          },
          "metadata": {
            "tags": []
          },
          "execution_count": 11
        }
      ]
    },
    {
      "cell_type": "markdown",
      "metadata": {
        "colab_type": "text",
        "id": "TPuJigXuDW6n"
      },
      "source": [
        "# Fim"
      ]
    },
    {
      "cell_type": "markdown",
      "metadata": {
        "colab_type": "text",
        "id": "CFrl1zK6DW6o"
      },
      "source": [
        "### Tamojunto - Ciencia dos Dados <a href=\"http://facebook.com/cienciadosdadosbr\">facebook.com/cienciadosdadosbr</a>"
      ]
    },
    {
      "cell_type": "markdown",
      "metadata": {
        "colab_type": "text",
        "id": "OTcvjJmSEavR"
      },
      "source": [
        "### #**Telegram** - Scripts e Datasets - Comunidade Telegram <a href=\"https://t.me/cienciadosdados\">https://t.me/cienciadosdadosraiz</a>"
      ]
    },
    {
      "cell_type": "markdown",
      "metadata": {
        "colab_type": "text",
        "id": "EHoF5U6PEoJO"
      },
      "source": [
        "### #YouTube - Mais Aulas como essa no YouTube <a href=\"https://www.youtube.com/watch?v=IaIc5oHd3II&t=1569s\">https://www.youtube.com/watch?v=IaIc5oHd3II&t=1569s</a>"
      ]
    }
  ]
}