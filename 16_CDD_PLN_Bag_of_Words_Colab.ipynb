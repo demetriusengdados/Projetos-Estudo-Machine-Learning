{
  "nbformat": 4,
  "nbformat_minor": 0,
  "metadata": {
    "anaconda-cloud": {},
    "kernelspec": {
      "display_name": "Python 3",
      "language": "python",
      "name": "python3"
    },
    "language_info": {
      "codemirror_mode": {
        "name": "ipython",
        "version": 3
      },
      "file_extension": ".py",
      "mimetype": "text/x-python",
      "name": "python",
      "nbconvert_exporter": "python",
      "pygments_lexer": "ipython3",
      "version": "3.6.1"
    },
    "colab": {
      "name": "PLN_Bag_of_Words_Colab.ipynb",
      "provenance": [],
      "toc_visible": true
    },
    "accelerator": "TPU"
  },
  "cells": [
    {
      "cell_type": "markdown",
      "metadata": {
        "id": "qIt9x9FdGHmp",
        "colab_type": "text"
      },
      "source": [
        "# <font color='PURPLE'>Ciência dos Dados #NaPrática \n",
        "# <font color='BLUE'> Processamento de Linguagem Natural\n",
        "\n"
      ]
    },
    {
      "cell_type": "markdown",
      "metadata": {
        "id": "tgYUMmWBGHmr",
        "colab_type": "text"
      },
      "source": [
        "**Problema de Negócio**: Precisamos Criar um sistema de Categorização de Produtos Automatizada"
      ]
    },
    {
      "cell_type": "markdown",
      "metadata": {
        "id": "Go5Xa6mnGHmt",
        "colab_type": "text"
      },
      "source": [
        "## Bag of Words\n",
        "\n",
        "\n",
        "O modelo de \"saco de palavras\" é uma representação simplificada usada no processamento de linguagem natural e recuperação de informação. Neste modelo, um texto (como uma sentença ou um documento) é representado como o saco (multiset) de suas palavras, desconsiderando a gramática e até a ordem das palavras, mas mantendo a multiplicidade com as palavras.\n",
        "\n",
        "Na classificação de documentos, um saco de palavras é um vetor esparso de ocorrência de contagens de palavras; Ou seja, um histograma esparso sobre o vocabulário."
      ]
    },
    {
      "cell_type": "markdown",
      "metadata": {
        "id": "O8HY2yoTGHmu",
        "colab_type": "text"
      },
      "source": [
        "### Carregando um Dataset de um Site de E-commerce (em português)"
      ]
    },
    {
      "cell_type": "code",
      "metadata": {
        "id": "EIhsTesdGHmv",
        "colab_type": "code",
        "colab": {}
      },
      "source": [
        "import gzip\n",
        "import json"
      ],
      "execution_count": 0,
      "outputs": []
    },
    {
      "cell_type": "code",
      "metadata": {
        "id": "BGsP4QJoGHm0",
        "colab_type": "code",
        "colab": {}
      },
      "source": [
        "# Carregando o dataset\n",
        "corpus = list()\n",
        "with gzip.open('ecommerce.json.gz') as fp:\n",
        "    for line in fp:\n",
        "        entry = line.decode('utf8')\n",
        "        corpus.append(json.loads(entry))"
      ],
      "execution_count": 0,
      "outputs": []
    },
    {
      "cell_type": "code",
      "metadata": {
        "id": "1oUCcZ_QGHm4",
        "colab_type": "code",
        "colab": {}
      },
      "source": [
        "from pprint import pprint\n",
        "pprint(corpus[0])"
      ],
      "execution_count": 0,
      "outputs": []
    },
    {
      "cell_type": "code",
      "metadata": {
        "id": "JMj3l16LGHm8",
        "colab_type": "code",
        "colab": {}
      },
      "source": [
        "print (corpus[0]['descr'])"
      ],
      "execution_count": 0,
      "outputs": []
    },
    {
      "cell_type": "markdown",
      "metadata": {
        "id": "t-Y1LGgkGHnA",
        "colab_type": "text"
      },
      "source": [
        "## Gensim - Modelagem de Tópicos"
      ]
    },
    {
      "cell_type": "markdown",
      "metadata": {
        "id": "OcMTOpFaGHnB",
        "colab_type": "text"
      },
      "source": [
        "https://github.com/RaRe-Technologies/gensim"
      ]
    },
    {
      "cell_type": "code",
      "metadata": {
        "id": "j55hin84GHnF",
        "colab_type": "code",
        "colab": {}
      },
      "source": [
        "import warnings\n",
        "warnings.filterwarnings(\"ignore\")"
      ],
      "execution_count": 0,
      "outputs": []
    },
    {
      "cell_type": "code",
      "metadata": {
        "id": "NMLYnKODGHnM",
        "colab_type": "code",
        "colab": {}
      },
      "source": [
        "!pip install gensim"
      ],
      "execution_count": 0,
      "outputs": []
    },
    {
      "cell_type": "code",
      "metadata": {
        "id": "4Q5Qq8r5GHnR",
        "colab_type": "code",
        "colab": {}
      },
      "source": [
        "import gensim\n",
        "print (gensim.summarization.summarize(corpus[2]['descr']))"
      ],
      "execution_count": 0,
      "outputs": []
    },
    {
      "cell_type": "code",
      "metadata": {
        "id": "Z7p1y38UGHnW",
        "colab_type": "code",
        "colab": {}
      },
      "source": [
        "len(corpus)"
      ],
      "execution_count": 0,
      "outputs": []
    },
    {
      "cell_type": "code",
      "metadata": {
        "id": "7XXOQlaiGHna",
        "colab_type": "code",
        "colab": {}
      },
      "source": [
        "# Construindo um classificador para produtos e categorias (considerando apenas os 10 mil primeiros produtos)\n",
        "dataset = list()\n",
        "for entry in corpus[:10000]:\n",
        "    if 'cat' in entry:\n",
        "        dataset.append( (entry['name'], entry['cat'].lower().strip()) )"
      ],
      "execution_count": 0,
      "outputs": []
    },
    {
      "cell_type": "code",
      "metadata": {
        "id": "FFZkGc6LGHnh",
        "colab_type": "code",
        "colab": {}
      },
      "source": [
        "len(dataset)"
      ],
      "execution_count": 0,
      "outputs": []
    },
    {
      "cell_type": "code",
      "metadata": {
        "id": "Ma_MNXEiGHnm",
        "colab_type": "code",
        "colab": {}
      },
      "source": [
        "pprint(dataset[:2])"
      ],
      "execution_count": 0,
      "outputs": []
    },
    {
      "cell_type": "code",
      "metadata": {
        "id": "upnaKur-GHnp",
        "colab_type": "code",
        "colab": {}
      },
      "source": [
        "# Quantas categorias distintas nós temos e quantos itens por categoria?\n",
        "from collections import Counter\n",
        "counter = Counter([cat for prod, cat in dataset])\n",
        "pprint(counter.most_common())"
      ],
      "execution_count": 0,
      "outputs": []
    },
    {
      "cell_type": "markdown",
      "metadata": {
        "id": "fle796nWGHns",
        "colab_type": "text"
      },
      "source": [
        "# Construindo um Classificador SVM com Bag of Words"
      ]
    },
    {
      "cell_type": "markdown",
      "metadata": {
        "id": "B6Q8H3MTGHnt",
        "colab_type": "text"
      },
      "source": [
        "http://scikit-learn.org/stable/tutorial/text_analytics/working_with_text_data.html"
      ]
    },
    {
      "cell_type": "code",
      "metadata": {
        "id": "UBryqBX5GHnt",
        "colab_type": "code",
        "colab": {}
      },
      "source": [
        "from sklearn.pipeline import Pipeline\n",
        "from sklearn.svm import SVC\n",
        "from sklearn.preprocessing import LabelEncoder\n",
        "from sklearn.feature_extraction.text import TfidfVectorizer\n",
        "from sklearn.feature_extraction.text import CountVectorizer"
      ],
      "execution_count": 0,
      "outputs": []
    },
    {
      "cell_type": "code",
      "metadata": {
        "id": "y2_ZN6sM0Rnn",
        "colab_type": "code",
        "colab": {}
      },
      "source": [
        "import nltk\n",
        "stopwords = nltk.download('stopwords')"
      ],
      "execution_count": 0,
      "outputs": []
    },
    {
      "cell_type": "code",
      "metadata": {
        "id": "2m3A2ohfGHnx",
        "colab_type": "code",
        "colab": {}
      },
      "source": [
        "import nltk\n",
        "stopwords = nltk.corpus.stopwords.words('portuguese')\n",
        "stopwords\n"
      ],
      "execution_count": 0,
      "outputs": []
    },
    {
      "cell_type": "code",
      "metadata": {
        "id": "orOSTExkGHn2",
        "colab_type": "code",
        "colab": {}
      },
      "source": [
        "# Construindo o modelo SVM com Pipeline\n",
        "modelo = Pipeline([('vect', TfidfVectorizer()), ('clf', SVC(kernel = 'linear', probability = True))])"
      ],
      "execution_count": 0,
      "outputs": []
    },
    {
      "cell_type": "code",
      "metadata": {
        "id": "6wAdg8ZsGHn6",
        "colab_type": "code",
        "colab": {}
      },
      "source": [
        "?LabelEncoder"
      ],
      "execution_count": 0,
      "outputs": []
    },
    {
      "cell_type": "code",
      "metadata": {
        "id": "H4KT_8K1GHn-",
        "colab_type": "code",
        "colab": {}
      },
      "source": [
        "# Objeto para Normalização dos labels\n",
        "encoder = LabelEncoder()"
      ],
      "execution_count": 0,
      "outputs": []
    },
    {
      "cell_type": "code",
      "metadata": {
        "id": "Oh5rRjajGHoA",
        "colab_type": "code",
        "colab": {}
      },
      "source": [
        "# Obtendo dados e labels\n",
        "data = [prod for prod, cat in dataset]\n",
        "labels = [cat for prod, cat in dataset]\n",
        "len(data)"
      ],
      "execution_count": 0,
      "outputs": []
    },
    {
      "cell_type": "code",
      "metadata": {
        "id": "nTr88HlZGHoE",
        "colab_type": "code",
        "colab": {}
      },
      "source": [
        "# Normalização dos labels\n",
        "target = encoder.fit_transform(labels)"
      ],
      "execution_count": 0,
      "outputs": []
    },
    {
      "cell_type": "code",
      "metadata": {
        "id": "LhA15GxsGHoH",
        "colab_type": "code",
        "colab": {}
      },
      "source": [
        "# Items\n",
        "encoder.classes_.item(0)"
      ],
      "execution_count": 0,
      "outputs": []
    },
    {
      "cell_type": "code",
      "metadata": {
        "id": "wKibS2G4GHoN",
        "colab_type": "code",
        "colab": {}
      },
      "source": [
        "# Fit do modelo\n",
        "modelo.fit(data, target)"
      ],
      "execution_count": 0,
      "outputs": []
    },
    {
      "cell_type": "code",
      "metadata": {
        "id": "0uh4_rXMGHoQ",
        "colab_type": "code",
        "colab": {}
      },
      "source": [
        "# Prevendo a categoria a partir da descrição\n",
        "modelo.predict([\"intel\"])"
      ],
      "execution_count": 0,
      "outputs": []
    },
    {
      "cell_type": "code",
      "metadata": {
        "id": "2s-KInVVGHoW",
        "colab_type": "code",
        "colab": {}
      },
      "source": [
        "# Prevendo a categoria a partir da descrição\n",
        "print (encoder.classes_[11])"
      ],
      "execution_count": 0,
      "outputs": []
    },
    {
      "cell_type": "code",
      "metadata": {
        "id": "Pt-3EN3PGHoa",
        "colab_type": "code",
        "colab": {}
      },
      "source": [
        "# Probabilidades de um produto\n",
        "probs = modelo.predict_proba([\"INTEL\"])"
      ],
      "execution_count": 0,
      "outputs": []
    },
    {
      "cell_type": "code",
      "metadata": {
        "id": "M23N8EJQGHoc",
        "colab_type": "code",
        "colab": {}
      },
      "source": [
        "# Probabidades de categorias para o objeto Ventilador\n",
        "guess = [(class_, probs.item(n)) for n, class_ in enumerate(encoder.classes_)]\n",
        "pprint(guess)"
      ],
      "execution_count": 0,
      "outputs": []
    },
    {
      "cell_type": "code",
      "metadata": {
        "id": "AYYkCVj1GHof",
        "colab_type": "code",
        "colab": {}
      },
      "source": [
        "# Probabidade ajustada de categorias para o objeto iNTEL\n",
        "from operator import itemgetter\n",
        "for cat, proba in sorted(guess, key = itemgetter(1), reverse = True):\n",
        "    print ('{}: {:.4f}'.format(cat, proba))"
      ],
      "execution_count": 0,
      "outputs": []
    },
    {
      "cell_type": "markdown",
      "metadata": {
        "collapsed": true,
        "id": "MPapGhqhGHok",
        "colab_type": "text"
      },
      "source": [
        "### Fim"
      ]
    },
    {
      "cell_type": "markdown",
      "metadata": {
        "colab_type": "text",
        "id": "1Et351El2dDC"
      },
      "source": [
        "### Comunidade Telegram - <a href=https://t.me/cienciadosdados>https://t.me/cienciadosdados</a>"
      ]
    },
    {
      "cell_type": "markdown",
      "metadata": {
        "colab_type": "text",
        "id": "pZYe2fpo3M7P"
      },
      "source": [
        "### Ciência dos Dados - <a href=http://facebook.com/cienciadosdadosbr>facebook.com/cienciadosdadosbr</a>"
      ]
    }
  ]
}