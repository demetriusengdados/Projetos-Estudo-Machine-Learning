{
  "nbformat": 4,
  "nbformat_minor": 0,
  "metadata": {
    "anaconda-cloud": {},
    "colab": {
      "name": "Dicas e Truques de Ciência de Dados.ipynb",
      "provenance": [],
      "collapsed_sections": []
    },
    "kernelspec": {
      "display_name": "Python 3",
      "language": "python",
      "name": "python3"
    },
    "language_info": {
      "codemirror_mode": {
        "name": "ipython",
        "version": 3
      },
      "file_extension": ".py",
      "mimetype": "text/x-python",
      "name": "python",
      "nbconvert_exporter": "python",
      "pygments_lexer": "ipython3",
      "version": "3.7.6"
    }
  },
  "cells": [
    {
      "cell_type": "markdown",
      "metadata": {
        "colab_type": "text",
        "id": "dVC4iR1lKG5Z"
      },
      "source": [
        "# <font color='Purple'>Ciência dos Dados</font>\n",
        "# <font color='blue'>\"Dicas e Truques\" de Ciência de Dados</font>\n",
        "# <font color='blue'>Manipulação de Dados com Pandas</font>\n",
        "\n",
        "# <font color='black'>Funções loc e iloc</font>"
      ]
    },
    {
      "cell_type": "code",
      "metadata": {
        "id": "AGBXF6fvpN7I",
        "colab_type": "code",
        "colab": {
          "base_uri": "https://localhost:8080/",
          "height": 266
        },
        "outputId": "70068b31-9a1e-402e-f4b2-a7608bc9c74e"
      },
      "source": [
        "# importing pandas and numpy\n",
        "import pandas as pd\n",
        "import numpy as np\n",
        "\n",
        "\n",
        "# criando um dataframe (tabela) de exemplo\n",
        "df = pd.DataFrame({\n",
        "    'renda_media' :     [ 10, 22, 13, 21, 12, 11, 17],\n",
        "    'bairro_classe' : [ 'A', 'B', 'C', 'B', 'B', 'A', 'A'],\n",
        "    'cidade' :    [ 'DF', 'RJ', 'SP', 'RJ', 'SP', 'RJ', 'SP'],\n",
        "    'sexo_maioria' :  [ 'M', 'F', 'F', 'M', 'M', 'M', 'F'],\n",
        "    'cor_favorita' : [ 'vermelha', np.NAN, 'amarela', np.NAN, 'preto', 'verde', 'vermelho']\n",
        "    \n",
        "})\n",
        "\n",
        "# print para ver a tabela \n",
        "df"
      ],
      "execution_count": 75,
      "outputs": [
        {
          "output_type": "execute_result",
          "data": {
            "text/html": [
              "<div>\n",
              "<style scoped>\n",
              "    .dataframe tbody tr th:only-of-type {\n",
              "        vertical-align: middle;\n",
              "    }\n",
              "\n",
              "    .dataframe tbody tr th {\n",
              "        vertical-align: top;\n",
              "    }\n",
              "\n",
              "    .dataframe thead th {\n",
              "        text-align: right;\n",
              "    }\n",
              "</style>\n",
              "<table border=\"1\" class=\"dataframe\">\n",
              "  <thead>\n",
              "    <tr style=\"text-align: right;\">\n",
              "      <th></th>\n",
              "      <th>renda_media</th>\n",
              "      <th>bairro_classe</th>\n",
              "      <th>cidade</th>\n",
              "      <th>sexo_maioria</th>\n",
              "      <th>cor_favorita</th>\n",
              "    </tr>\n",
              "  </thead>\n",
              "  <tbody>\n",
              "    <tr>\n",
              "      <th>0</th>\n",
              "      <td>10</td>\n",
              "      <td>A</td>\n",
              "      <td>DF</td>\n",
              "      <td>M</td>\n",
              "      <td>vermelha</td>\n",
              "    </tr>\n",
              "    <tr>\n",
              "      <th>1</th>\n",
              "      <td>22</td>\n",
              "      <td>B</td>\n",
              "      <td>RJ</td>\n",
              "      <td>F</td>\n",
              "      <td>NaN</td>\n",
              "    </tr>\n",
              "    <tr>\n",
              "      <th>2</th>\n",
              "      <td>13</td>\n",
              "      <td>C</td>\n",
              "      <td>SP</td>\n",
              "      <td>F</td>\n",
              "      <td>amarela</td>\n",
              "    </tr>\n",
              "    <tr>\n",
              "      <th>3</th>\n",
              "      <td>21</td>\n",
              "      <td>B</td>\n",
              "      <td>RJ</td>\n",
              "      <td>M</td>\n",
              "      <td>NaN</td>\n",
              "    </tr>\n",
              "    <tr>\n",
              "      <th>4</th>\n",
              "      <td>12</td>\n",
              "      <td>B</td>\n",
              "      <td>SP</td>\n",
              "      <td>M</td>\n",
              "      <td>preto</td>\n",
              "    </tr>\n",
              "    <tr>\n",
              "      <th>5</th>\n",
              "      <td>11</td>\n",
              "      <td>A</td>\n",
              "      <td>RJ</td>\n",
              "      <td>M</td>\n",
              "      <td>verde</td>\n",
              "    </tr>\n",
              "    <tr>\n",
              "      <th>6</th>\n",
              "      <td>17</td>\n",
              "      <td>A</td>\n",
              "      <td>SP</td>\n",
              "      <td>F</td>\n",
              "      <td>vermelho</td>\n",
              "    </tr>\n",
              "  </tbody>\n",
              "</table>\n",
              "</div>"
            ],
            "text/plain": [
              "   renda_media bairro_classe cidade sexo_maioria cor_favorita\n",
              "0           10             A     DF            M     vermelha\n",
              "1           22             B     RJ            F          NaN\n",
              "2           13             C     SP            F      amarela\n",
              "3           21             B     RJ            M          NaN\n",
              "4           12             B     SP            M        preto\n",
              "5           11             A     RJ            M        verde\n",
              "6           17             A     SP            F     vermelho"
            ]
          },
          "metadata": {
            "tags": []
          },
          "execution_count": 75
        }
      ]
    },
    {
      "cell_type": "code",
      "metadata": {
        "id": "CjrXRI8uqFN6",
        "colab_type": "code",
        "colab": {
          "base_uri": "https://localhost:8080/",
          "height": 142
        },
        "outputId": "b3929606-afaf-4f57-94d4-88a45a998b13"
      },
      "source": [
        "# selecionando todas as linhas que atendem a condição \n",
        "# pandas.DataFrame.loc [] . Só precisamos passar a condição dentro da instrução loc.\n",
        "df.loc[df.renda_media >= 15]"
      ],
      "execution_count": 74,
      "outputs": [
        {
          "output_type": "execute_result",
          "data": {
            "text/html": [
              "<div>\n",
              "<style scoped>\n",
              "    .dataframe tbody tr th:only-of-type {\n",
              "        vertical-align: middle;\n",
              "    }\n",
              "\n",
              "    .dataframe tbody tr th {\n",
              "        vertical-align: top;\n",
              "    }\n",
              "\n",
              "    .dataframe thead th {\n",
              "        text-align: right;\n",
              "    }\n",
              "</style>\n",
              "<table border=\"1\" class=\"dataframe\">\n",
              "  <thead>\n",
              "    <tr style=\"text-align: right;\">\n",
              "      <th></th>\n",
              "      <th>renda_media</th>\n",
              "      <th>bairro_classe</th>\n",
              "      <th>cidade</th>\n",
              "      <th>sexo_maioria</th>\n",
              "      <th>cor_favorita</th>\n",
              "    </tr>\n",
              "  </thead>\n",
              "  <tbody>\n",
              "    <tr>\n",
              "      <th>1</th>\n",
              "      <td>22</td>\n",
              "      <td>B</td>\n",
              "      <td>RJ</td>\n",
              "      <td>F</td>\n",
              "      <td>NaN</td>\n",
              "    </tr>\n",
              "    <tr>\n",
              "      <th>3</th>\n",
              "      <td>21</td>\n",
              "      <td>B</td>\n",
              "      <td>RJ</td>\n",
              "      <td>M</td>\n",
              "      <td>NaN</td>\n",
              "    </tr>\n",
              "    <tr>\n",
              "      <th>6</th>\n",
              "      <td>17</td>\n",
              "      <td>A</td>\n",
              "      <td>SP</td>\n",
              "      <td>F</td>\n",
              "      <td>vermelho</td>\n",
              "    </tr>\n",
              "  </tbody>\n",
              "</table>\n",
              "</div>"
            ],
            "text/plain": [
              "   renda_media bairro_classe cidade sexo_maioria cor_favorita\n",
              "1           22             B     RJ            F          NaN\n",
              "3           21             B     RJ            M          NaN\n",
              "6           17             A     SP            F     vermelho"
            ]
          },
          "metadata": {
            "tags": []
          },
          "execution_count": 74
        }
      ]
    },
    {
      "cell_type": "code",
      "metadata": {
        "id": "hKeqkQNwqJP6",
        "colab_type": "code",
        "colab": {
          "base_uri": "https://localhost:8080/",
          "height": 111
        },
        "outputId": "071d28bc-a4d8-4480-bba7-d104d42c0849"
      },
      "source": [
        "# selecionando e fazendo vários condicionais \n",
        "df.loc[((df.renda_media >= 12)) &  (df.sexo_maioria == 'M')]"
      ],
      "execution_count": 76,
      "outputs": [
        {
          "output_type": "execute_result",
          "data": {
            "text/html": [
              "<div>\n",
              "<style scoped>\n",
              "    .dataframe tbody tr th:only-of-type {\n",
              "        vertical-align: middle;\n",
              "    }\n",
              "\n",
              "    .dataframe tbody tr th {\n",
              "        vertical-align: top;\n",
              "    }\n",
              "\n",
              "    .dataframe thead th {\n",
              "        text-align: right;\n",
              "    }\n",
              "</style>\n",
              "<table border=\"1\" class=\"dataframe\">\n",
              "  <thead>\n",
              "    <tr style=\"text-align: right;\">\n",
              "      <th></th>\n",
              "      <th>renda_media</th>\n",
              "      <th>bairro_classe</th>\n",
              "      <th>cidade</th>\n",
              "      <th>sexo_maioria</th>\n",
              "      <th>cor_favorita</th>\n",
              "    </tr>\n",
              "  </thead>\n",
              "  <tbody>\n",
              "    <tr>\n",
              "      <th>3</th>\n",
              "      <td>21</td>\n",
              "      <td>B</td>\n",
              "      <td>RJ</td>\n",
              "      <td>M</td>\n",
              "      <td>NaN</td>\n",
              "    </tr>\n",
              "    <tr>\n",
              "      <th>4</th>\n",
              "      <td>12</td>\n",
              "      <td>B</td>\n",
              "      <td>SP</td>\n",
              "      <td>M</td>\n",
              "      <td>preto</td>\n",
              "    </tr>\n",
              "  </tbody>\n",
              "</table>\n",
              "</div>"
            ],
            "text/plain": [
              "   renda_media bairro_classe cidade sexo_maioria cor_favorita\n",
              "3           21             B     RJ            M          NaN\n",
              "4           12             B     SP            M        preto"
            ]
          },
          "metadata": {
            "tags": []
          },
          "execution_count": 76
        }
      ]
    },
    {
      "cell_type": "code",
      "metadata": {
        "id": "WcU776N4uG-k",
        "colab_type": "code",
        "colab": {
          "base_uri": "https://localhost:8080/",
          "height": 266
        },
        "outputId": "8132cd82-69c2-4b27-f0ba-e582844027a4"
      },
      "source": [
        "df"
      ],
      "execution_count": 77,
      "outputs": [
        {
          "output_type": "execute_result",
          "data": {
            "text/html": [
              "<div>\n",
              "<style scoped>\n",
              "    .dataframe tbody tr th:only-of-type {\n",
              "        vertical-align: middle;\n",
              "    }\n",
              "\n",
              "    .dataframe tbody tr th {\n",
              "        vertical-align: top;\n",
              "    }\n",
              "\n",
              "    .dataframe thead th {\n",
              "        text-align: right;\n",
              "    }\n",
              "</style>\n",
              "<table border=\"1\" class=\"dataframe\">\n",
              "  <thead>\n",
              "    <tr style=\"text-align: right;\">\n",
              "      <th></th>\n",
              "      <th>renda_media</th>\n",
              "      <th>bairro_classe</th>\n",
              "      <th>cidade</th>\n",
              "      <th>sexo_maioria</th>\n",
              "      <th>cor_favorita</th>\n",
              "    </tr>\n",
              "  </thead>\n",
              "  <tbody>\n",
              "    <tr>\n",
              "      <th>0</th>\n",
              "      <td>10</td>\n",
              "      <td>A</td>\n",
              "      <td>DF</td>\n",
              "      <td>M</td>\n",
              "      <td>vermelha</td>\n",
              "    </tr>\n",
              "    <tr>\n",
              "      <th>1</th>\n",
              "      <td>22</td>\n",
              "      <td>B</td>\n",
              "      <td>RJ</td>\n",
              "      <td>F</td>\n",
              "      <td>NaN</td>\n",
              "    </tr>\n",
              "    <tr>\n",
              "      <th>2</th>\n",
              "      <td>13</td>\n",
              "      <td>C</td>\n",
              "      <td>SP</td>\n",
              "      <td>F</td>\n",
              "      <td>amarela</td>\n",
              "    </tr>\n",
              "    <tr>\n",
              "      <th>3</th>\n",
              "      <td>21</td>\n",
              "      <td>B</td>\n",
              "      <td>RJ</td>\n",
              "      <td>M</td>\n",
              "      <td>NaN</td>\n",
              "    </tr>\n",
              "    <tr>\n",
              "      <th>4</th>\n",
              "      <td>12</td>\n",
              "      <td>B</td>\n",
              "      <td>SP</td>\n",
              "      <td>M</td>\n",
              "      <td>preto</td>\n",
              "    </tr>\n",
              "    <tr>\n",
              "      <th>5</th>\n",
              "      <td>11</td>\n",
              "      <td>A</td>\n",
              "      <td>RJ</td>\n",
              "      <td>M</td>\n",
              "      <td>verde</td>\n",
              "    </tr>\n",
              "    <tr>\n",
              "      <th>6</th>\n",
              "      <td>17</td>\n",
              "      <td>A</td>\n",
              "      <td>SP</td>\n",
              "      <td>F</td>\n",
              "      <td>vermelho</td>\n",
              "    </tr>\n",
              "  </tbody>\n",
              "</table>\n",
              "</div>"
            ],
            "text/plain": [
              "   renda_media bairro_classe cidade sexo_maioria cor_favorita\n",
              "0           10             A     DF            M     vermelha\n",
              "1           22             B     RJ            F          NaN\n",
              "2           13             C     SP            F      amarela\n",
              "3           21             B     RJ            M          NaN\n",
              "4           12             B     SP            M        preto\n",
              "5           11             A     RJ            M        verde\n",
              "6           17             A     SP            F     vermelho"
            ]
          },
          "metadata": {
            "tags": []
          },
          "execution_count": 77
        }
      ]
    },
    {
      "cell_type": "code",
      "metadata": {
        "id": "E4QpetLhqL86",
        "colab_type": "code",
        "colab": {
          "base_uri": "https://localhost:8080/",
          "height": 142
        },
        "outputId": "b5001c39-ce3b-4713-c59d-09186c4239e3"
      },
      "source": [
        "# slice ou fatiamento é tipo o \"Query Builder\" do SAS.... um método de filtragem\n",
        "df.loc[1:3]"
      ],
      "execution_count": 78,
      "outputs": [
        {
          "output_type": "execute_result",
          "data": {
            "text/html": [
              "<div>\n",
              "<style scoped>\n",
              "    .dataframe tbody tr th:only-of-type {\n",
              "        vertical-align: middle;\n",
              "    }\n",
              "\n",
              "    .dataframe tbody tr th {\n",
              "        vertical-align: top;\n",
              "    }\n",
              "\n",
              "    .dataframe thead th {\n",
              "        text-align: right;\n",
              "    }\n",
              "</style>\n",
              "<table border=\"1\" class=\"dataframe\">\n",
              "  <thead>\n",
              "    <tr style=\"text-align: right;\">\n",
              "      <th></th>\n",
              "      <th>renda_media</th>\n",
              "      <th>bairro_classe</th>\n",
              "      <th>cidade</th>\n",
              "      <th>sexo_maioria</th>\n",
              "      <th>cor_favorita</th>\n",
              "    </tr>\n",
              "  </thead>\n",
              "  <tbody>\n",
              "    <tr>\n",
              "      <th>1</th>\n",
              "      <td>22</td>\n",
              "      <td>B</td>\n",
              "      <td>RJ</td>\n",
              "      <td>F</td>\n",
              "      <td>NaN</td>\n",
              "    </tr>\n",
              "    <tr>\n",
              "      <th>2</th>\n",
              "      <td>13</td>\n",
              "      <td>C</td>\n",
              "      <td>SP</td>\n",
              "      <td>F</td>\n",
              "      <td>amarela</td>\n",
              "    </tr>\n",
              "    <tr>\n",
              "      <th>3</th>\n",
              "      <td>21</td>\n",
              "      <td>B</td>\n",
              "      <td>RJ</td>\n",
              "      <td>M</td>\n",
              "      <td>NaN</td>\n",
              "    </tr>\n",
              "  </tbody>\n",
              "</table>\n",
              "</div>"
            ],
            "text/plain": [
              "   renda_media bairro_classe cidade sexo_maioria cor_favorita\n",
              "1           22             B     RJ            F          NaN\n",
              "2           13             C     SP            F      amarela\n",
              "3           21             B     RJ            M          NaN"
            ]
          },
          "metadata": {
            "tags": []
          },
          "execution_count": 78
        }
      ]
    },
    {
      "cell_type": "code",
      "metadata": {
        "id": "NAKzuHkLqN-A",
        "colab_type": "code",
        "colab": {}
      },
      "source": [
        "# selecionando algumas colunas com operadores condicionais \n",
        "df.loc[ (df.renda_media >= 12), ['cidade', 'sexo_maioria']]"
      ],
      "execution_count": null,
      "outputs": []
    },
    {
      "cell_type": "code",
      "metadata": {
        "id": "H8E0S_G3qP7s",
        "colab_type": "code",
        "colab": {}
      },
      "source": [
        "# Alterando (dando um update) na coluna que segue a condicional\n",
        "df.loc[(df.renda_media >= 12), ['bairro_classe']] ='E'\n",
        "df"
      ],
      "execution_count": null,
      "outputs": []
    },
    {
      "cell_type": "code",
      "metadata": {
        "id": "0qzF0EzqqT-T",
        "colab_type": "code",
        "colab": {}
      },
      "source": [
        "# Alterando (update) várias colunas  de acordo com a condicional\n",
        "df.loc[(df.renda_media >= 20), ['bairro_classe', 'cidade']] = ['AA','CE']\n",
        "df"
      ],
      "execution_count": null,
      "outputs": []
    },
    {
      "cell_type": "code",
      "metadata": {
        "id": "tvMf_QHGqWHf",
        "colab_type": "code",
        "colab": {
          "base_uri": "https://localhost:8080/",
          "height": 142
        },
        "outputId": "cbfdcdea-26a8-4be8-e641-02db813127bd"
      },
      "source": [
        "# selecinando linhas pelo índice\n",
        "df.iloc[[0,2,6]]"
      ],
      "execution_count": 85,
      "outputs": [
        {
          "output_type": "execute_result",
          "data": {
            "text/html": [
              "<div>\n",
              "<style scoped>\n",
              "    .dataframe tbody tr th:only-of-type {\n",
              "        vertical-align: middle;\n",
              "    }\n",
              "\n",
              "    .dataframe tbody tr th {\n",
              "        vertical-align: top;\n",
              "    }\n",
              "\n",
              "    .dataframe thead th {\n",
              "        text-align: right;\n",
              "    }\n",
              "</style>\n",
              "<table border=\"1\" class=\"dataframe\">\n",
              "  <thead>\n",
              "    <tr style=\"text-align: right;\">\n",
              "      <th></th>\n",
              "      <th>renda_media</th>\n",
              "      <th>bairro_classe</th>\n",
              "      <th>cidade</th>\n",
              "      <th>sexo_maioria</th>\n",
              "      <th>cor_favorita</th>\n",
              "    </tr>\n",
              "  </thead>\n",
              "  <tbody>\n",
              "    <tr>\n",
              "      <th>0</th>\n",
              "      <td>10</td>\n",
              "      <td>A</td>\n",
              "      <td>DF</td>\n",
              "      <td>M</td>\n",
              "      <td>vermelha</td>\n",
              "    </tr>\n",
              "    <tr>\n",
              "      <th>2</th>\n",
              "      <td>13</td>\n",
              "      <td>E</td>\n",
              "      <td>SP</td>\n",
              "      <td>F</td>\n",
              "      <td>amarela</td>\n",
              "    </tr>\n",
              "    <tr>\n",
              "      <th>6</th>\n",
              "      <td>17</td>\n",
              "      <td>E</td>\n",
              "      <td>SP</td>\n",
              "      <td>F</td>\n",
              "      <td>vermelho</td>\n",
              "    </tr>\n",
              "  </tbody>\n",
              "</table>\n",
              "</div>"
            ],
            "text/plain": [
              "   renda_media bairro_classe cidade sexo_maioria cor_favorita\n",
              "0           10             A     DF            M     vermelha\n",
              "2           13             E     SP            F      amarela\n",
              "6           17             E     SP            F     vermelho"
            ]
          },
          "metadata": {
            "tags": []
          },
          "execution_count": 85
        }
      ]
    },
    {
      "cell_type": "code",
      "metadata": {
        "id": "vsX5VBer5Dus",
        "colab_type": "code",
        "colab": {}
      },
      "source": [
        "df"
      ],
      "execution_count": null,
      "outputs": []
    },
    {
      "cell_type": "code",
      "metadata": {
        "id": "5y815kHdqZil",
        "colab_type": "code",
        "colab": {}
      },
      "source": [
        "# selecionando linhas com indices e colunas especificas \n",
        "df.iloc[[0,2],[1,3]]"
      ],
      "execution_count": null,
      "outputs": []
    },
    {
      "cell_type": "code",
      "metadata": {
        "id": "uBp00xsHqaJy",
        "colab_type": "code",
        "colab": {
          "base_uri": "https://localhost:8080/",
          "height": 111
        },
        "outputId": "5fb22d7a-f94f-4ee1-90a5-591b50d55286"
      },
      "source": [
        "# selecionando uma faixa (range) de linhas\n",
        "df.iloc[1:3]"
      ],
      "execution_count": 90,
      "outputs": [
        {
          "output_type": "execute_result",
          "data": {
            "text/html": [
              "<div>\n",
              "<style scoped>\n",
              "    .dataframe tbody tr th:only-of-type {\n",
              "        vertical-align: middle;\n",
              "    }\n",
              "\n",
              "    .dataframe tbody tr th {\n",
              "        vertical-align: top;\n",
              "    }\n",
              "\n",
              "    .dataframe thead th {\n",
              "        text-align: right;\n",
              "    }\n",
              "</style>\n",
              "<table border=\"1\" class=\"dataframe\">\n",
              "  <thead>\n",
              "    <tr style=\"text-align: right;\">\n",
              "      <th></th>\n",
              "      <th>renda_media</th>\n",
              "      <th>bairro_classe</th>\n",
              "      <th>cidade</th>\n",
              "      <th>sexo_maioria</th>\n",
              "      <th>cor_favorita</th>\n",
              "    </tr>\n",
              "  </thead>\n",
              "  <tbody>\n",
              "    <tr>\n",
              "      <th>1</th>\n",
              "      <td>22</td>\n",
              "      <td>AA</td>\n",
              "      <td>CE</td>\n",
              "      <td>F</td>\n",
              "      <td>NaN</td>\n",
              "    </tr>\n",
              "    <tr>\n",
              "      <th>2</th>\n",
              "      <td>13</td>\n",
              "      <td>E</td>\n",
              "      <td>SP</td>\n",
              "      <td>F</td>\n",
              "      <td>amarela</td>\n",
              "    </tr>\n",
              "  </tbody>\n",
              "</table>\n",
              "</div>"
            ],
            "text/plain": [
              "   renda_media bairro_classe cidade sexo_maioria cor_favorita\n",
              "1           22            AA     CE            F          NaN\n",
              "2           13             E     SP            F      amarela"
            ]
          },
          "metadata": {
            "tags": []
          },
          "execution_count": 90
        }
      ]
    },
    {
      "cell_type": "code",
      "metadata": {
        "id": "b_zIEEfGqbP_",
        "colab_type": "code",
        "colab": {
          "base_uri": "https://localhost:8080/",
          "height": 266
        },
        "outputId": "66e4b401-3477-463d-fd4a-2a89eebfe135"
      },
      "source": [
        "df"
      ],
      "execution_count": 91,
      "outputs": [
        {
          "output_type": "execute_result",
          "data": {
            "text/html": [
              "<div>\n",
              "<style scoped>\n",
              "    .dataframe tbody tr th:only-of-type {\n",
              "        vertical-align: middle;\n",
              "    }\n",
              "\n",
              "    .dataframe tbody tr th {\n",
              "        vertical-align: top;\n",
              "    }\n",
              "\n",
              "    .dataframe thead th {\n",
              "        text-align: right;\n",
              "    }\n",
              "</style>\n",
              "<table border=\"1\" class=\"dataframe\">\n",
              "  <thead>\n",
              "    <tr style=\"text-align: right;\">\n",
              "      <th></th>\n",
              "      <th>renda_media</th>\n",
              "      <th>bairro_classe</th>\n",
              "      <th>cidade</th>\n",
              "      <th>sexo_maioria</th>\n",
              "      <th>cor_favorita</th>\n",
              "    </tr>\n",
              "  </thead>\n",
              "  <tbody>\n",
              "    <tr>\n",
              "      <th>0</th>\n",
              "      <td>10</td>\n",
              "      <td>A</td>\n",
              "      <td>DF</td>\n",
              "      <td>M</td>\n",
              "      <td>vermelha</td>\n",
              "    </tr>\n",
              "    <tr>\n",
              "      <th>1</th>\n",
              "      <td>22</td>\n",
              "      <td>AA</td>\n",
              "      <td>CE</td>\n",
              "      <td>F</td>\n",
              "      <td>NaN</td>\n",
              "    </tr>\n",
              "    <tr>\n",
              "      <th>2</th>\n",
              "      <td>13</td>\n",
              "      <td>E</td>\n",
              "      <td>SP</td>\n",
              "      <td>F</td>\n",
              "      <td>amarela</td>\n",
              "    </tr>\n",
              "    <tr>\n",
              "      <th>3</th>\n",
              "      <td>21</td>\n",
              "      <td>AA</td>\n",
              "      <td>CE</td>\n",
              "      <td>M</td>\n",
              "      <td>NaN</td>\n",
              "    </tr>\n",
              "    <tr>\n",
              "      <th>4</th>\n",
              "      <td>12</td>\n",
              "      <td>E</td>\n",
              "      <td>SP</td>\n",
              "      <td>M</td>\n",
              "      <td>preto</td>\n",
              "    </tr>\n",
              "    <tr>\n",
              "      <th>5</th>\n",
              "      <td>11</td>\n",
              "      <td>A</td>\n",
              "      <td>RJ</td>\n",
              "      <td>M</td>\n",
              "      <td>verde</td>\n",
              "    </tr>\n",
              "    <tr>\n",
              "      <th>6</th>\n",
              "      <td>17</td>\n",
              "      <td>E</td>\n",
              "      <td>SP</td>\n",
              "      <td>F</td>\n",
              "      <td>vermelho</td>\n",
              "    </tr>\n",
              "  </tbody>\n",
              "</table>\n",
              "</div>"
            ],
            "text/plain": [
              "   renda_media bairro_classe cidade sexo_maioria cor_favorita\n",
              "0           10             A     DF            M     vermelha\n",
              "1           22            AA     CE            F          NaN\n",
              "2           13             E     SP            F      amarela\n",
              "3           21            AA     CE            M          NaN\n",
              "4           12             E     SP            M        preto\n",
              "5           11             A     RJ            M        verde\n",
              "6           17             E     SP            F     vermelho"
            ]
          },
          "metadata": {
            "tags": []
          },
          "execution_count": 91
        }
      ]
    },
    {
      "cell_type": "code",
      "metadata": {
        "id": "dOz5D2Jlqen7",
        "colab_type": "code",
        "colab": {}
      },
      "source": [
        "# selecionando uma faixa de linhas e colunas \n",
        "df.iloc[1:3,2:4]"
      ],
      "execution_count": null,
      "outputs": []
    },
    {
      "cell_type": "code",
      "metadata": {
        "id": "TveegZ0D5e92",
        "colab_type": "code",
        "colab": {}
      },
      "source": [
        "df"
      ],
      "execution_count": null,
      "outputs": []
    },
    {
      "cell_type": "markdown",
      "metadata": {
        "colab_type": "text",
        "id": "XTRc7NjBKG65"
      },
      "source": [
        "# Fim"
      ]
    },
    {
      "cell_type": "markdown",
      "metadata": {
        "colab_type": "text",
        "id": "_fHqFSvWe94c"
      },
      "source": [
        "## Valeu!"
      ]
    },
    {
      "cell_type": "markdown",
      "metadata": {
        "colab_type": "text",
        "id": "JCGIEsSrKG66"
      },
      "source": [
        "### #Facebook - Ciencia dos Dados <a href=\"http://facebook.com/cienciadosdadosbr\">facebook.com/cienciadosdadosbr</a>"
      ]
    },
    {
      "cell_type": "markdown",
      "metadata": {
        "colab_type": "text",
        "id": "lHRHbHwmfFEy"
      },
      "source": [
        "### #**Telegram** - Scripts e Datasets - Comunidade Telegram <a href=\"https://t.me/cienciadosdadosraiz\">https://t.me/cienciadosdadosraiz</a>"
      ]
    },
    {
      "cell_type": "markdown",
      "metadata": {
        "colab_type": "text",
        "id": "ThxYRK6DfJ3f"
      },
      "source": [
        "### #YouTube - Mais Aulas como essa no YouTube <a href=\"https://www.youtube.com/watch?v=IaIc5oHd3II&t=1569s\">https://www.youtube.com/watch?v=IaIc5oHd3II&t=1569s</a>"
      ]
    },
    {
      "cell_type": "code",
      "metadata": {
        "id": "_pg8zEm-Nv6Y",
        "colab_type": "code",
        "colab": {
          "base_uri": "https://localhost:8080/",
          "height": 221
        },
        "outputId": "5355b561-773f-4054-e7ee-21070c1a446d"
      },
      "source": [
        "from IPython.core.display import HTML\n",
        "HTML('<iframe width=\"380\" height=\"200\" src=\"https://www.youtube.com/embed/q2GnfBLgcio\" frameborder=\"0\" allow=\"accelerometer; autoplay; encrypted-media; gyroscope; picture-in-picture\" allowfullscreen></iframe>')"
      ],
      "execution_count": 70,
      "outputs": [
        {
          "output_type": "execute_result",
          "data": {
            "text/html": [
              "<iframe width=\"380\" height=\"200\" src=\"https://www.youtube.com/embed/q2GnfBLgcio\" frameborder=\"0\" allow=\"accelerometer; autoplay; encrypted-media; gyroscope; picture-in-picture\" allowfullscreen></iframe>"
            ],
            "text/plain": [
              "<IPython.core.display.HTML object>"
            ]
          },
          "metadata": {
            "tags": []
          },
          "execution_count": 70
        }
      ]
    },
    {
      "cell_type": "code",
      "metadata": {
        "id": "6yHvnp7jrROh",
        "colab_type": "code",
        "colab": {}
      },
      "source": [
        ""
      ],
      "execution_count": null,
      "outputs": []
    }
  ]
}