{
 "cells": [
  {
   "cell_type": "code",
   "execution_count": null,
   "metadata": {},
   "outputs": [],
   "source": [
    "from __future__ import unicode_literals\n",
    "import youtuube_dl\n",
    "import os\n",
    "\n",
    "class Download(object):\n",
    "    def __init__(self, url):\n",
    "        self.url = url\n",
    "        self.save_path = os.path.join(os.path.expanduser('~'), 'Downloads')\n",
    "        self.song()\n",
    "        \n",
    "    def song(self):\n",
    "        opts = {\n",
    "            'verbose': True,\n",
    "            'fixup': 'detect_or_warn',\n",
    "            'format': 'bestaudio/best',\n",
    "            'postprocessors': [{\n",
    "                'key': 'FFmpegExtractAudio',\n",
    "                'preferredcodec': 'mp3',\n",
    "                'preferredquality': '1411',\n",
    "                \n",
    "            }],\n",
    "            'extractaudio': True,\n",
    "            'outtmpl': self.save_path + '/%(title)s.%(ext)s',\n",
    "            'noplaylist': True\n",
    "        }\n",
    "        ydl = youtube_dl.YoutubeDL(opts)\n",
    "        ydl.downloader([self.url])\n",
    "        \n",
    "if __name__ == '__main__':\n",
    "    url = input(\"Entre com a url do video\\n >>\")\n",
    "    Download(url)"
   ]
  }
 ],
 "metadata": {
  "kernelspec": {
   "display_name": "Python 3",
   "language": "python",
   "name": "python3"
  },
  "language_info": {
   "codemirror_mode": {
    "name": "ipython",
    "version": 3
   },
   "file_extension": ".py",
   "mimetype": "text/x-python",
   "name": "python",
   "nbconvert_exporter": "python",
   "pygments_lexer": "ipython3",
   "version": "3.8.5"
  }
 },
 "nbformat": 4,
 "nbformat_minor": 4
}
