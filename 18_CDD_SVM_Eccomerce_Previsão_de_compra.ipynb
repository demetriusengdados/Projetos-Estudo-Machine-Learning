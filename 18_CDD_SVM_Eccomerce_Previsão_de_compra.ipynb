{
  "nbformat": 4,
  "nbformat_minor": 0,
  "metadata": {
    "kernelspec": {
      "display_name": "Python 3",
      "language": "python",
      "name": "python3"
    },
    "language_info": {
      "codemirror_mode": {
        "name": "ipython",
        "version": 3
      },
      "file_extension": ".py",
      "mimetype": "text/x-python",
      "name": "python",
      "nbconvert_exporter": "python",
      "pygments_lexer": "ipython3",
      "version": "3.7.6"
    },
    "colab": {
      "name": "18-CDD-SVM-Eccomerce-Previsão-de-compra.ipynb",
      "provenance": [],
      "collapsed_sections": []
    },
    "accelerator": "TPU"
  },
  "cells": [
    {
      "cell_type": "markdown",
      "metadata": {
        "id": "PFIkSBIVguWZ",
        "colab_type": "text"
      },
      "source": [
        "# <font color='PURPLE'>Ciência dos Dados - Machine Learning</font>\n",
        "\n",
        "# <font color='blue'>SVM - Support Vector Machines</font>\n",
        "\n",
        "### **Usando SVM Para Prever a Intenção de Compra de Usuários de E-Commerce**"
      ]
    },
    {
      "cell_type": "code",
      "metadata": {
        "id": "UpQ5pqIvguWd",
        "colab_type": "code",
        "colab": {}
      },
      "source": [
        "# Versão da Linguagem Python\n",
        "from platform import python_version\n",
        "print('Versão da Linguagem Python Usada Neste Jupyter Notebook:', python_version())"
      ],
      "execution_count": 0,
      "outputs": []
    },
    {
      "cell_type": "markdown",
      "metadata": {
        "id": "POgukF3AguWv",
        "colab_type": "text"
      },
      "source": [
        "Definição do Problema:\n",
        "\n",
        "Neste ciência dos dados #NaPrática, nosso trabalho será avaliar quais atributos influenciam um usuário na compra de produtos online e construir um modelo preditivo para **realizar previsões de compras futuras.**"
      ]
    },
    {
      "cell_type": "markdown",
      "metadata": {
        "id": "m7fojBiuguWw",
        "colab_type": "text"
      },
      "source": [
        "Usaremos como fonte de dados o dataset:\n",
        "\n",
        "Online Shoppers Purchasing Intention Dataset\n",
        "\n",
        "https://archive.ics.uci.edu/ml/datasets/Online+Shoppers+Purchasing+Intention+Dataset\n",
        "\n",
        "O conjunto de dados consiste em uma pancada de variáveis pertencentes a 12.330 sessões online. O conjunto de dados foi formado de modo que cada sessão pertença a um usuário diferente em um período de 1 ano para evitar qualquer tendência para uma campanha específica, dia especial, usuário, perfil ou período.\n",
        "\n",
        "O conjunto de dados consiste em 10 atributos numéricos e 8 categóricos. O atributo '**Revenue**' (target) pode ser usado como o rótulo da classe."
      ]
    },
    {
      "cell_type": "markdown",
      "metadata": {
        "id": "1QBDTdEEguWy",
        "colab_type": "text"
      },
      "source": [
        "## Importando os Pacotes"
      ]
    },
    {
      "cell_type": "code",
      "metadata": {
        "id": "qeNUaYlpguW7",
        "colab_type": "code",
        "colab": {}
      },
      "source": [
        "# Instala o pacote watermark. \n",
        "# Esse pacote é usado para gravar as versões de outros pacotes usados neste jupyter notebook.\n",
        "!pip install -q -U watermark"
      ],
      "execution_count": 0,
      "outputs": []
    },
    {
      "cell_type": "code",
      "metadata": {
        "id": "9GM--p9YguXD",
        "colab_type": "code",
        "colab": {}
      },
      "source": [
        "# Imports\n",
        "import time\n",
        "import numpy as np\n",
        "import pandas as pd\n",
        "import seaborn as sns\n",
        "import matplotlib.pyplot as plt\n",
        "from sklearn.preprocessing import StandardScaler\n",
        "from sklearn.preprocessing import LabelEncoder\n",
        "from sklearn.model_selection import train_test_split\n",
        "from sklearn.model_selection import GridSearchCV\n",
        "from sklearn.metrics import precision_score, recall_score, f1_score, accuracy_score, roc_auc_score\n",
        "from sklearn import svm\n",
        "import sklearn\n",
        "import matplotlib\n",
        "import warnings\n",
        "warnings.filterwarnings('ignore')"
      ],
      "execution_count": 0,
      "outputs": []
    },
    {
      "cell_type": "code",
      "metadata": {
        "id": "c5k-kK7kguXK",
        "colab_type": "code",
        "colab": {}
      },
      "source": [
        "# Versões dos pacotes usados neste jupyter notebook\n",
        "%reload_ext watermark\n",
        "%watermark -a \"Ciência dos Dados #NaPrática\" --iversions"
      ],
      "execution_count": 0,
      "outputs": []
    },
    {
      "cell_type": "markdown",
      "metadata": {
        "id": "V6Wy5xPOguXR",
        "colab_type": "text"
      },
      "source": [
        "## Carga e Dicionário de Dados"
      ]
    },
    {
      "cell_type": "code",
      "metadata": {
        "id": "A_r8D7-uguXT",
        "colab_type": "code",
        "colab": {}
      },
      "source": [
        "# Carregando os dados\n",
        "df_original = pd.read_csv('/content/online_shoppers_intention.csv')\n",
        "df_original.head()"
      ],
      "execution_count": 0,
      "outputs": []
    },
    {
      "cell_type": "markdown",
      "metadata": {
        "id": "VrJdzsU2m2fv",
        "colab_type": "text"
      },
      "source": [
        "Caso tenha dúvidas para importar o banco de dados, assista a aula abaixo:"
      ]
    },
    {
      "cell_type": "code",
      "metadata": {
        "id": "3_fOkQ8sm-hR",
        "colab_type": "code",
        "colab": {}
      },
      "source": [
        "from IPython.core.display import HTML\n",
        "HTML('<iframe width=\"300\" height=\"200\" src=\"https://www.youtube.com/embed/IaIc5oHd3II\" frameborder=\"0\" allow=\"accelerometer; autoplay; encrypted-media; gyroscope; picture-in-picture\" allowfullscreen></iframe></iframe>')"
      ],
      "execution_count": 0,
      "outputs": []
    },
    {
      "cell_type": "markdown",
      "metadata": {
        "id": "-Kc4NQvsguXb",
        "colab_type": "text"
      },
      "source": [
        "\n",
        "\n",
        ">## **Dicionário** **de** **Dados**:\n",
        "\n",
        "\n",
        "\n",
        "\"Administrativo\", \"Duração administrativa\", \"Informativo\", \"Duração informativo\", \"Relacionado ao produto\" e \"Duração relacionada ao produto\" representam o número de diferentes tipos de páginas visitadas pelo visitante nessa sessão e o tempo total gasto em cada uma dessas categorias de página. Os valores desses recursos são derivados das informações de URL das páginas visitadas pelo usuário e atualizadas em tempo real quando um usuário executa uma ação, por exemplo, passando de uma página para outra. \n",
        "\n",
        "Os recursos \"Taxa de rejeição\", \"Taxa de saída\" e \"Valor da página\" representam as métricas medidas pelo \"Google Analytics\" para cada página no site de comércio eletrônico. \n",
        "\n",
        "O valor do recurso \"Taxa de rejeição\" de uma página da web refere-se à porcentagem de visitantes que entram no site a partir dessa página e saem (\"rejeição\") sem acionar outras solicitações ao servidor durante essa sessão. \n",
        "\n",
        "O valor do recurso \"Taxa de saída\" para uma página da web específica é calculado como a porcentagem que foi a última na sessão, para todas as exibições de página a página. \n",
        "\n",
        "O recurso \"Valor da página\" representa o valor médio para uma página da web que um usuário visitou antes de concluir uma transação de comércio eletrônico. \n",
        "\n",
        "O recurso \"Dia especial\" indica a proximidade do horário de visita do site a um dia especial específico (por exemplo, dia das mães, dia dos namorados) em que as sessões têm mais probabilidade de serem finalizadas com a transação. O valor desse atributo é determinado considerando a dinâmica do comércio eletrônico, como a duração entre a data do pedido e a data de entrega. Por exemplo, no dia dos namorados, esse valor assume um valor diferente de zero entre 2 e 12 de fevereiro (dia dos namorados nos EUA e Europa), zero antes e depois dessa data, a menos que esteja próximo de outro dia especial e seu valor máximo de 1 em 8 de fevereiro. \n",
        "\n",
        "O conjunto de dados também inclui o tipo de sistema operacional, navegador, região, tipo de tráfego, tipo de visitante como visitante novo ou recorrente, um valor booleano indicando se a data da visita é final de semana e mês do ano.\n",
        "\n",
        "***A variável alvo (Revenue) é booleana, com True se a sessão gerou receita e False se não gerou.***"
      ]
    },
    {
      "cell_type": "markdown",
      "metadata": {
        "id": "DP8c7YB2guXc",
        "colab_type": "text"
      },
      "source": [
        "## Análise Exploratória"
      ]
    },
    {
      "cell_type": "code",
      "metadata": {
        "id": "z-M0prpqguXd",
        "colab_type": "code",
        "colab": {}
      },
      "source": [
        "# Shape\n",
        "df_original.shape"
      ],
      "execution_count": 0,
      "outputs": []
    },
    {
      "cell_type": "code",
      "metadata": {
        "id": "cl-rws1nguXk",
        "colab_type": "code",
        "colab": {}
      },
      "source": [
        "# Tipos de Dados\n",
        "df_original.dtypes"
      ],
      "execution_count": 0,
      "outputs": []
    },
    {
      "cell_type": "code",
      "metadata": {
        "id": "i3ZsWbgqguXq",
        "colab_type": "code",
        "colab": {}
      },
      "source": [
        "# Verificando valores missing\n",
        "print(df_original.isna().sum())"
      ],
      "execution_count": 0,
      "outputs": []
    },
    {
      "cell_type": "code",
      "metadata": {
        "id": "0__j21nyguXu",
        "colab_type": "code",
        "colab": {}
      },
      "source": [
        "# Removendo as linhas com valores missing\n",
        "df_original.dropna(inplace = True)"
      ],
      "execution_count": 0,
      "outputs": []
    },
    {
      "cell_type": "code",
      "metadata": {
        "id": "tNnZlFrFguXx",
        "colab_type": "code",
        "colab": {}
      },
      "source": [
        "# Verificando valores missing\n",
        "print(df_original.isna().sum())"
      ],
      "execution_count": 0,
      "outputs": []
    },
    {
      "cell_type": "code",
      "metadata": {
        "id": "inqEY6VDguX0",
        "colab_type": "code",
        "colab": {}
      },
      "source": [
        "# Shape\n",
        "df_original.shape"
      ],
      "execution_count": 0,
      "outputs": []
    },
    {
      "cell_type": "code",
      "metadata": {
        "id": "SN9anJQaguX4",
        "colab_type": "code",
        "colab": {}
      },
      "source": [
        "# Verificando Valores Únicos\n",
        "df_original.nunique()"
      ],
      "execution_count": 0,
      "outputs": []
    },
    {
      "cell_type": "markdown",
      "metadata": {
        "id": "PqR1rqU2guX9",
        "colab_type": "text"
      },
      "source": [
        "Para fins de visualização, dividiremos os dados em variáveis **contínuas e categóricas**. Trataremos todas as variáveis com menos de 30 entradas únicas como categóricas."
      ]
    },
    {
      "cell_type": "code",
      "metadata": {
        "id": "DTWH2Gn4guX-",
        "colab_type": "code",
        "colab": {}
      },
      "source": [
        "# Preparando os dados para o plot\n",
        "\n",
        "# Cria uma cópia do dataset original\n",
        "df = df_original.copy()\n",
        "\n",
        "# Listas vazias para os resultados\n",
        "continuous = []\n",
        "categorical = []\n",
        "\n",
        "# Loop pelas colunas\n",
        "for c in df.columns[:-1]:\n",
        "    if df.nunique()[c] >= 30:\n",
        "        continuous.append(c)\n",
        "    else:\n",
        "        categorical.append(c)"
      ],
      "execution_count": 0,
      "outputs": []
    },
    {
      "cell_type": "code",
      "metadata": {
        "id": "xR1MibYQguYA",
        "colab_type": "code",
        "colab": {}
      },
      "source": [
        "continuous"
      ],
      "execution_count": 0,
      "outputs": []
    },
    {
      "cell_type": "code",
      "metadata": {
        "id": "ou8_QKOUguYE",
        "colab_type": "code",
        "colab": {}
      },
      "source": [
        "# Variáveis contínuas\n",
        "df[continuous].head()"
      ],
      "execution_count": 0,
      "outputs": []
    },
    {
      "cell_type": "code",
      "metadata": {
        "id": "m7A1cpzBguYI",
        "colab_type": "code",
        "colab": {}
      },
      "source": [
        "# Variáveis categóricas\n",
        "df[categorical].head()"
      ],
      "execution_count": 0,
      "outputs": []
    },
    {
      "cell_type": "markdown",
      "metadata": {
        "id": "W0QApB6RguYL",
        "colab_type": "text"
      },
      "source": [
        "Gráficos para variáveis numéricas."
      ]
    },
    {
      "cell_type": "code",
      "metadata": {
        "id": "VnLAdzzqguYM",
        "colab_type": "code",
        "colab": {}
      },
      "source": [
        "# Plot das variáveis contínuas\n",
        "\n",
        "# Tamanho da área de plotagem\n",
        "fig = plt.figure(figsize = (12,8))\n",
        "\n",
        "# Loop pelas variáveis contínuas\n",
        "for i, col in enumerate(continuous):\n",
        "    plt.subplot(3, 3, i + 1);\n",
        "    df.boxplot(col);\n",
        "    plt.tight_layout()\n",
        "    \n",
        "plt.savefig('boxplot1.png')"
      ],
      "execution_count": 0,
      "outputs": []
    },
    {
      "cell_type": "markdown",
      "metadata": {
        "id": "kW8NCDouguYO",
        "colab_type": "text"
      },
      "source": [
        "Variáveis contínuas parecem extremamente distorcidas. Vamos aplicar transformação de log para melhor visualização."
      ]
    },
    {
      "cell_type": "code",
      "metadata": {
        "id": "TN689jiRguYP",
        "colab_type": "code",
        "colab": {}
      },
      "source": [
        "# Transformação de log nas variáveis contínuas\n",
        "df[continuous] = np.log1p(1 + df[continuous])"
      ],
      "execution_count": 0,
      "outputs": []
    },
    {
      "cell_type": "code",
      "metadata": {
        "id": "IvI1OOmIguYR",
        "colab_type": "code",
        "colab": {}
      },
      "source": [
        "# Plot das variáveis contínuas\n",
        "\n",
        "# Tamanho da área de plotagem\n",
        "fig = plt.figure(figsize = (12,8))\n",
        "\n",
        "# Loop pelas variáveis contínuas\n",
        "for i,col in enumerate(continuous):\n",
        "    plt.subplot(3,3,i+1);\n",
        "    df.boxplot(col);\n",
        "    plt.tight_layout()\n",
        "plt.savefig('boxplot2.png')"
      ],
      "execution_count": 0,
      "outputs": []
    },
    {
      "cell_type": "markdown",
      "metadata": {
        "id": "Eee6iQNjguYU",
        "colab_type": "text"
      },
      "source": [
        "Matriz de Correlação Entre Variáveis Contínuas."
      ]
    },
    {
      "cell_type": "code",
      "metadata": {
        "id": "GXFfgsfNguYV",
        "colab_type": "code",
        "colab": {}
      },
      "source": [
        "# Área de plotagem\n",
        "plt.figure(figsize = (10,10))\n",
        "\n",
        "# Matriz de Correlação \n",
        "sns.heatmap(df[['Administrative_Duration',\n",
        "                'Informational_Duration',  \n",
        "                'ProductRelated_Duration',\n",
        "                'BounceRates', \n",
        "                'ExitRates', \n",
        "                'PageValues',\n",
        "                'Revenue']].corr(), vmax = 1., square = True)"
      ],
      "execution_count": 0,
      "outputs": []
    },
    {
      "cell_type": "markdown",
      "metadata": {
        "id": "tlpV1JuvguYY",
        "colab_type": "text"
      },
      "source": [
        "Visualização de gráficos de variáveis categóricas para analisar como a variável de destino é influenciada por elas."
      ]
    },
    {
      "cell_type": "code",
      "metadata": {
        "id": "l2SXNIAZguYZ",
        "colab_type": "code",
        "colab": {}
      },
      "source": [
        "# Countplot Venda ou Não\n",
        "plt.subplot(1,2,2)\n",
        "plt.title(\"Venda ou Não\")\n",
        "sns.countplot(df['Revenue'])"
      ],
      "execution_count": 0,
      "outputs": []
    },
    {
      "cell_type": "code",
      "metadata": {
        "id": "OPDwID-iguYc",
        "colab_type": "code",
        "colab": {}
      },
      "source": [
        "# Countplot Tipo de Visitante\n",
        "plt.xlabel(\"Tipo de Visitante\")\n",
        "sns.countplot(df['VisitorType'])"
      ],
      "execution_count": 0,
      "outputs": []
    },
    {
      "cell_type": "code",
      "metadata": {
        "id": "2bNhX_-7guYh",
        "colab_type": "code",
        "colab": {}
      },
      "source": [
        "# Stacked Bar Tipo de Visitante x Revenue\n",
        "pd.crosstab(df['VisitorType'], df['Revenue']).plot(kind = 'bar', \n",
        "                                                   stacked = True, \n",
        "                                                   figsize = (20, 5), \n",
        "                                                   color = ['red', 'green'])"
      ],
      "execution_count": 0,
      "outputs": []
    },
    {
      "cell_type": "code",
      "metadata": {
        "id": "UNNMwqfHguYk",
        "colab_type": "code",
        "colab": {}
      },
      "source": [
        "# Pie Chart Tipos de Visitantes\n",
        "labels = ['Visitante_Retornando', 'Novo_Visitante', 'Outro']\n",
        "plt.title(\"Tipos de Visitantes\")\n",
        "plt.pie(df['VisitorType'].value_counts(), labels = labels, autopct = '%.2f%%')\n",
        "plt.legend()"
      ],
      "execution_count": 0,
      "outputs": []
    },
    {
      "cell_type": "code",
      "metadata": {
        "id": "9y_NgPEdguYn",
        "colab_type": "code",
        "colab": {}
      },
      "source": [
        "# Countplot Final de Semana ou Não\n",
        "plt.subplot(1,2,1)\n",
        "plt.title(\"Final de Semana ou Não\")\n",
        "sns.countplot(df['Weekend'])"
      ],
      "execution_count": 0,
      "outputs": []
    },
    {
      "cell_type": "code",
      "metadata": {
        "id": "Q0wbituaguYq",
        "colab_type": "code",
        "colab": {}
      },
      "source": [
        "# Stacked Bar Final de Semana x Revenue\n",
        "pd.crosstab(df['Weekend'], df['Revenue']).plot(kind = 'bar', \n",
        "                                               stacked = True, \n",
        "                                               figsize = (15, 5), \n",
        "                                               color = ['red', 'green'])"
      ],
      "execution_count": 0,
      "outputs": []
    },
    {
      "cell_type": "code",
      "metadata": {
        "id": "BifzfabgguYt",
        "colab_type": "code",
        "colab": {}
      },
      "source": [
        "# Countplot Tipos de Sistemas Operacionais\n",
        "#plt.figure(figsize = (15,6))\n",
        "plt.title(\"Tipos de Sistemas Operacionais\")\n",
        "plt.xlabel(\"Sistema Operacional Usado\")\n",
        "sns.countplot(df['OperatingSystems'])"
      ],
      "execution_count": 0,
      "outputs": []
    },
    {
      "cell_type": "code",
      "metadata": {
        "id": "Oj1u7JNXguYw",
        "colab_type": "code",
        "colab": {}
      },
      "source": [
        "# Stacked Bar Tipo de SO x Revenue\n",
        "pd.crosstab(df['OperatingSystems'], df['Revenue']).plot(kind = 'bar', \n",
        "                                                        stacked = True, \n",
        "                                                        figsize = (15, 5), \n",
        "                                                        color = ['red', 'green'])"
      ],
      "execution_count": 0,
      "outputs": []
    },
    {
      "cell_type": "code",
      "metadata": {
        "id": "jq9LIHq3guYz",
        "colab_type": "code",
        "colab": {}
      },
      "source": [
        "# Countplot Tipo de Tráfego\n",
        "plt.title(\"Tipos de Tráfego\")\n",
        "plt.xlabel(\"Tipo de Tráfego\")\n",
        "sns.countplot(df['TrafficType'])"
      ],
      "execution_count": 0,
      "outputs": []
    },
    {
      "cell_type": "code",
      "metadata": {
        "id": "URRUZWVUguY2",
        "colab_type": "code",
        "colab": {}
      },
      "source": [
        "# Stacked Bar Tipos de Tráfego x Revenue\n",
        "pd.crosstab(df['TrafficType'], df['Revenue']).plot(kind = 'bar', \n",
        "                                                   stacked = True, \n",
        "                                                   figsize = (15, 5), \n",
        "                                                   color = ['red', 'green'])"
      ],
      "execution_count": 0,
      "outputs": []
    },
    {
      "cell_type": "markdown",
      "metadata": {
        "id": "r0BWqW-yguY8",
        "colab_type": "text"
      },
      "source": [
        "## Pré-Processamento dos Dados"
      ]
    },
    {
      "cell_type": "code",
      "metadata": {
        "id": "Lz5GaqbwguY8",
        "colab_type": "code",
        "colab": {}
      },
      "source": [
        "df_original.head()"
      ],
      "execution_count": 0,
      "outputs": []
    },
    {
      "cell_type": "code",
      "metadata": {
        "id": "3pKxhmvBguY_",
        "colab_type": "code",
        "colab": {}
      },
      "source": [
        "# Cria o encoder\n",
        "lb = LabelEncoder()\n",
        "\n",
        "# Aplica o encoder nas variáveis que estão com string\n",
        "df_original['Month'] = lb.fit_transform(df_original['Month'])\n",
        "df_original['VisitorType'] = lb.fit_transform(df_original['VisitorType'])\n",
        "\n",
        "# Remove valores missing eventualmente gerados\n",
        "df_original.dropna(inplace = True)"
      ],
      "execution_count": 0,
      "outputs": []
    },
    {
      "cell_type": "code",
      "metadata": {
        "id": "7BIDAyqGguZC",
        "colab_type": "code",
        "colab": {}
      },
      "source": [
        "df_original.head(100)"
      ],
      "execution_count": 0,
      "outputs": []
    },
    {
      "cell_type": "code",
      "metadata": {
        "id": "yhaABctEguZE",
        "colab_type": "code",
        "colab": {}
      },
      "source": [
        "# Shape\n",
        "df_original.shape"
      ],
      "execution_count": 0,
      "outputs": []
    },
    {
      "cell_type": "code",
      "metadata": {
        "id": "jDAtWIm1guZI",
        "colab_type": "code",
        "colab": {}
      },
      "source": [
        "# Verificando se a variável resposta está balanceada\n",
        "target_count = df_original.Revenue.value_counts()\n",
        "target_count"
      ],
      "execution_count": 0,
      "outputs": []
    },
    {
      "cell_type": "code",
      "metadata": {
        "id": "_Cu4YgXvguZK",
        "colab_type": "code",
        "colab": {}
      },
      "source": [
        "# Plot \n",
        "sns.countplot(df_original.Revenue, palette = \"OrRd\")\n",
        "plt.box(False)\n",
        "plt.xlabel('Receita (Revenue) Por Sessão Não (0) / Sim (1)', fontsize = 11)\n",
        "plt.ylabel('Total Sessões', fontsize = 11)\n",
        "plt.title('Contagem de Classes\\n')\n",
        "plt.show()"
      ],
      "execution_count": 0,
      "outputs": []
    },
    {
      "cell_type": "code",
      "metadata": {
        "id": "q62kEAuHguZP",
        "colab_type": "code",
        "colab": {}
      },
      "source": [
        "# Instala e importa o pacote imblearn - Aplicar o balanceamento da variável resposta\n",
        "!pip install -q imblearn\n",
        "import imblearn"
      ],
      "execution_count": 0,
      "outputs": []
    },
    {
      "cell_type": "code",
      "metadata": {
        "id": "oAFq7mwSguZU",
        "colab_type": "code",
        "colab": {}
      },
      "source": [
        "# Versões dos pacotes usados neste jupyter notebook\n",
        "%reload_ext watermark\n",
        "%watermark -a \"Ciência dos Dados\" --iversions"
      ],
      "execution_count": 0,
      "outputs": []
    },
    {
      "cell_type": "code",
      "metadata": {
        "id": "1WxQdVnPguZY",
        "colab_type": "code",
        "colab": {}
      },
      "source": [
        "# Shape\n",
        "df_original.shape"
      ],
      "execution_count": 0,
      "outputs": []
    },
    {
      "cell_type": "code",
      "metadata": {
        "id": "Ke63dbRFguZc",
        "colab_type": "code",
        "colab": {}
      },
      "source": [
        "# Variáveis explicativas\n",
        "df_original.iloc[:, 0:17].head()"
      ],
      "execution_count": 0,
      "outputs": []
    },
    {
      "cell_type": "code",
      "metadata": {
        "id": "FEbQSmM8guZe",
        "colab_type": "code",
        "colab": {}
      },
      "source": [
        "# Variável Target\n",
        "df_original.iloc[:, 17].head()"
      ],
      "execution_count": 0,
      "outputs": []
    },
    {
      "cell_type": "markdown",
      "metadata": {
        "id": "gmYyEW0rguZk",
        "colab_type": "text"
      },
      "source": [
        "**Balanceamento de Classe - Oversampling**"
      ]
    },
    {
      "cell_type": "code",
      "metadata": {
        "id": "M2GKcE-GguZl",
        "colab_type": "code",
        "colab": {}
      },
      "source": [
        "# Importa a função\n",
        "from imblearn.over_sampling import SMOTE\n",
        "\n",
        "# Seed para reproduzir o mesmo resultado\n",
        "seed = 100\n",
        "\n",
        "# Separa X e y\n",
        "X = df_original.iloc[:, 0:17]  \n",
        "y = df_original.iloc[:, 17] \n",
        "\n",
        "# Cria o balanceador SMOTE\n",
        "smote_bal = SMOTE(random_state = seed)\n",
        "\n",
        "# Aplica o balanceador\n",
        "X_res, y_res = smote_bal.fit_resample(X, y)"
      ],
      "execution_count": 0,
      "outputs": []
    },
    {
      "cell_type": "code",
      "metadata": {
        "id": "WC8wg9HmguZo",
        "colab_type": "code",
        "colab": {}
      },
      "source": [
        "# Plot \n",
        "sns.countplot(y_res, palette = \"OrRd\")\n",
        "plt.box(False)\n",
        "plt.xlabel('Receita (Revenue) Por Sessão Não (0) / Sim (1)', fontsize = 11)\n",
        "plt.ylabel('Total Sessões', fontsize = 11)\n",
        "plt.title('Contagem de Classes\\n')\n",
        "plt.show()"
      ],
      "execution_count": 0,
      "outputs": []
    },
    {
      "cell_type": "code",
      "metadata": {
        "id": "bJO4YYjQguZr",
        "colab_type": "code",
        "colab": {}
      },
      "source": [
        "# Shape dos dados originais\n",
        "df_original.shape"
      ],
      "execution_count": 0,
      "outputs": []
    },
    {
      "cell_type": "code",
      "metadata": {
        "id": "s216ltluguZv",
        "colab_type": "code",
        "colab": {}
      },
      "source": [
        "# Shape dos dados reamostrados \n",
        "X_res.shape"
      ],
      "execution_count": 0,
      "outputs": []
    },
    {
      "cell_type": "code",
      "metadata": {
        "id": "rI0cnbwKguZz",
        "colab_type": "code",
        "colab": {}
      },
      "source": [
        "# Shape dos dados reamostrados \n",
        "y_res.shape"
      ],
      "execution_count": 0,
      "outputs": []
    },
    {
      "cell_type": "code",
      "metadata": {
        "id": "dYgH-iWbguZ2",
        "colab_type": "code",
        "colab": {}
      },
      "source": [
        "# Ajustando X e y\n",
        "X = X_res\n",
        "y = y_res"
      ],
      "execution_count": 0,
      "outputs": []
    },
    {
      "cell_type": "code",
      "metadata": {
        "id": "EO9K7ZViguZ4",
        "colab_type": "code",
        "colab": {}
      },
      "source": [
        "# Divisão em Dados de Treino e Teste.\n",
        "X_treino, X_teste, y_treino, y_teste = train_test_split(X, y, test_size = 0.3, random_state = 42)"
      ],
      "execution_count": 0,
      "outputs": []
    },
    {
      "cell_type": "markdown",
      "metadata": {
        "id": "7IP01pHZguZ8",
        "colab_type": "text"
      },
      "source": [
        "## Modelo SVM"
      ]
    },
    {
      "cell_type": "markdown",
      "metadata": {
        "id": "NGq-ol9WguZ9",
        "colab_type": "text"
      },
      "source": [
        "### Modelo Base com Kernel Linear"
      ]
    },
    {
      "cell_type": "code",
      "metadata": {
        "id": "lJuL-6FrguZ-",
        "colab_type": "code",
        "colab": {}
      },
      "source": [
        "# Cria o modelo\n",
        "modelo_v1 = svm.SVC(kernel = 'linear')"
      ],
      "execution_count": 0,
      "outputs": []
    },
    {
      "cell_type": "code",
      "metadata": {
        "id": "B8QWrCCrguaG",
        "colab_type": "code",
        "colab": {}
      },
      "source": [
        "# Treinamento (Duração de 120 minutos com TPU)\n",
        "start = time.time()\n",
        "modelo_v1.fit(X_treino, y_treino)\n",
        "end = time.time()\n",
        "print('Tempo de Treinamento do Modelo:', end - start)"
      ],
      "execution_count": 0,
      "outputs": []
    },
    {
      "cell_type": "code",
      "metadata": {
        "id": "MVyd9j8TguaL",
        "colab_type": "code",
        "colab": {}
      },
      "source": [
        "# Previsões\n",
        "previsoes_v1 = modelo_v1.predict(X_teste)"
      ],
      "execution_count": 0,
      "outputs": []
    },
    {
      "cell_type": "code",
      "metadata": {
        "id": "uVkRMLtrguaO",
        "colab_type": "code",
        "colab": {}
      },
      "source": [
        "# Dicionário de métricas e metadados\n",
        "SVM_dict_v1 = {'Modelo':'SVM',\n",
        "               'Versão':'1',\n",
        "               'Kernel':'Linear',\n",
        "               'Precision':precision_score(previsoes_v1, y_teste),\n",
        "               'Recall':recall_score(previsoes_v1, y_teste),\n",
        "               'F1 Score':f1_score(previsoes_v1, y_teste),\n",
        "               'Acurácia':accuracy_score(previsoes_v1, y_teste),\n",
        "               'AUC':roc_auc_score(y_teste, previsoes_v1)}"
      ],
      "execution_count": 0,
      "outputs": []
    },
    {
      "cell_type": "code",
      "metadata": {
        "id": "bxWYpTpdguaV",
        "colab_type": "code",
        "colab": {}
      },
      "source": [
        "# Print\n",
        "print(\"Métricas em Teste:\\n\")\n",
        "SVM_dict_v1"
      ],
      "execution_count": 0,
      "outputs": []
    },
    {
      "cell_type": "markdown",
      "metadata": {
        "id": "2mdvE6dyguaZ",
        "colab_type": "text"
      },
      "source": [
        "### Modelo com Kernel Linear e Dados Padronizados (Scaled)"
      ]
    },
    {
      "cell_type": "code",
      "metadata": {
        "id": "a1n4aE3Wguaa",
        "colab_type": "code",
        "colab": {}
      },
      "source": [
        "# ***** Atenção *****\n",
        "# O método nesta célula não deve ser usado, pois estaríamos aplicando o fit em teste e isso não é o ideal\n",
        "# Aplicamos o fit somente nos dados de treino e aplicamos o transform nos dados de teste\n",
        "# Padronização\n",
        "# X_treino_scaled = StandardScaler().fit_transform(X_treino)\n",
        "# X_teste_scaled = StandardScaler().fit_transform(X_teste)"
      ],
      "execution_count": 0,
      "outputs": []
    },
    {
      "cell_type": "code",
      "metadata": {
        "id": "eZMRYBaeguad",
        "colab_type": "code",
        "colab": {}
      },
      "source": [
        "# Agora sim, a forma ideal de aplicar a padronização em treino e teste\n",
        "# Padronização\n",
        "sc = StandardScaler()\n",
        "X_treino_scaled = sc.fit_transform(X_treino)\n",
        "X_teste_scaled = sc.transform(X_teste)"
      ],
      "execution_count": 0,
      "outputs": []
    },
    {
      "cell_type": "markdown",
      "metadata": {
        "id": "uDAPySB9guaj",
        "colab_type": "text"
      },
      "source": [
        "***Observação:***\n",
        "\n",
        "Para impedir que as informações sobre a distribuição do conjunto de teste vazem em seu modelo, o ideal é aplicar a padronização em separado nos dados de treino e de teste, ajustando o redimensionador apenas aos dados de treinamento, padronizando então os conjuntos de treinamento e teste com esse redimensionador (exatamente como está na célula acima). Ao ajustar o redimensionador no conjunto de dados completo antes da divisão em treino e teste, informações sobre o conjunto de testes são usadas para transformar o conjunto de treinamento.\n",
        "\n",
        "Conhecer a distribuição de todo o conjunto de dados pode influenciar como você detecta e processa outliers, bem como como você parametriza seu modelo. Embora os dados em si não sejam expostos, há informações sobre a distribuição dos dados. Como resultado, o desempenho do seu conjunto de testes não é uma estimativa real do desempenho em dados invisíveis.\n",
        "\n",
        "**Sempre aplique a padronização depois de fazer a divisão em treino e teste**, exatamente como fizemos aqui. Usamos fit_transform() nos dados de treino e transform() nos dados de teste quando usamos o StandardScaler()."
      ]
    },
    {
      "cell_type": "code",
      "metadata": {
        "id": "O4fNmyCMguak",
        "colab_type": "code",
        "colab": {}
      },
      "source": [
        "X_treino_scaled"
      ],
      "execution_count": 0,
      "outputs": []
    },
    {
      "cell_type": "code",
      "metadata": {
        "id": "rXziOuoZguao",
        "colab_type": "code",
        "colab": {}
      },
      "source": [
        "X_teste_scaled"
      ],
      "execution_count": 0,
      "outputs": []
    },
    {
      "cell_type": "code",
      "metadata": {
        "id": "2sIncINaguat",
        "colab_type": "code",
        "colab": {}
      },
      "source": [
        "# Cria o modelo\n",
        "modelo_v2 = svm.SVC(kernel = 'linear')"
      ],
      "execution_count": 0,
      "outputs": []
    },
    {
      "cell_type": "code",
      "metadata": {
        "id": "nKzskr-rguaw",
        "colab_type": "code",
        "colab": {}
      },
      "source": [
        "# Treinamento\n",
        "start = time.time()\n",
        "modelo_v2.fit(X_treino_scaled, y_treino)\n",
        "end = time.time()\n",
        "print('Tempo de Treinamento do Modelo:', end - start)"
      ],
      "execution_count": 0,
      "outputs": []
    },
    {
      "cell_type": "code",
      "metadata": {
        "id": "XpVDHx0Vguay",
        "colab_type": "code",
        "colab": {}
      },
      "source": [
        "# Previsões\n",
        "previsoes_v2 = modelo_v2.predict(X_teste_scaled)"
      ],
      "execution_count": 0,
      "outputs": []
    },
    {
      "cell_type": "code",
      "metadata": {
        "id": "j0kwGfbogua0",
        "colab_type": "code",
        "colab": {}
      },
      "source": [
        "# Dicionário de métricas e metadados\n",
        "SVM_dict_v2 = {'Modelo':'SVM',\n",
        "               'Versão':'2',\n",
        "               'Kernel':'Linear com Dados Padronizados',\n",
        "               'Precision':precision_score(previsoes_v2, y_teste),\n",
        "               'Recall':recall_score(previsoes_v2, y_teste),\n",
        "               'F1 Score':f1_score(previsoes_v2, y_teste),\n",
        "               'Acurácia':accuracy_score(previsoes_v2, y_teste),\n",
        "               'AUC':roc_auc_score(y_teste, previsoes_v2)}"
      ],
      "execution_count": 0,
      "outputs": []
    },
    {
      "cell_type": "code",
      "metadata": {
        "id": "dZv2iNFvgua1",
        "colab_type": "code",
        "colab": {}
      },
      "source": [
        "# Print\n",
        "print(\"Métricas em Teste:\\n\")\n",
        "SVM_dict_v2"
      ],
      "execution_count": 0,
      "outputs": []
    },
    {
      "cell_type": "markdown",
      "metadata": {
        "id": "CNKx7TLugua3",
        "colab_type": "text"
      },
      "source": [
        "### Otimização de Hiperparâmetros com Grid Search e Kernel RBF"
      ]
    },
    {
      "cell_type": "code",
      "metadata": {
        "id": "TBxI4ROggua4",
        "colab_type": "code",
        "colab": {}
      },
      "source": [
        "# Cria o modelo\n",
        "modelo_v3 = svm.SVC(kernel = 'rbf')\n",
        "\n",
        "# Valores para o grid\n",
        "C_range = np.array([50., 100., 200.])\n",
        "gamma_range = np.array([0.3*0.001,0.001,3*0.001])\n",
        "\n",
        "# Grid de hiperparâmetros\n",
        "svm_param_grid = dict(gamma = gamma_range, C = C_range)\n",
        "\n",
        "# Grid Search\n",
        "start = time.time()\n",
        "modelo_v3_grid_search_rbf = GridSearchCV(modelo_v3, svm_param_grid, cv = 3)\n",
        "\n",
        "# Treinamento\n",
        "modelo_v3_grid_search_rbf.fit(X_treino_scaled, y_treino)\n",
        "end = time.time()\n",
        "print('Tempo de Treinamento do Modelo com Grid Search:', end - start)\n",
        "\n",
        "# Acurácia em Treino\n",
        "print(f\"Acurácia em Treinamento: {modelo_v3_grid_search_rbf.best_score_ :.2%}\")\n",
        "print(\"\")\n",
        "print(f\"Hiperparâmetros Ideais: {modelo_v3_grid_search_rbf.best_params_}\")"
      ],
      "execution_count": 0,
      "outputs": []
    },
    {
      "cell_type": "code",
      "metadata": {
        "id": "A925kFHYgua6",
        "colab_type": "code",
        "colab": {}
      },
      "source": [
        "# Previsões\n",
        "previsoes_v3 = modelo_v3_grid_search_rbf.predict(X_teste_scaled)"
      ],
      "execution_count": 0,
      "outputs": []
    },
    {
      "cell_type": "code",
      "metadata": {
        "id": "gqrH_OHHgua8",
        "colab_type": "code",
        "colab": {}
      },
      "source": [
        "# Dicionário de métricas e metadados\n",
        "SVM_dict_v3 = {'Modelo':'SVM',\n",
        "               'Versão':'3',\n",
        "               'Kernel':'RBF com Dados Padronizados',\n",
        "               'Precision':precision_score(previsoes_v3, y_teste),\n",
        "               'Recall':recall_score(previsoes_v3, y_teste),\n",
        "               'F1 Score':f1_score(previsoes_v3, y_teste),\n",
        "               'Acurácia':accuracy_score(previsoes_v3, y_teste),\n",
        "               'AUC':roc_auc_score(y_teste, previsoes_v3)}"
      ],
      "execution_count": 0,
      "outputs": []
    },
    {
      "cell_type": "code",
      "metadata": {
        "id": "ulwskou3gua9",
        "colab_type": "code",
        "colab": {}
      },
      "source": [
        "# Print\n",
        "print(\"Métricas em Teste:\\n\")\n",
        "SVM_dict_v3"
      ],
      "execution_count": 0,
      "outputs": []
    },
    {
      "cell_type": "markdown",
      "metadata": {
        "id": "aPCrJEsngubC",
        "colab_type": "text"
      },
      "source": [
        "### Otimização de Hiperparâmetros com Grid Search e Kernel Polinomial"
      ]
    },
    {
      "cell_type": "code",
      "metadata": {
        "id": "8e9HYpfdgubD",
        "colab_type": "code",
        "colab": {}
      },
      "source": [
        "# Cria o modelo\n",
        "modelo_v4 = svm.SVC(kernel = 'poly')\n",
        "\n",
        "# Valores para o grid\n",
        "r_range =  np.array([0.5, 1])\n",
        "gamma_range =  np.array([0.001, 0.01])\n",
        "d_range = np.array([2,3, 4])\n",
        "\n",
        "# Grid de hiperparâmetros\n",
        "param_grid_poly = dict(gamma = gamma_range, degree = d_range, coef0 = r_range)\n",
        "\n",
        "# Grid Search\n",
        "start = time.time()\n",
        "modelo_v4_grid_search_poly = GridSearchCV(modelo_v4, param_grid_poly, cv = 3)\n",
        "\n",
        "# Treinamento\n",
        "modelo_v4_grid_search_poly.fit(X_treino_scaled, y_treino)\n",
        "end = time.time()\n",
        "print('Tempo de Treinamento do Modelo com Grid Search:', end - start)\n",
        "\n",
        "# Acurácia em Treino\n",
        "print(f\"Acurácia em Treinamento: {modelo_v4_grid_search_poly.best_score_ :.2%}\")\n",
        "print(\"\")\n",
        "print(f\"Hiperparâmetros Ideais: {modelo_v4_grid_search_poly.best_params_}\")"
      ],
      "execution_count": 0,
      "outputs": []
    },
    {
      "cell_type": "code",
      "metadata": {
        "id": "FXTndkGigubG",
        "colab_type": "code",
        "colab": {}
      },
      "source": [
        "# Previsões\n",
        "previsoes_v4 = modelo_v4_grid_search_poly.predict(X_teste_scaled)"
      ],
      "execution_count": 0,
      "outputs": []
    },
    {
      "cell_type": "code",
      "metadata": {
        "id": "iVsQIgoYgubI",
        "colab_type": "code",
        "colab": {}
      },
      "source": [
        "# Dicionário de métricas e metadados\n",
        "SVM_dict_v4 = {'Modelo':'SVM',\n",
        "               'Versão':'4',\n",
        "               'Kernel':'Polinomial com Dados Padronizados',\n",
        "               'Precision':precision_score(previsoes_v4, y_teste),\n",
        "               'Recall':recall_score(previsoes_v4, y_teste),\n",
        "               'F1 Score':f1_score(previsoes_v4, y_teste),\n",
        "               'Acurácia':accuracy_score(previsoes_v4, y_teste),\n",
        "               'AUC':roc_auc_score(y_teste, previsoes_v4)}"
      ],
      "execution_count": 0,
      "outputs": []
    },
    {
      "cell_type": "code",
      "metadata": {
        "id": "FsjwqEUMgubK",
        "colab_type": "code",
        "colab": {}
      },
      "source": [
        "# Print\n",
        "print(\"Métricas em Teste:\\n\")\n",
        "SVM_dict_v4"
      ],
      "execution_count": 0,
      "outputs": []
    },
    {
      "cell_type": "code",
      "metadata": {
        "id": "U0GItqAMgubN",
        "colab_type": "code",
        "colab": {}
      },
      "source": [
        "# Concatena todos os dicionários em um dataframe do Pandas\n",
        "resumo = pd.DataFrame({'SVM_dict_v1':pd.Series(SVM_dict_v1),\n",
        "                       'SVM_dict_v2':pd.Series(SVM_dict_v2),\n",
        "                       'SVM_dict_v3':pd.Series(SVM_dict_v3),\n",
        "                       'SVM_dict_v4':pd.Series(SVM_dict_v4)})"
      ],
      "execution_count": 0,
      "outputs": []
    },
    {
      "cell_type": "code",
      "metadata": {
        "id": "wXErP7xagubP",
        "colab_type": "code",
        "colab": {}
      },
      "source": [
        "# Print\n",
        "resumo"
      ],
      "execution_count": 0,
      "outputs": []
    },
    {
      "cell_type": "markdown",
      "metadata": {
        "id": "Rk4e69pygubR",
        "colab_type": "text"
      },
      "source": [
        "### Fazendo Previsões com o Modelo Treinado"
      ]
    },
    {
      "cell_type": "code",
      "metadata": {
        "id": "LJFnUC5UgubR",
        "colab_type": "code",
        "colab": {}
      },
      "source": [
        "# Novo registro\n",
        "novo_x = np.array([4.0, 5.56, 1.0, 3.78, 2.995, 6.00, 0.69, 0.70, 0.69, 0, 6, 1, 1, 3, 3, 2, False]).reshape(1, -1)"
      ],
      "execution_count": 0,
      "outputs": []
    },
    {
      "cell_type": "code",
      "metadata": {
        "id": "DD8Hg-gagubT",
        "colab_type": "code",
        "colab": {}
      },
      "source": [
        "# Padronizando o registro\n",
        "novo_x_scaled = StandardScaler().fit_transform(novo_x)"
      ],
      "execution_count": 0,
      "outputs": []
    },
    {
      "cell_type": "code",
      "metadata": {
        "id": "SSWQPC5QgubW",
        "colab_type": "code",
        "colab": {}
      },
      "source": [
        "# Previsão\n",
        "previsao_novo_x = modelo_v3_grid_search_rbf.predict(novo_x_scaled)"
      ],
      "execution_count": 0,
      "outputs": []
    },
    {
      "cell_type": "code",
      "metadata": {
        "id": "nGi2P2G-gubZ",
        "colab_type": "code",
        "colab": {}
      },
      "source": [
        "previsao_novo_x"
      ],
      "execution_count": 0,
      "outputs": []
    },
    {
      "cell_type": "markdown",
      "metadata": {
        "id": "faj8owoQgubc",
        "colab_type": "text"
      },
      "source": [
        "# Fim"
      ]
    },
    {
      "cell_type": "markdown",
      "metadata": {
        "id": "nvETGaDKrvNg",
        "colab_type": "text"
      },
      "source": [
        "### #Facebook - Ciência dos Dados - <a href=\"http://facebook.com/cienciadosdadosbr\">facebook.com/cienciadosdadosbr</a>"
      ]
    },
    {
      "cell_type": "markdown",
      "metadata": {
        "id": "iRkAI2airx6V",
        "colab_type": "text"
      },
      "source": [
        "### #**Telegram** - Scripts e Datasets - Comunidade Telegram <a href=\"https://t.me/cienciadosdados\">https://t.me/cienciadosdados</a>"
      ]
    },
    {
      "cell_type": "markdown",
      "metadata": {
        "id": "cakIhnHGr4Nu",
        "colab_type": "text"
      },
      "source": [
        "### #YouTube - Mais Aulas como essa no YouTube <a href=\"https://www.youtube.com/watch?v=IaIc5oHd3II&t=1569s\">https://www.youtube.com/watch?v=IaIc5oHd3II&t=1569s</a>"
      ]
    },
    {
      "cell_type": "code",
      "metadata": {
        "id": "Y0GudUV0r4wC",
        "colab_type": "code",
        "outputId": "8c987b13-9704-4411-fdb0-314b0ea10220",
        "colab": {
          "base_uri": "https://localhost:8080/",
          "height": 221
        }
      },
      "source": [
        "from IPython.core.display import HTML\n",
        "HTML('<iframe width=\"300\" height=\"200\" src=\"https://www.youtube.com/embed/IaIc5oHd3II\" frameborder=\"0\" allow=\"accelerometer; autoplay; encrypted-media; gyroscope; picture-in-picture\" allowfullscreen></iframe></iframe>')"
      ],
      "execution_count": 0,
      "outputs": [
        {
          "output_type": "execute_result",
          "data": {
            "text/html": [
              "<iframe width=\"300\" height=\"200\" src=\"https://www.youtube.com/embed/IaIc5oHd3II\" frameborder=\"0\" allow=\"accelerometer; autoplay; encrypted-media; gyroscope; picture-in-picture\" allowfullscreen></iframe></iframe>"
            ],
            "text/plain": [
              "<IPython.core.display.HTML object>"
            ]
          },
          "metadata": {
            "tags": []
          },
          "execution_count": 4
        }
      ]
    }
  ]
}