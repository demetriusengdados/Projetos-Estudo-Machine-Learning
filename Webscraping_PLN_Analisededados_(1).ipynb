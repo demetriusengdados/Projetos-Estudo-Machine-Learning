{
  "nbformat": 4,
  "nbformat_minor": 0,
  "metadata": {
    "kernelspec": {
      "display_name": "Python 3",
      "language": "python",
      "name": "python3"
    },
    "language_info": {
      "codemirror_mode": {
        "name": "ipython",
        "version": 3
      },
      "file_extension": ".py",
      "mimetype": "text/x-python",
      "name": "python",
      "nbconvert_exporter": "python",
      "pygments_lexer": "ipython3",
      "version": "3.7.6"
    },
    "colab": {
      "name": "Webscraping_PLN_Analisededados (1).ipynb",
      "provenance": [],
      "collapsed_sections": [
        "q4AtWjqRV3oz",
        "NDk3ztolV3o6"
      ]
    }
  },
  "cells": [
    {
      "cell_type": "markdown",
      "metadata": {
        "id": "GWAqXBCAV3mg",
        "colab_type": "text"
      },
      "source": [
        "# <font color='Purple'>Ciência dos Dados => na Pratica</font>\n"
      ]
    },
    {
      "cell_type": "markdown",
      "metadata": {
        "id": "Pt7V_GSNV3mi",
        "colab_type": "text"
      },
      "source": [
        "## <font color='blue'>Web Scraping Site de Empregos - Buscando quem saca de Dados</font>"
      ]
    },
    {
      "cell_type": "markdown",
      "metadata": {
        "id": "7z3-hFrgV3mj",
        "colab_type": "text"
      },
      "source": [
        "## <font size=\"4\">O que vamos fazer ==> Webscraping e Análise de Dados em Portais de Vagas no Brasil</font>"
      ]
    },
    {
      "cell_type": "markdown",
      "metadata": {
        "id": "fLUMk6nhV3mm",
        "colab_type": "text"
      },
      "source": [
        "\n",
        "\n",
        "Nesse #NaPratica dessa semana, iremos conectar em um dos maiores portais de vagas do Brasil, o Indeed, fazer web scraping de dados sobre as vagas cujo o skill seja DADOS e então analisar o resultado, extraindo insights e aplicando Processamento de Linguagem Natural. O exemplo pode ser facilmente aplicado a outros portais, com os devidos ajustes.\n",
        "\n",
        "\n",
        "\n",
        "Usaremos o Chromedriver para o processo de extração. Acesse o endereço abaixo, faça o download do arquivo de acordo com seu sistema operacional, bem como de acordo com a versao do seu Google Chrome, descompacte o zip e coloque o arquivo na mesma pasta onde está este Jupyter Notebook.\n",
        "\n",
        "https://sites.google.com/a/chromium.org/chromedriver/home"
      ]
    },
    {
      "cell_type": "markdown",
      "metadata": {
        "id": "FfdixEJfV3mo",
        "colab_type": "text"
      },
      "source": [
        "Execute cada uma das células, leia os comentários, estude o código e faça modificações para customizar essa aula."
      ]
    },
    {
      "cell_type": "markdown",
      "metadata": {
        "id": "Ymu6WqdoV3mr",
        "colab_type": "text"
      },
      "source": [
        "## <font color='Blue'>Carregando os Pacotes Usados Neste Jupyter Notebook"
      ]
    },
    {
      "cell_type": "code",
      "metadata": {
        "id": "IVPldbc6V3mt",
        "colab_type": "code",
        "colab": {}
      },
      "source": [
        "# Versão da Linguagem Python\n",
        "from platform import python_version\n",
        "print('Versão da Linguagem Python Usada Neste Jupyter Notebook:', python_version())"
      ],
      "execution_count": null,
      "outputs": []
    },
    {
      "cell_type": "code",
      "metadata": {
        "id": "ODh-I32iV3m0",
        "colab_type": "code",
        "colab": {}
      },
      "source": [
        "# Para atualizar um pacote, execute o comando abaixo no terminal ou prompt de comando:\n",
        "# pip install -U nome_pacote\n",
        "\n",
        "# Para instalar a versão exata de um pacote, execute o comando abaixo no terminal ou\n",
        "# prompt de comando:\n",
        "# pip install nome_pacote==versão_desejada\n",
        "\n",
        "# Depois de instalar ou atualizar o pacote, reinicie o jupyter notebook, se necessário."
      ],
      "execution_count": null,
      "outputs": []
    },
    {
      "cell_type": "code",
      "metadata": {
        "id": "Pxfs8Jv-V3m9",
        "colab_type": "code",
        "colab": {}
      },
      "source": [
        "# Instala o pacote watermark. \n",
        "# Esse pacote é usado para gravar as versões de outros pacotes usados neste jupyter\n",
        "#n otebook.\n",
        "!pip install -q -U watermark"
      ],
      "execution_count": null,
      "outputs": []
    },
    {
      "cell_type": "code",
      "metadata": {
        "id": "sMrR6J6RV3nB",
        "colab_type": "code",
        "colab": {}
      },
      "source": [
        "# Precisaremos do selenium\n",
        "!pip install -q selenium"
      ],
      "execution_count": null,
      "outputs": []
    },
    {
      "cell_type": "code",
      "metadata": {
        "id": "mDeA9YQWV3nF",
        "colab_type": "code",
        "colab": {}
      },
      "source": [
        "# Imports\n",
        "import bs4\n",
        "import selenium\n",
        "import numpy as np\n",
        "import pandas as pd\n",
        "import matplotlib\n",
        "import matplotlib.pyplot as plt\n",
        "from selenium import webdriver\n",
        "from bs4 import BeautifulSoup\n",
        "from collections import Counter\n",
        "%matplotlib inline"
      ],
      "execution_count": null,
      "outputs": []
    },
    {
      "cell_type": "code",
      "metadata": {
        "id": "4wRmP3kLV3nj",
        "colab_type": "code",
        "colab": {},
        "outputId": "b0ad79bc-df00-4bfa-c661-5ea141fbfab2"
      },
      "source": [
        "# Versões dos pacotes usados neste jupyter notebook\n",
        "%reload_ext watermark\n",
        "%watermark -a \"Ciência dos Dados\" --iversions"
      ],
      "execution_count": null,
      "outputs": [
        {
          "output_type": "stream",
          "text": [
            "pandas             1.0.1\n",
            "nltk               3.4.5\n",
            "selenium           3.141.0\n",
            "selenium.webdriver 3.14.1\n",
            "bs4                4.8.2\n",
            "matplotlib         3.1.3\n",
            "numpy              1.18.1\n",
            "Ciência dos Dados\n"
          ],
          "name": "stdout"
        }
      ]
    },
    {
      "cell_type": "markdown",
      "metadata": {
        "id": "F57mL_3FV3nn",
        "colab_type": "text"
      },
      "source": [
        "## Web Scraping"
      ]
    },
    {
      "cell_type": "code",
      "metadata": {
        "id": "MQU3lBPyV3np",
        "colab_type": "code",
        "colab": {}
      },
      "source": [
        "# Cria o driver de conexão. Será aberta outra janela do navegador. \n",
        "# Não feche-a e mantenha aberta durante a extração.\n",
        "driver = webdriver.Chrome(\"./chromedriver\")\n"
      ],
      "execution_count": null,
      "outputs": []
    },
    {
      "cell_type": "code",
      "metadata": {
        "id": "hNb2xTvlV3nv",
        "colab_type": "code",
        "colab": {}
      },
      "source": [
        "# Cria o dataframe para receber os dados\n",
        "dados = pd.DataFrame(columns = [\"Titulo\", \"Localidade\", \"Empresa\", \"Salario\", \"Tipo_Pesquisa\", \"Desc\"])"
      ],
      "execution_count": null,
      "outputs": []
    },
    {
      "cell_type": "markdown",
      "metadata": {
        "id": "Oc_vGxSTV3ny",
        "colab_type": "text"
      },
      "source": [
        "A url abaixo foi gerada da seguinte forma:\n",
        "    \n",
        "- 1- Acesso ao site https://www.indeed.com.br\n",
        "\n",
        "- 2- Seleção dos filtros de pesquisa de vagas com o termo \"Dados\" \n",
        "- 3- Então copiamos a url na barra de endereço do navegador.\n",
        "\n",
        "Você pode executar o mesmo procedimento e customizar sua busca, alterando localidade ou o tipo de vaga por exemplo. Copie a url e coloque na célula abaixo. Então execute o Jupyter Notebook novamente.\n",
        "\n",
        "Evite executar a célula abaixo muitas vezes seguidas ou seu acesso pode ser bloqueado pelo site."
      ]
    },
    {
      "cell_type": "code",
      "metadata": {
        "id": "SHzW1gTvV3nz",
        "colab_type": "code",
        "colab": {}
      },
      "source": [
        "# Abre a conexão com o site e faz a pesquisa\n",
        "driver.get(\"https://www.indeed.com.br/jobs?q=data+science&l=\")\n",
        "driver.implicitly_wait(1)"
      ],
      "execution_count": null,
      "outputs": []
    },
    {
      "cell_type": "code",
      "metadata": {
        "id": "m1D9zL9CV3n3",
        "colab_type": "code",
        "colab": {}
      },
      "source": [
        "# Gravamos o resultado do scraping\n",
        "resultado = driver.find_elements_by_class_name(\"result\")"
      ],
      "execution_count": null,
      "outputs": []
    },
    {
      "cell_type": "code",
      "metadata": {
        "id": "zjyekgXbV3n-",
        "colab_type": "code",
        "colab": {},
        "outputId": "e018f47f-3957-4324-c5f0-f6a04e3c72ce"
      },
      "source": [
        "# Tipo do objeto\n",
        "type(resultado)"
      ],
      "execution_count": null,
      "outputs": [
        {
          "output_type": "execute_result",
          "data": {
            "text/plain": [
              "list"
            ]
          },
          "metadata": {
            "tags": []
          },
          "execution_count": 10
        }
      ]
    },
    {
      "cell_type": "code",
      "metadata": {
        "id": "2axzZURdV3oD",
        "colab_type": "code",
        "colab": {},
        "outputId": "4ef20ae8-e410-4b67-97bf-df2062aad30a"
      },
      "source": [
        "# Temos apenas os elementos web. Precisamos agora extrair o texto desses elementos\n",
        "resultado"
      ],
      "execution_count": null,
      "outputs": [
        {
          "output_type": "execute_result",
          "data": {
            "text/plain": [
              "[<selenium.webdriver.remote.webelement.WebElement (session=\"593ee86c191d3f48b91b1f4fee0e1199\", element=\"de5fbe43-5fef-447e-944b-e7f7301ee3fc\")>,\n",
              " <selenium.webdriver.remote.webelement.WebElement (session=\"593ee86c191d3f48b91b1f4fee0e1199\", element=\"34bbbe09-4851-45c9-8a16-22bdd2f6a904\")>,\n",
              " <selenium.webdriver.remote.webelement.WebElement (session=\"593ee86c191d3f48b91b1f4fee0e1199\", element=\"df545aa5-7097-4fb1-a224-2caf6c0358aa\")>,\n",
              " <selenium.webdriver.remote.webelement.WebElement (session=\"593ee86c191d3f48b91b1f4fee0e1199\", element=\"1b5a5920-c336-48ed-b7ae-75a226a1f6f6\")>,\n",
              " <selenium.webdriver.remote.webelement.WebElement (session=\"593ee86c191d3f48b91b1f4fee0e1199\", element=\"50145bd5-7d70-4b3f-9796-bc5701e88481\")>,\n",
              " <selenium.webdriver.remote.webelement.WebElement (session=\"593ee86c191d3f48b91b1f4fee0e1199\", element=\"0597e0bb-7c15-498c-ba49-95ce3944559b\")>,\n",
              " <selenium.webdriver.remote.webelement.WebElement (session=\"593ee86c191d3f48b91b1f4fee0e1199\", element=\"37e367fe-78d5-47ed-b539-0b1c88722b37\")>,\n",
              " <selenium.webdriver.remote.webelement.WebElement (session=\"593ee86c191d3f48b91b1f4fee0e1199\", element=\"67d9052d-d1c3-4ab2-abea-615f0bc76c29\")>,\n",
              " <selenium.webdriver.remote.webelement.WebElement (session=\"593ee86c191d3f48b91b1f4fee0e1199\", element=\"6affb35c-f267-477a-bebb-9916647a597a\")>,\n",
              " <selenium.webdriver.remote.webelement.WebElement (session=\"593ee86c191d3f48b91b1f4fee0e1199\", element=\"1c3d8b20-f3d9-4bf3-a98d-9044fa8ae4ee\")>,\n",
              " <selenium.webdriver.remote.webelement.WebElement (session=\"593ee86c191d3f48b91b1f4fee0e1199\", element=\"5aa75ab5-fccd-405f-ba0f-9a7dd1b59e96\")>,\n",
              " <selenium.webdriver.remote.webelement.WebElement (session=\"593ee86c191d3f48b91b1f4fee0e1199\", element=\"b1555770-e50c-425f-983c-d0f7dac7ffa5\")>,\n",
              " <selenium.webdriver.remote.webelement.WebElement (session=\"593ee86c191d3f48b91b1f4fee0e1199\", element=\"a138e6c9-c169-4e21-a16d-ce905897b9d1\")>,\n",
              " <selenium.webdriver.remote.webelement.WebElement (session=\"593ee86c191d3f48b91b1f4fee0e1199\", element=\"99e2f38d-68b4-4623-b1df-43f1d557e789\")>,\n",
              " <selenium.webdriver.remote.webelement.WebElement (session=\"593ee86c191d3f48b91b1f4fee0e1199\", element=\"3a7974c1-e017-415f-88c1-2ecc564780b5\")>]"
            ]
          },
          "metadata": {
            "tags": []
          },
          "execution_count": 11
        }
      ]
    },
    {
      "cell_type": "markdown",
      "metadata": {
        "id": "Y18jA3fdV3oK",
        "colab_type": "text"
      },
      "source": [
        "Agora extraímos os dados do nosso interesse."
      ]
    },
    {
      "cell_type": "code",
      "metadata": {
        "id": "_sv3q8R-V3oL",
        "colab_type": "code",
        "colab": {}
      },
      "source": [
        "# Loop pelos resultados do scraping e extração dos dados nas tags HTML do nosso interesse\n",
        "for vaga in resultado:\n",
        "    \n",
        "    # Primeiro coletamos o elemento HTML interno\n",
        "    result_html = vaga.get_attribute('innerHTML')\n",
        "    \n",
        "    # Fazemos então o parser do código HTML\n",
        "    soup = BeautifulSoup(result_html, 'html.parser')\n",
        "    \n",
        "    # Buscamos as tags para análise. \n",
        "    # Usaremos blocos try/except para evitar erros na execução, no caso de ua informação não estar disponível na vaga\n",
        "    \n",
        "    # Título da vaga\n",
        "    try:\n",
        "        title = soup.find(\"a\", class_ = \"jobtitle\").text.replace('\\n', '')\n",
        "    except:\n",
        "        title = 'None'\n",
        "    \n",
        "    # Localidade\n",
        "    try:\n",
        "        location = soup.find(class_ = \"location\").text\n",
        "    except:\n",
        "        location = 'None'\n",
        "    \n",
        "    # Empresa\n",
        "    try:\n",
        "        company = soup.find(class_ = \"company\").text.replace('\\n', '').strip()\n",
        "    except:\n",
        "        company = 'None'\n",
        "    \n",
        "    # Salário\n",
        "    try:\n",
        "        salary = soup.find(\"a\", class_ = \"salary\").text.replace('\\n', '').strip()\n",
        "    except:\n",
        "        salary = 'None'\n",
        "    \n",
        "    # Tipo de pesquisa (orgânica ou patrocinada)\n",
        "    try:\n",
        "        sponsored = soup.find(\"a\", class_ = \"sponsoredGray\").text\n",
        "        sponsored = \"Sponsored\"\n",
        "    except:\n",
        "        sponsored = 'Organic'\n",
        "        \n",
        "       \n",
        "    # Descrição da vaga\n",
        "    job_desc = soup.find_all(name=\"div\", attrs={\"id\":\"vjs-desc\"})\n",
        "    #job_desc = driver.find_element_by_css_selector('vjs-desc').text\n",
        "    \n",
        "    # Gravamos o resultado em nosso dataframe\n",
        "    dados = dados.append({\"Titulo\":title, \n",
        "                          \"Localidade\":location, \n",
        "                          \"Empresa\":company, \n",
        "                          \"Salario\":salary, \n",
        "                          \"Tipo_Pesquisa\":sponsored, \n",
        "                          \"Desc\":job_desc}, \n",
        "                         ignore_index = True)"
      ],
      "execution_count": null,
      "outputs": []
    },
    {
      "cell_type": "code",
      "metadata": {
        "id": "vUZM9otgV3oT",
        "colab_type": "code",
        "colab": {},
        "outputId": "5408aea6-17e7-4f09-a684-db54222306a3"
      },
      "source": [
        "# Shape\n",
        "dados.shape"
      ],
      "execution_count": null,
      "outputs": [
        {
          "output_type": "execute_result",
          "data": {
            "text/plain": [
              "(30, 6)"
            ]
          },
          "metadata": {
            "tags": []
          },
          "execution_count": 14
        }
      ]
    },
    {
      "cell_type": "code",
      "metadata": {
        "id": "5oqZb7EMV3oX",
        "colab_type": "code",
        "colab": {},
        "outputId": "11a3c7a7-ff02-43d4-c600-a18ded229871"
      },
      "source": [
        "# Visualizamos os dados\n",
        "dados.head()"
      ],
      "execution_count": null,
      "outputs": [
        {
          "output_type": "execute_result",
          "data": {
            "text/html": [
              "<div>\n",
              "<style scoped>\n",
              "    .dataframe tbody tr th:only-of-type {\n",
              "        vertical-align: middle;\n",
              "    }\n",
              "\n",
              "    .dataframe tbody tr th {\n",
              "        vertical-align: top;\n",
              "    }\n",
              "\n",
              "    .dataframe thead th {\n",
              "        text-align: right;\n",
              "    }\n",
              "</style>\n",
              "<table border=\"1\" class=\"dataframe\">\n",
              "  <thead>\n",
              "    <tr style=\"text-align: right;\">\n",
              "      <th></th>\n",
              "      <th>Titulo</th>\n",
              "      <th>Localidade</th>\n",
              "      <th>Empresa</th>\n",
              "      <th>Salario</th>\n",
              "      <th>Tipo_Pesquisa</th>\n",
              "      <th>Desc</th>\n",
              "    </tr>\n",
              "  </thead>\n",
              "  <tbody>\n",
              "    <tr>\n",
              "      <th>0</th>\n",
              "      <td>Data Scientist Pleno</td>\n",
              "      <td>São Paulo, SP</td>\n",
              "      <td>Home to Go</td>\n",
              "      <td>None</td>\n",
              "      <td>Organic</td>\n",
              "      <td>[]</td>\n",
              "    </tr>\n",
              "    <tr>\n",
              "      <th>1</th>\n",
              "      <td>Data Scientist</td>\n",
              "      <td>Hortolândia, SP</td>\n",
              "      <td>IBM</td>\n",
              "      <td>None</td>\n",
              "      <td>Organic</td>\n",
              "      <td>[]</td>\n",
              "    </tr>\n",
              "    <tr>\n",
              "      <th>2</th>\n",
              "      <td>Programme Coordinator (m/f/d) Support to the G...</td>\n",
              "      <td>Brasília, DF</td>\n",
              "      <td>Deutsche Gesellschaft für Internationale Zusam...</td>\n",
              "      <td>None</td>\n",
              "      <td>Organic</td>\n",
              "      <td>[]</td>\n",
              "    </tr>\n",
              "    <tr>\n",
              "      <th>3</th>\n",
              "      <td>Head of Growth</td>\n",
              "      <td>São Paulo, SP</td>\n",
              "      <td>UZZO Pagamentos</td>\n",
              "      <td>None</td>\n",
              "      <td>Organic</td>\n",
              "      <td>[]</td>\n",
              "    </tr>\n",
              "    <tr>\n",
              "      <th>4</th>\n",
              "      <td>Senior Development Coordination Officer, Econo...</td>\n",
              "      <td>Brasília, DF</td>\n",
              "      <td>United Nations</td>\n",
              "      <td>None</td>\n",
              "      <td>Organic</td>\n",
              "      <td>[]</td>\n",
              "    </tr>\n",
              "  </tbody>\n",
              "</table>\n",
              "</div>"
            ],
            "text/plain": [
              "                                              Titulo       Localidade  \\\n",
              "0                               Data Scientist Pleno    São Paulo, SP   \n",
              "1                                     Data Scientist  Hortolândia, SP   \n",
              "2  Programme Coordinator (m/f/d) Support to the G...     Brasília, DF   \n",
              "3                                     Head of Growth    São Paulo, SP   \n",
              "4  Senior Development Coordination Officer, Econo...     Brasília, DF   \n",
              "\n",
              "                                             Empresa Salario Tipo_Pesquisa  \\\n",
              "0                                         Home to Go    None       Organic   \n",
              "1                                                IBM    None       Organic   \n",
              "2  Deutsche Gesellschaft für Internationale Zusam...    None       Organic   \n",
              "3                                    UZZO Pagamentos    None       Organic   \n",
              "4                                     United Nations    None       Organic   \n",
              "\n",
              "  Desc  \n",
              "0   []  \n",
              "1   []  \n",
              "2   []  \n",
              "3   []  \n",
              "4   []  "
            ]
          },
          "metadata": {
            "tags": []
          },
          "execution_count": 15
        }
      ]
    },
    {
      "cell_type": "markdown",
      "metadata": {
        "id": "y-0E283tV3oa",
        "colab_type": "text"
      },
      "source": [
        "Legal. Temos dados para trabalhar! Vamos salvar em disco para não perder os dados ao fechar o Jupyter Notebook."
      ]
    },
    {
      "cell_type": "code",
      "metadata": {
        "id": "uey_RVYtV3ob",
        "colab_type": "code",
        "colab": {}
      },
      "source": [
        "# Salvamos os dados em disco\n",
        "dados.to_csv('dados.csv', encoding = \"utf-8\", index = False)"
      ],
      "execution_count": null,
      "outputs": []
    },
    {
      "cell_type": "markdown",
      "metadata": {
        "id": "Vn6PYtYeV3oh",
        "colab_type": "text"
      },
      "source": [
        "## Análise de Dados"
      ]
    },
    {
      "cell_type": "code",
      "metadata": {
        "id": "DjER2MfWV3oh",
        "colab_type": "code",
        "colab": {}
      },
      "source": [
        "# Carregamos o dataset\n",
        "df = pd.read_csv(\"dados.csv\", encoding = \"utf-8\")"
      ],
      "execution_count": null,
      "outputs": []
    },
    {
      "cell_type": "code",
      "metadata": {
        "id": "rsP8Dgt-V3ok",
        "colab_type": "code",
        "colab": {},
        "outputId": "93e54fe9-4aad-4ac2-8111-14425f34cd1f"
      },
      "source": [
        "# Shape\n",
        "df.shape"
      ],
      "execution_count": null,
      "outputs": [
        {
          "output_type": "execute_result",
          "data": {
            "text/plain": [
              "(30, 6)"
            ]
          },
          "metadata": {
            "tags": []
          },
          "execution_count": 18
        }
      ]
    },
    {
      "cell_type": "code",
      "metadata": {
        "id": "gLu2QcLcV3oq",
        "colab_type": "code",
        "colab": {},
        "outputId": "02e554e1-d741-44ea-871e-796eca981dd8"
      },
      "source": [
        "# Visualiza os dados\n",
        "df.head(10)"
      ],
      "execution_count": null,
      "outputs": [
        {
          "output_type": "execute_result",
          "data": {
            "text/html": [
              "<div>\n",
              "<style scoped>\n",
              "    .dataframe tbody tr th:only-of-type {\n",
              "        vertical-align: middle;\n",
              "    }\n",
              "\n",
              "    .dataframe tbody tr th {\n",
              "        vertical-align: top;\n",
              "    }\n",
              "\n",
              "    .dataframe thead th {\n",
              "        text-align: right;\n",
              "    }\n",
              "</style>\n",
              "<table border=\"1\" class=\"dataframe\">\n",
              "  <thead>\n",
              "    <tr style=\"text-align: right;\">\n",
              "      <th></th>\n",
              "      <th>Titulo</th>\n",
              "      <th>Localidade</th>\n",
              "      <th>Empresa</th>\n",
              "      <th>Salario</th>\n",
              "      <th>Tipo_Pesquisa</th>\n",
              "      <th>Desc</th>\n",
              "    </tr>\n",
              "  </thead>\n",
              "  <tbody>\n",
              "    <tr>\n",
              "      <th>0</th>\n",
              "      <td>Data Scientist Pleno</td>\n",
              "      <td>São Paulo, SP</td>\n",
              "      <td>Home to Go</td>\n",
              "      <td>None</td>\n",
              "      <td>Organic</td>\n",
              "      <td>[]</td>\n",
              "    </tr>\n",
              "    <tr>\n",
              "      <th>1</th>\n",
              "      <td>Data Scientist</td>\n",
              "      <td>Hortolândia, SP</td>\n",
              "      <td>IBM</td>\n",
              "      <td>None</td>\n",
              "      <td>Organic</td>\n",
              "      <td>[]</td>\n",
              "    </tr>\n",
              "    <tr>\n",
              "      <th>2</th>\n",
              "      <td>Programme Coordinator (m/f/d) Support to the G...</td>\n",
              "      <td>Brasília, DF</td>\n",
              "      <td>Deutsche Gesellschaft für Internationale Zusam...</td>\n",
              "      <td>None</td>\n",
              "      <td>Organic</td>\n",
              "      <td>[]</td>\n",
              "    </tr>\n",
              "    <tr>\n",
              "      <th>3</th>\n",
              "      <td>Head of Growth</td>\n",
              "      <td>São Paulo, SP</td>\n",
              "      <td>UZZO Pagamentos</td>\n",
              "      <td>None</td>\n",
              "      <td>Organic</td>\n",
              "      <td>[]</td>\n",
              "    </tr>\n",
              "    <tr>\n",
              "      <th>4</th>\n",
              "      <td>Senior Development Coordination Officer, Econo...</td>\n",
              "      <td>Brasília, DF</td>\n",
              "      <td>United Nations</td>\n",
              "      <td>None</td>\n",
              "      <td>Organic</td>\n",
              "      <td>[]</td>\n",
              "    </tr>\n",
              "    <tr>\n",
              "      <th>5</th>\n",
              "      <td>Jurídico | Estagiário</td>\n",
              "      <td>Rio de Janeiro, RJ</td>\n",
              "      <td>Hurb - Hotel Urbano</td>\n",
              "      <td>None</td>\n",
              "      <td>Organic</td>\n",
              "      <td>[]</td>\n",
              "    </tr>\n",
              "    <tr>\n",
              "      <th>6</th>\n",
              "      <td>Data Science Immersive Instructor</td>\n",
              "      <td>Amazonas</td>\n",
              "      <td>GA Instructor</td>\n",
              "      <td>None</td>\n",
              "      <td>Organic</td>\n",
              "      <td>[]</td>\n",
              "    </tr>\n",
              "    <tr>\n",
              "      <th>7</th>\n",
              "      <td>Estágio - Ciências da Computação/Sistemas de i...</td>\n",
              "      <td>Santo Antônio de Lisboa, SC</td>\n",
              "      <td>IEL/SC</td>\n",
              "      <td>None</td>\n",
              "      <td>Organic</td>\n",
              "      <td>[]</td>\n",
              "    </tr>\n",
              "    <tr>\n",
              "      <th>8</th>\n",
              "      <td>Estágio em Data Science</td>\n",
              "      <td>Florianópolis, SC</td>\n",
              "      <td>Programa de Estágio</td>\n",
              "      <td>None</td>\n",
              "      <td>Organic</td>\n",
              "      <td>[]</td>\n",
              "    </tr>\n",
              "    <tr>\n",
              "      <th>9</th>\n",
              "      <td>Data Scientists</td>\n",
              "      <td>Rio de Janeiro, RJ</td>\n",
              "      <td>Modec Brazil</td>\n",
              "      <td>None</td>\n",
              "      <td>Organic</td>\n",
              "      <td>[]</td>\n",
              "    </tr>\n",
              "  </tbody>\n",
              "</table>\n",
              "</div>"
            ],
            "text/plain": [
              "                                              Titulo  \\\n",
              "0                               Data Scientist Pleno   \n",
              "1                                     Data Scientist   \n",
              "2  Programme Coordinator (m/f/d) Support to the G...   \n",
              "3                                     Head of Growth   \n",
              "4  Senior Development Coordination Officer, Econo...   \n",
              "5                              Jurídico | Estagiário   \n",
              "6                  Data Science Immersive Instructor   \n",
              "7  Estágio - Ciências da Computação/Sistemas de i...   \n",
              "8                            Estágio em Data Science   \n",
              "9                                    Data Scientists   \n",
              "\n",
              "                    Localidade  \\\n",
              "0                São Paulo, SP   \n",
              "1              Hortolândia, SP   \n",
              "2                 Brasília, DF   \n",
              "3                São Paulo, SP   \n",
              "4                 Brasília, DF   \n",
              "5           Rio de Janeiro, RJ   \n",
              "6                     Amazonas   \n",
              "7  Santo Antônio de Lisboa, SC   \n",
              "8            Florianópolis, SC   \n",
              "9           Rio de Janeiro, RJ   \n",
              "\n",
              "                                             Empresa Salario Tipo_Pesquisa  \\\n",
              "0                                         Home to Go    None       Organic   \n",
              "1                                                IBM    None       Organic   \n",
              "2  Deutsche Gesellschaft für Internationale Zusam...    None       Organic   \n",
              "3                                    UZZO Pagamentos    None       Organic   \n",
              "4                                     United Nations    None       Organic   \n",
              "5                                Hurb - Hotel Urbano    None       Organic   \n",
              "6                                      GA Instructor    None       Organic   \n",
              "7                                             IEL/SC    None       Organic   \n",
              "8                                Programa de Estágio    None       Organic   \n",
              "9                                       Modec Brazil    None       Organic   \n",
              "\n",
              "  Desc  \n",
              "0   []  \n",
              "1   []  \n",
              "2   []  \n",
              "3   []  \n",
              "4   []  \n",
              "5   []  \n",
              "6   []  \n",
              "7   []  \n",
              "8   []  \n",
              "9   []  "
            ]
          },
          "metadata": {
            "tags": []
          },
          "execution_count": 19
        }
      ]
    },
    {
      "cell_type": "markdown",
      "metadata": {
        "id": "q4AtWjqRV3oz",
        "colab_type": "text"
      },
      "source": [
        "### Tarefa 1: Qual o tipo de vaga mostrado na pesquisa, orgânica ou patrocinada?"
      ]
    },
    {
      "cell_type": "code",
      "metadata": {
        "id": "bzdyQAVoV3o0",
        "colab_type": "code",
        "colab": {},
        "outputId": "c91f5109-be5a-4b84-ea95-7b7a74ab2e2c"
      },
      "source": [
        "# Vamos contar o total de registros por valor da coluna \"Tipo_Pesquisa\"\n",
        "df[\"Tipo_Pesquisa\"].value_counts()"
      ],
      "execution_count": null,
      "outputs": [
        {
          "output_type": "execute_result",
          "data": {
            "text/plain": [
              "Organic    30\n",
              "Name: Tipo_Pesquisa, dtype: int64"
            ]
          },
          "metadata": {
            "tags": []
          },
          "execution_count": 20
        }
      ]
    },
    {
      "cell_type": "markdown",
      "metadata": {
        "id": "n-uYjevrV3o5",
        "colab_type": "text"
      },
      "source": [
        "Todas as vagas foram orgânicas."
      ]
    },
    {
      "cell_type": "markdown",
      "metadata": {
        "id": "NDk3ztolV3o6",
        "colab_type": "text"
      },
      "source": [
        "### Tarefa 2: Quais empresas tem o maior número de vagas listadas?"
      ]
    },
    {
      "cell_type": "code",
      "metadata": {
        "id": "9KH52NayV3o8",
        "colab_type": "code",
        "colab": {}
      },
      "source": [
        "# Agrupa o dataset por empresa\n",
        "grupo1 = df.groupby(\"Empresa\").count()[\"Titulo\"].sort_values(ascending = False)[:20]"
      ],
      "execution_count": null,
      "outputs": []
    },
    {
      "cell_type": "code",
      "metadata": {
        "id": "8pM3dj8iV3pB",
        "colab_type": "code",
        "colab": {},
        "outputId": "338c2bd1-f32e-4fa2-dcbb-37e5fdbf71c4"
      },
      "source": [
        "# Visualiza os dados\n",
        "grupo1.head()"
      ],
      "execution_count": null,
      "outputs": [
        {
          "output_type": "execute_result",
          "data": {
            "text/plain": [
              "Empresa\n",
              "dunnhumby              2\n",
              "Viridis Energy         2\n",
              "United Nations         2\n",
              "UZZO Pagamentos        2\n",
              "Programa de Estágio    2\n",
              "Name: Titulo, dtype: int64"
            ]
          },
          "metadata": {
            "tags": []
          },
          "execution_count": 22
        }
      ]
    },
    {
      "cell_type": "code",
      "metadata": {
        "id": "7urbQsKiV3pF",
        "colab_type": "code",
        "colab": {},
        "outputId": "71ad82d3-2dea-47c2-bf82-aa57c5351ca2"
      },
      "source": [
        "# Gráfico\n",
        "grupo1.plot(kind = \"bar\", figsize = (18,6), color = \"blue\", rot = 60)"
      ],
      "execution_count": null,
      "outputs": [
        {
          "output_type": "execute_result",
          "data": {
            "text/plain": [
              "<matplotlib.axes._subplots.AxesSubplot at 0x7fef4ae93b10>"
            ]
          },
          "metadata": {
            "tags": []
          },
          "execution_count": 23
        },
        {
          "output_type": "display_data",
          "data": {
            "image/png": "[encoded data removed]",
            "text/plain": [
              "<Figure size 1296x432 with 1 Axes>"
            ]
          },
          "metadata": {
            "tags": [],
            "needs_background": "light"
          }
        }
      ]
    },
    {
      "cell_type": "markdown",
      "metadata": {
        "id": "4qHBew2XV3pL",
        "colab_type": "text"
      },
      "source": [
        "### Tarefa 3: Qual localidade tem o maior número de vagas listadas?"
      ]
    },
    {
      "cell_type": "code",
      "metadata": {
        "id": "FPHsK_RoV3pM",
        "colab_type": "code",
        "colab": {}
      },
      "source": [
        "# Busca localidade com mais vagas\n",
        "grupo2 = df.groupby(\"Localidade\").count()[\"Titulo\"].sort_values(ascending = False)[:20]"
      ],
      "execution_count": null,
      "outputs": []
    },
    {
      "cell_type": "code",
      "metadata": {
        "id": "QdbRNCpaV3pT",
        "colab_type": "code",
        "colab": {},
        "outputId": "82d9d05a-e38e-4ef1-fb31-421a8abb081e"
      },
      "source": [
        "# Visualiza os dados\n",
        "grupo2.head()"
      ],
      "execution_count": null,
      "outputs": [
        {
          "output_type": "execute_result",
          "data": {
            "text/plain": [
              "Localidade\n",
              "São Paulo, SP                  8\n",
              "Rio de Janeiro, RJ             6\n",
              "Brasília, DF                   4\n",
              "Santo Antônio de Lisboa, SC    2\n",
              "Nova Lima, MG                  2\n",
              "Name: Titulo, dtype: int64"
            ]
          },
          "metadata": {
            "tags": []
          },
          "execution_count": 25
        }
      ]
    },
    {
      "cell_type": "code",
      "metadata": {
        "id": "M2kMUffJV3pW",
        "colab_type": "code",
        "colab": {},
        "outputId": "f07839fe-5ef2-4d32-af39-2c1f390c4994"
      },
      "source": [
        "# Gráfico\n",
        "grupo2.plot(kind = \"bar\", figsize = (18,6), color = \"green\", rot = 30)"
      ],
      "execution_count": null,
      "outputs": [
        {
          "output_type": "execute_result",
          "data": {
            "text/plain": [
              "<matplotlib.axes._subplots.AxesSubplot at 0x7fef4aea6810>"
            ]
          },
          "metadata": {
            "tags": []
          },
          "execution_count": 26
        },
        {
          "output_type": "display_data",
          "data": {
            "image/png": "[encoded data removed]",
            "text/plain": [
              "<Figure size 1296x432 with 1 Axes>"
            ]
          },
          "metadata": {
            "tags": [],
            "needs_background": "light"
          }
        }
      ]
    },
    {
      "cell_type": "markdown",
      "metadata": {
        "id": "2vAZzritV3qg",
        "colab_type": "text"
      },
      "source": [
        "# Fim"
      ]
    },
    {
      "cell_type": "markdown",
      "metadata": {
        "id": "nvETGaDKrvNg",
        "colab_type": "text"
      },
      "source": [
        "### #Facebook - Ciência dos Dados - <a href=\"http://facebook.com/cienciadosdadosbr\">facebook.com/cienciadosdadosbr</a>"
      ]
    },
    {
      "cell_type": "markdown",
      "metadata": {
        "colab_type": "text",
        "id": "zYUITqVxWpXq"
      },
      "source": [
        "### #**Telegram** - Scripts e Datasets - Comunidade Telegram <a href=\"https://t.me/cienciadosdados\">https://t.me/cienciadosdados</a>"
      ]
    },
    {
      "cell_type": "markdown",
      "metadata": {
        "colab_type": "text",
        "id": "dHq9XBVcW_yp"
      },
      "source": [
        "### #YouTube - Mais Aulas como essa no YouTube <a href=\"https://www.youtube.com/watch?v=IaIc5oHd3II&t=1569s\">https://www.youtube.com/watch?v=IaIc5oHd3II&t=1569s</a>"
      ]
    },
    {
      "cell_type": "code",
      "metadata": {
        "id": "b3ioYyYqW4FR",
        "colab_type": "code",
        "colab": {
          "base_uri": "https://localhost:8080/",
          "height": 221
        },
        "outputId": "df6f86d6-c92d-4902-d59e-0acc247cdf3f"
      },
      "source": [
        "from IPython.core.display import HTML\n",
        "HTML('<iframe width=\"300\" height=\"200\" src=\"https://www.youtube.com/embed/EbxV4I0BkXk\" frameborder=\"0\" allow=\"accelerometer; autoplay; encrypted-media; gyroscope; picture-in-picture\" allowfullscreen></iframe>')"
      ],
      "execution_count": 5,
      "outputs": [
        {
          "output_type": "execute_result",
          "data": {
            "text/html": [
              "<iframe width=\"300\" height=\"200\" src=\"https://www.youtube.com/embed/EbxV4I0BkXk\" frameborder=\"0\" allow=\"accelerometer; autoplay; encrypted-media; gyroscope; picture-in-picture\" allowfullscreen></iframe>"
            ],
            "text/plain": [
              "<IPython.core.display.HTML object>"
            ]
          },
          "metadata": {
            "tags": []
          },
          "execution_count": 5
        }
      ]
    },
    {
      "cell_type": "code",
      "metadata": {
        "id": "c6a35lkXXEPV",
        "colab_type": "code",
        "colab": {}
      },
      "source": [
        ""
      ],
      "execution_count": null,
      "outputs": []
    }
  ]
}