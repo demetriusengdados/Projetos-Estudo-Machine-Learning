{
  "nbformat": 4,
  "nbformat_minor": 0,
  "metadata": {
    "anaconda-cloud": {},
    "colab": {
      "name": "Dicas e Truques CDD  - Comparação de Modelos.ipynb",
      "provenance": [],
      "collapsed_sections": []
    },
    "kernelspec": {
      "display_name": "Python 3",
      "language": "python",
      "name": "python3"
    },
    "language_info": {
      "codemirror_mode": {
        "name": "ipython",
        "version": 3
      },
      "file_extension": ".py",
      "mimetype": "text/x-python",
      "name": "python",
      "nbconvert_exporter": "python",
      "pygments_lexer": "ipython3",
      "version": "3.7.6"
    }
  },
  "cells": [
    {
      "cell_type": "markdown",
      "metadata": {
        "colab_type": "text",
        "id": "dVC4iR1lKG5Z"
      },
      "source": [
        "# <font color='Purple'>Ciência dos Dados</font>\n",
        "# <font color='blue'>\"Dicas e Truques\" de Ciência de Dados</font>\n",
        "# <font color='blue'>Comparação de Modelos</font>\n",
        "\n",
        "# <font color='black'>SVM / Redes Neurais / KNN</font>"
      ]
    },
    {
      "cell_type": "code",
      "metadata": {
        "id": "TveegZ0D5e92",
        "colab_type": "code",
        "colab": {}
      },
      "source": [
        "# Importação de Pacotes\n",
        "from sklearn.svm import SVC\n",
        "from sklearn.linear_model import Perceptron\n",
        "from sklearn.neighbors import KNeighborsClassifier  # KNN\n",
        "from sklearn.metrics import accuracy_score\n",
        "import numpy as np\n",
        "\n"
      ],
      "execution_count": null,
      "outputs": []
    },
    {
      "cell_type": "code",
      "metadata": {
        "id": "QATXJMpvgMSB",
        "colab_type": "code",
        "colab": {}
      },
      "source": [
        "# Importação dos Dados e Atrubuição das Variáveis de Entrada (Altura/Peso/Idade) e Variável a ser Predita (se é homem ou mulher)\n",
        "X = [[181, 80, 44], [177, 70, 43], [160, 60, 38], [154, 54, 37], [166, 65, 40], [190, 90, 47], [175, 64, 39],\n",
        "     [177, 70, 40], [159, 55, 37], [171, 75, 42], [181, 85, 43]]\n",
        "\n",
        "Y = ['homem', 'homem', 'mulher', 'mulher', 'homem', 'homem', 'mulher', 'mulher', 'mulher', 'homem', 'homem']\n",
        "\n"
      ],
      "execution_count": null,
      "outputs": []
    },
    {
      "cell_type": "code",
      "metadata": {
        "id": "mtsHkmVFgbpG",
        "colab_type": "code",
        "colab": {}
      },
      "source": [
        "# Criando os Classificadores - Os algoritmos \n",
        "# Aqui vamos usar os hyperparâmetros \"default\" dos algorítmos\n",
        "\n",
        "clf_svm = SVC() # Algoritmo SVM\n",
        "clf_perceptron = Perceptron() # Algoritmo Rede Neural\n",
        "clf_KNN = KNeighborsClassifier() # Algoritmo KNN\n",
        "\n"
      ],
      "execution_count": null,
      "outputs": []
    },
    {
      "cell_type": "code",
      "metadata": {
        "id": "B1ZJZ5AXhW1S",
        "colab_type": "code",
        "colab": {}
      },
      "source": [
        "# Treinamento dos Modelos\n",
        "clf_svm.fit(X, Y)\n",
        "\n",
        "clf_perceptron.fit(X, Y)\n",
        "\n",
        "clf_KNN.fit(X, Y)\n",
        "\n"
      ],
      "execution_count": null,
      "outputs": []
    },
    {
      "cell_type": "code",
      "metadata": {
        "id": "gGsPHWerhYhC",
        "colab_type": "code",
        "colab": {
          "base_uri": "https://localhost:8080/",
          "height": 34
        },
        "outputId": "7007b6a5-9bf3-44ba-add4-dc3e3a075912"
      },
      "source": [
        "# Teste dos modelos (como  exemplo vamos usar os mesmos dados, pois são dados fictícios)\n",
        "\n",
        "## Teste do SVM\n",
        "pred_svm = clf_svm.predict(X)\n",
        "\n",
        "acc_svm = accuracy_score(Y, pred_svm) * 100\n",
        "print('Accuracy for SVM: {}'.format(acc_svm))\n",
        "\n"
      ],
      "execution_count": null,
      "outputs": [
        {
          "output_type": "stream",
          "text": [
            "Accuracy for SVM: 54.54545454545454\n"
          ],
          "name": "stdout"
        }
      ]
    },
    {
      "cell_type": "code",
      "metadata": {
        "id": "1dhkT-uKhbYD",
        "colab_type": "code",
        "colab": {}
      },
      "source": [
        "## Teste da Rede Neural\n",
        "pred_per = clf_perceptron.predict(X)\n",
        "\n",
        "acc_per = accuracy_score(Y, pred_per) * 100\n",
        "print('Accuracy for perceptron: {}'.format(acc_per))\n",
        "\n"
      ],
      "execution_count": null,
      "outputs": []
    },
    {
      "cell_type": "code",
      "metadata": {
        "id": "Lv0xGwPghd8v",
        "colab_type": "code",
        "colab": {}
      },
      "source": [
        "## Teste do KNN\n",
        "pred_KNN = clf_KNN.predict(X)\n",
        "\n",
        "acc_KNN = accuracy_score(Y, pred_KNN) * 100\n",
        "print('Accuracy for KNN: {}'.format(acc_KNN))\n",
        "\n"
      ],
      "execution_count": null,
      "outputs": []
    },
    {
      "cell_type": "code",
      "metadata": {
        "id": "N3fVHVgrhfR4",
        "colab_type": "code",
        "colab": {
          "base_uri": "https://localhost:8080/",
          "height": 34
        },
        "outputId": "58e9c298-2a0d-4ac0-8834-7ff2e88ec4b0"
      },
      "source": [
        "# Calcular o Melhor modelo Classificador\n",
        "index = np.argmax([acc_svm, acc_per, acc_KNN])\n",
        "\n",
        "classifiers = {0: 'SVM', 1: 'Perceptron', 2: 'KNN'}\n",
        "print('O melhor modelo de classificação de Gênero é o {}'.format(classifiers[index]))"
      ],
      "execution_count": null,
      "outputs": [
        {
          "output_type": "stream",
          "text": [
            "O melhor modelo de classificação de Gênero é o KNN\n"
          ],
          "name": "stdout"
        }
      ]
    },
    {
      "cell_type": "markdown",
      "metadata": {
        "colab_type": "text",
        "id": "XTRc7NjBKG65"
      },
      "source": [
        "# Fim"
      ]
    },
    {
      "cell_type": "markdown",
      "metadata": {
        "colab_type": "text",
        "id": "_fHqFSvWe94c"
      },
      "source": [
        "## Valeu!"
      ]
    },
    {
      "cell_type": "markdown",
      "metadata": {
        "colab_type": "text",
        "id": "JCGIEsSrKG66"
      },
      "source": [
        "### #Facebook - Ciencia dos Dados <a href=\"http://facebook.com/cienciadosdadosbr\">facebook.com/cienciadosdadosbr</a>"
      ]
    },
    {
      "cell_type": "markdown",
      "metadata": {
        "colab_type": "text",
        "id": "lHRHbHwmfFEy"
      },
      "source": [
        "### #**Telegram** - Scripts e Datasets - Comunidade Telegram <a href=\"https://t.me/cienciadosdadosraiz\">https://t.me/cienciadosdadosraiz</a>"
      ]
    },
    {
      "cell_type": "markdown",
      "metadata": {
        "colab_type": "text",
        "id": "ThxYRK6DfJ3f"
      },
      "source": [
        "### #YouTube - Mais Aulas como essa no YouTube <a href=\"https://www.youtube.com/watch?v=IaIc5oHd3II&t=1569s\">https://www.youtube.com/watch?v=IaIc5oHd3II&t=1569s</a>"
      ]
    },
    {
      "cell_type": "code",
      "metadata": {
        "id": "_pg8zEm-Nv6Y",
        "colab_type": "code",
        "colab": {
          "base_uri": "https://localhost:8080/",
          "height": 221
        },
        "outputId": "2904fecb-c15b-45cb-b1b5-e64d694deb7e"
      },
      "source": [
        "from IPython.core.display import HTML\n",
        "HTML('<iframe width=\"380\" height=\"200\" src=\"https://www.youtube.com/embed/q2GnfBLgcio\" frameborder=\"0\" allow=\"accelerometer; autoplay; encrypted-media; gyroscope; picture-in-picture\" allowfullscreen></iframe>')"
      ],
      "execution_count": null,
      "outputs": [
        {
          "output_type": "execute_result",
          "data": {
            "text/html": [
              "<iframe width=\"380\" height=\"200\" src=\"https://www.youtube.com/embed/q2GnfBLgcio\" frameborder=\"0\" allow=\"accelerometer; autoplay; encrypted-media; gyroscope; picture-in-picture\" allowfullscreen></iframe>"
            ],
            "text/plain": [
              "<IPython.core.display.HTML object>"
            ]
          },
          "metadata": {
            "tags": []
          },
          "execution_count": 19
        }
      ]
    }
  ]
}