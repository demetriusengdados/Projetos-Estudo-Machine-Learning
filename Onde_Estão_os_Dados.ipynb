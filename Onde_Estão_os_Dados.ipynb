{
  "nbformat": 4,
  "nbformat_minor": 0,
  "metadata": {
    "anaconda-cloud": {},
    "colab": {
      "name": "Onde Estão os Dados",
      "provenance": [],
      "collapsed_sections": []
    },
    "kernelspec": {
      "display_name": "Python 3",
      "language": "python",
      "name": "python3"
    },
    "language_info": {
      "codemirror_mode": {
        "name": "ipython",
        "version": 3
      },
      "file_extension": ".py",
      "mimetype": "text/x-python",
      "name": "python",
      "nbconvert_exporter": "python",
      "pygments_lexer": "ipython3",
      "version": "3.7.6"
    }
  },
  "cells": [
    {
      "cell_type": "markdown",
      "metadata": {
        "colab_type": "text",
        "id": "Jw64jMex7qIc"
      },
      "source": [
        "![alt text](https://encrypted-tbn0.gstatic.com/images?q=tbn%3AANd9GcTK4gQ9nhwHHaSXMHpeggWg7twwMCgb877smkRmtkmDeDoGF9Z6&usqp=CAU)"
      ]
    },
    {
      "cell_type": "markdown",
      "metadata": {
        "colab_type": "text",
        "id": "dVC4iR1lKG5Z"
      },
      "source": [
        "# <font color='Green'> Dicas e Truques de Ciência de Dados</font>\n",
        "## <font color='GREY'>Onde encontrar dados para seu Projeto</font>\n",
        "\n"
      ]
    },
    {
      "cell_type": "code",
      "metadata": {
        "id": "mLUd6DyV_O--",
        "colab_type": "code",
        "colab": {}
      },
      "source": [
        "# Instalar Profiling\n",
        "!pip install -U pandas-profiling"
      ],
      "execution_count": null,
      "outputs": []
    },
    {
      "cell_type": "code",
      "metadata": {
        "id": "nlzCsTBK_xwL",
        "colab_type": "code",
        "colab": {}
      },
      "source": [
        "# Importando os dados\n",
        "import pandas as pd\n",
        "df = pd.read_csv('/content/adult.data')"
      ],
      "execution_count": null,
      "outputs": []
    },
    {
      "cell_type": "code",
      "metadata": {
        "id": "zJeJyX8-Hme4",
        "colab_type": "code",
        "colab": {}
      },
      "source": [
        "# Análise Exploratória com Profiling\n",
        "from pandas_profiling import ProfileReport\n",
        "profile = ProfileReport(df, title='Relatório- Base de Dados',html={'style':{'full_width':True}})\n",
        "profile.to_notebook_iframe()\n",
        "profile.to_file(output_file=\"Relatório- Base de Dados.html\")"
      ],
      "execution_count": null,
      "outputs": []
    },
    {
      "cell_type": "markdown",
      "metadata": {
        "id": "DYjU5Gki9Sum",
        "colab_type": "text"
      },
      "source": [
        "# UCI"
      ]
    },
    {
      "cell_type": "markdown",
      "metadata": {
        "id": "fmGyC4gk_2fO",
        "colab_type": "text"
      },
      "source": [
        "Atualmente, mantemos 557 conjuntos de dados como um serviço para a comunidade de aprendizado de máquina. Você pode visualizar todos os conjuntos de dados por meio de nossa interface pesquisável. Para uma visão geral do Repositório, visite nossa página Sobre. Para obter informações sobre como citar conjuntos de dados em publicações, leia nossa política de citações. Se você deseja doar um conjunto de dados, consulte nossa política de doações. Para qualquer outra dúvida, sinta-se à vontade para entrar em contato com os bibliotecários do Repositório."
      ]
    },
    {
      "cell_type": "markdown",
      "metadata": {
        "id": "qWLT31nzqP9k",
        "colab_type": "text"
      },
      "source": [
        "https://archive.ics.uci.edu/ml/datasets.php"
      ]
    },
    {
      "cell_type": "markdown",
      "metadata": {
        "id": "hdmauIwe5P4I",
        "colab_type": "text"
      },
      "source": [
        "# KAGGLE"
      ]
    },
    {
      "cell_type": "markdown",
      "metadata": {
        "id": "k5x3fov95ZWI",
        "colab_type": "text"
      },
      "source": [
        "Esse site hospeda competições de Machine Learning inclusive com premiação monetária. "
      ]
    },
    {
      "cell_type": "markdown",
      "metadata": {
        "id": "RyVCh74j5SwR",
        "colab_type": "text"
      },
      "source": [
        "https://www.kaggle.com/"
      ]
    },
    {
      "cell_type": "markdown",
      "metadata": {
        "id": "Bd8roFQC6A1N",
        "colab_type": "text"
      },
      "source": [
        "# Scikit-Learn"
      ]
    },
    {
      "cell_type": "markdown",
      "metadata": {
        "id": "k16QB1nV_w2A",
        "colab_type": "text"
      },
      "source": [
        "É uma biblioteca de aprendizado de máquina de código aberto que oferece suporte ao aprendizado supervisionado e não supervisionado. Ele também fornece várias ferramentas para ajuste de modelo, pré-processamento de dados, seleção e avaliação de modelo e muitos outros utilitários."
      ]
    },
    {
      "cell_type": "markdown",
      "metadata": {
        "id": "zxWA5RNn61PV",
        "colab_type": "text"
      },
      "source": [
        "https://scikit-learn.org/stable/modules/classes.html#module-sklearn.datasets"
      ]
    },
    {
      "cell_type": "code",
      "metadata": {
        "id": "oGjNNd7655Na",
        "colab_type": "code",
        "colab": {}
      },
      "source": [
        "from sklearn.datasets import load_boston\n",
        "df= load_boston()\n",
        "df.target"
      ],
      "execution_count": null,
      "outputs": []
    },
    {
      "cell_type": "markdown",
      "metadata": {
        "id": "0g4KX3st_VvW",
        "colab_type": "text"
      },
      "source": [
        "# Dados.gov.br"
      ]
    },
    {
      "cell_type": "markdown",
      "metadata": {
        "id": "-2FNQkJz_h4I",
        "colab_type": "text"
      },
      "source": [
        "Datasets sobre diferentes áreas e setores do Brasil, de transportes a saúde. Além de disponibilizar o arquivo em diferentes formatos — desde PDF até XML — você consegue visualizar os dados direto do site e ter acesso a um dicionário de dados explicando todo o conteúdo do arquivo."
      ]
    },
    {
      "cell_type": "markdown",
      "metadata": {
        "id": "ZVuIaOJQ_XQp",
        "colab_type": "text"
      },
      "source": [
        "http://dados.gov.br/"
      ]
    },
    {
      "cell_type": "markdown",
      "metadata": {
        "colab_type": "text",
        "id": "XTRc7NjBKG65"
      },
      "source": [
        "# Fim"
      ]
    },
    {
      "cell_type": "markdown",
      "metadata": {
        "colab_type": "text",
        "id": "_fHqFSvWe94c"
      },
      "source": [
        "## Valeu!"
      ]
    },
    {
      "cell_type": "markdown",
      "metadata": {
        "id": "mZVCagpZvZfE",
        "colab_type": "text"
      },
      "source": [
        "![alt text](https://encrypted-tbn0.gstatic.com/images?q=tbn%3AANd9GcTK4gQ9nhwHHaSXMHpeggWg7twwMCgb877smkRmtkmDeDoGF9Z6&usqp=CAU)"
      ]
    },
    {
      "cell_type": "markdown",
      "metadata": {
        "colab_type": "text",
        "id": "JCGIEsSrKG66"
      },
      "source": [
        "### #Facebook - Ciencia dos Dados <a href=\"http://facebook.com/cienciadosdadosbr\">facebook.com/cienciadosdadosbr</a>"
      ]
    },
    {
      "cell_type": "markdown",
      "metadata": {
        "colab_type": "text",
        "id": "2r1o8LDDzj16"
      },
      "source": [
        "### #Instagram - Ciencia dos Dados <a href=\"http://instagram.com/cienciadosdados\">instagram.com/cienciadosdados</a>"
      ]
    },
    {
      "cell_type": "markdown",
      "metadata": {
        "colab_type": "text",
        "id": "lHRHbHwmfFEy"
      },
      "source": [
        "### #**Telegram** - Scripts e Datasets - Comunidade Telegram <a href=\"https://t.me/cienciadosdadosraiz\">https://t.me/cienciadosdadosraiz</a>"
      ]
    },
    {
      "cell_type": "markdown",
      "metadata": {
        "colab_type": "text",
        "id": "ThxYRK6DfJ3f"
      },
      "source": [
        "### #YouTube - Mais Aulas como essa no YouTube <a href=\"https://www.youtube.com/watch?v=IaIc5oHd3II&t=1569s\">https://www.youtube.com/watch?v=IaIc5oHd3II&t=1569s</a>"
      ]
    },
    {
      "cell_type": "markdown",
      "metadata": {
        "colab_type": "text",
        "id": "2RhZt67dz5Ea"
      },
      "source": [
        "### #Portal Gratuito - Ciencia dos Dados <a href=\"http://cienciadosdados.com\">cienciadosdados.com</a>"
      ]
    },
    {
      "cell_type": "code",
      "metadata": {
        "id": "_pg8zEm-Nv6Y",
        "colab_type": "code",
        "colab": {
          "base_uri": "https://localhost:8080/",
          "height": 221
        },
        "outputId": "d0ae8bf2-2845-4cf1-c13e-ef76a8fda069"
      },
      "source": [
        "from IPython.core.display import HTML\n",
        "HTML('<iframe width=\"380\" height=\"200\" src=\"https://www.youtube.com/embed/KCIkclOoh4Y\" frameborder=\"0\" allow=\"accelerometer; autoplay; encrypted-media; gyroscope; picture-in-picture\" allowfullscreen></iframe>')"
      ],
      "execution_count": null,
      "outputs": [
        {
          "output_type": "execute_result",
          "data": {
            "text/html": [
              "<iframe width=\"380\" height=\"200\" src=\"https://www.youtube.com/embed/KCIkclOoh4Y\" frameborder=\"0\" allow=\"accelerometer; autoplay; encrypted-media; gyroscope; picture-in-picture\" allowfullscreen></iframe>"
            ],
            "text/plain": [
              "<IPython.core.display.HTML object>"
            ]
          },
          "metadata": {
            "tags": []
          },
          "execution_count": 13
        }
      ]
    },
    {
      "cell_type": "code",
      "metadata": {
        "id": "6wjf0Gk2BkTE",
        "colab_type": "code",
        "colab": {}
      },
      "source": [
        ""
      ],
      "execution_count": null,
      "outputs": []
    }
  ]
}