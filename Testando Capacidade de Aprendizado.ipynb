{
 "cells": [
  {
   "cell_type": "markdown",
   "metadata": {},
   "source": [
    "O jeito mais simples de evitar o overfiting é reduzindo o tamanho do modelo, ou seja reduzindo o número de \n",
    "parâmetros (isso é determinado pela quantidade de camadas e neurônios em cada uma delas).\n",
    "\n",
    "Em Deep Learning, isso é chamado de capacidade de modelo.\n",
    "\n",
    "Mais parâmetros significa maior capacidade de memorização e mais facilidade em mapear amostras de treino e \n",
    "seus targets, contudo, perder poder de generalização, causando Overfiting.\n",
    "\n",
    "Poucos parâmetros também são um problema, aumentando os erros das previsões, tornando o modelo sem utilidade."
   ]
  },
  {
   "cell_type": "markdown",
   "metadata": {},
   "source": [
    "Vamos investigar como o aumento do número de nós(neurônios) pode impactar a capacidade de um modelo de redes neurais; Usaremos o sklearn.datasets.make_blobs para criar um dataste fake. Esse dataset terá 1000 amostras, com 100 features cada."
   ]
  },
  {
   "cell_type": "code",
   "execution_count": 19,
   "metadata": {},
   "outputs": [],
   "source": [
    "#prepare multiclass classification dataset\n",
    "def create_dataset():\n",
    "    #Gerar um dataset 2d para classificação\n",
    "    X, y = make_blobs(n_samples=1000, centers=20, n_features=100, cluster_std=2,\n",
    "                     random_state=2)\n",
    "    #one hot encode output\n",
    "    y = to_categorical(y)\n",
    "    #Dividir o dataset em treino e teste\n",
    "    n_train = 500\n",
    "    trainX, testX = X[:n_train, :], X[n_train:, :]\n",
    "    trainy, testy = y[:n_train, :], y[n_train:]\n",
    "    return trainX, trainy, testX, testy"
   ]
  },
  {
   "cell_type": "code",
   "execution_count": 20,
   "metadata": {},
   "outputs": [],
   "source": [
    "#Treina o modelo com um dado número de nós, retorna a acuracy para o conjunto de teste\n",
    "\n",
    "def evaluate_model(n_nodes, trainX, trainy, testX, testy):\n",
    "    #configura o modelo baseado nos dados\n",
    "    n_input, n_classes = trainX.shape[1], testy.shape[1]\n",
    "    #define a arquitetura do modelo\n",
    "    modelo = Sequential()\n",
    "    model.add(Dense(n_nodes, input_dim=n_input,activation='relu',\n",
    "                    kernel_initializer='he_uniform'))\n",
    "    model.add(Dense(n_classes, activation='softmax'))\n",
    "    #compila o modelo\n",
    "    op = SGD(lr=0.01,momentum=0.9)\n",
    "    model.compile(loss='categorical_crossentropy', optimizer=opt, metrics=['accuracy'])\n",
    "    #treina o modelo\n",
    "    history = model.fit(trainX, trainy, epochs=100, verbose=0)\n",
    "    #avalia o modelo com dados de teste\n",
    "    _, test_acc = model.evaluate(testX, testy, verbose=0)\n",
    "    return history, test_acc"
   ]
  },
  {
   "cell_type": "markdown",
   "metadata": {},
   "source": [
    "Criamos uma função para avaliar o modelo, utilizamos uma rede neural com somente uma camada Densa"
   ]
  },
  {
   "cell_type": "code",
   "execution_count": 21,
   "metadata": {},
   "outputs": [
    {
     "ename": "NameError",
     "evalue": "name 'trainX' is not defined",
     "output_type": "error",
     "traceback": [
      "\u001b[0;31m---------------------------------------------------------------------------\u001b[0m",
      "\u001b[0;31mNameError\u001b[0m                                 Traceback (most recent call last)",
      "\u001b[0;32m<ipython-input-21-0c1e5eed7749>\u001b[0m in \u001b[0;36m<module>\u001b[0;34m\u001b[0m\n\u001b[1;32m      3\u001b[0m \u001b[0;32mfor\u001b[0m \u001b[0mn_nodes\u001b[0m \u001b[0;32min\u001b[0m \u001b[0mnum_nodes\u001b[0m\u001b[0;34m:\u001b[0m\u001b[0;34m\u001b[0m\u001b[0;34m\u001b[0m\u001b[0m\n\u001b[1;32m      4\u001b[0m     \u001b[0;31m#Avalia o modelo dado o número de nós\u001b[0m\u001b[0;34m\u001b[0m\u001b[0;34m\u001b[0m\u001b[0;34m\u001b[0m\u001b[0m\n\u001b[0;32m----> 5\u001b[0;31m     \u001b[0mhistory\u001b[0m\u001b[0;34m,\u001b[0m \u001b[0mresult\u001b[0m \u001b[0;34m=\u001b[0m \u001b[0mevaluate_model\u001b[0m\u001b[0;34m(\u001b[0m\u001b[0mn_nodes\u001b[0m\u001b[0;34m,\u001b[0m \u001b[0mtrainX\u001b[0m\u001b[0;34m,\u001b[0m \u001b[0mtrainy\u001b[0m\u001b[0;34m,\u001b[0m \u001b[0mtestX\u001b[0m\u001b[0;34m,\u001b[0m \u001b[0mtesty\u001b[0m\u001b[0;34m)\u001b[0m\u001b[0;34m\u001b[0m\u001b[0;34m\u001b[0m\u001b[0m\n\u001b[0m\u001b[1;32m      6\u001b[0m     \u001b[0;31m#Sumariza a accuracy do teste\u001b[0m\u001b[0;34m\u001b[0m\u001b[0;34m\u001b[0m\u001b[0;34m\u001b[0m\u001b[0m\n\u001b[1;32m      7\u001b[0m     \u001b[0mprint\u001b[0m\u001b[0;34m(\u001b[0m\u001b[0;34m'nodes=%d: %.3f'\u001b[0m \u001b[0;34m%\u001b[0m \u001b[0;34m(\u001b[0m\u001b[0mn_nodes\u001b[0m\u001b[0;34m,\u001b[0m \u001b[0mresult\u001b[0m\u001b[0;34m)\u001b[0m\u001b[0;34m)\u001b[0m\u001b[0;34m\u001b[0m\u001b[0;34m\u001b[0m\u001b[0m\n",
      "\u001b[0;31mNameError\u001b[0m: name 'trainX' is not defined"
     ]
    }
   ],
   "source": [
    "#Avalia o modelo e plota a curva de aprendizagem\n",
    "num_nodes = [1, 2, 3, 4, 8, 16, 32, 64]\n",
    "for n_nodes in num_nodes:\n",
    "    #Avalia o modelo dado o número de nós\n",
    "    history, result = evaluate_model(n_nodes, trainX, trainy, testX, testy)\n",
    "    #Sumariza a accuracy do teste\n",
    "    print('nodes=%d: %.3f' % (n_nodes, result))\n",
    "    #plota a curva de aprendizagem\n",
    "    pyplot.plot(history.history['loss'], label=str(n_nodes))\n",
    "#Mostra o plot\n",
    "pyplot.legend()\n",
    "pyplot.show()"
   ]
  },
  {
   "cell_type": "markdown",
   "metadata": {},
   "source": [
    "O aumento do número de nós ajuda a reduzir o erro e aumentar a accuracy. Mas observe que acima de 16 nós temos overfiting."
   ]
  },
  {
   "cell_type": "markdown",
   "metadata": {},
   "source": [
    "Realizamos o mesmo teste com o dataset MNIST fashion, para detecção de obejtos."
   ]
  },
  {
   "cell_type": "code",
   "execution_count": 23,
   "metadata": {},
   "outputs": [
    {
     "name": "stdout",
     "output_type": "stream",
     "text": [
      "Downloading data from https://storage.googleapis.com/tensorflow/tf-keras-datasets/train-labels-idx1-ubyte.gz\n",
      "32768/29515 [=================================] - 0s 3us/step\n",
      "Downloading data from https://storage.googleapis.com/tensorflow/tf-keras-datasets/train-images-idx3-ubyte.gz\n",
      "26427392/26421880 [==============================] - 17s 1us/step\n",
      "Downloading data from https://storage.googleapis.com/tensorflow/tf-keras-datasets/t10k-labels-idx1-ubyte.gz\n",
      "8192/5148 [===============================================] - 0s 0us/step\n",
      "Downloading data from https://storage.googleapis.com/tensorflow/tf-keras-datasets/t10k-images-idx3-ubyte.gz\n",
      "4423680/4422102 [==============================] - 3s 1us/step\n"
     ]
    }
   ],
   "source": [
    "import tensorflow as tf\n",
    "mnist = tf.keras.datasets.fashion_mnist\n",
    "(training_images, training_labels), (test_images, test_labels) = mnist.load_data()\n",
    "training_images = training_images / 255.0\n",
    "test_iamges = test_images / 255.0\n",
    "\n",
    "def evaluate_model(n_nodes, trainX, trainy, testX, testy):\n",
    "    n_input, n_classes = trainX.shape[0], testy,shape[0]\n",
    "    model = Sequential()\n",
    "    model = Sequential([tf.keras.layers.Flatten(),\n",
    "                        Dense(n_nodes, activation = tf.nn.relu),\n",
    "                        Dense(10, activation=tf.nn.softmax)])\n",
    "    model.compile(optimizer = tf.optimizers.Adam(), loss = 'sparse_categorical_crossentropy',\n",
    "                  metrics=['accuracy'])\n",
    "    history = model.fit(training_images, training_labels, epochs=5, verbose=0)\n",
    "    _, test_acc = model.evaluate(test_iamges, test_labels)\n",
    "    return history, test_acc\n",
    "                  \n",
    "                  "
   ]
  },
  {
   "cell_type": "markdown",
   "metadata": {},
   "source": [
    "Testamos com somente 5 épocas e com um número maior de nós."
   ]
  },
  {
   "cell_type": "code",
   "execution_count": 24,
   "metadata": {},
   "outputs": [
    {
     "ename": "NameError",
     "evalue": "name 'shape' is not defined",
     "output_type": "error",
     "traceback": [
      "\u001b[0;31m---------------------------------------------------------------------------\u001b[0m",
      "\u001b[0;31mNameError\u001b[0m                                 Traceback (most recent call last)",
      "\u001b[0;32m<ipython-input-24-fb62aab5db71>\u001b[0m in \u001b[0;36m<module>\u001b[0;34m\u001b[0m\n\u001b[1;32m      2\u001b[0m \u001b[0;34m\u001b[0m\u001b[0m\n\u001b[1;32m      3\u001b[0m \u001b[0;32mfor\u001b[0m \u001b[0mn_nodes\u001b[0m \u001b[0;32min\u001b[0m \u001b[0mnum_nodes\u001b[0m\u001b[0;34m:\u001b[0m\u001b[0;34m\u001b[0m\u001b[0;34m\u001b[0m\u001b[0m\n\u001b[0;32m----> 4\u001b[0;31m     history, result = evaluate_model(n_nodes, training_images, \n\u001b[0m\u001b[1;32m      5\u001b[0m                                     training_labels, test_images, test_labels)\n\u001b[1;32m      6\u001b[0m     \u001b[0mprint\u001b[0m\u001b[0;34m(\u001b[0m\u001b[0;34m'nodes=%d: %.3f'\u001b[0m \u001b[0;34m%\u001b[0m \u001b[0;34m(\u001b[0m\u001b[0mn_nodes\u001b[0m\u001b[0;34m,\u001b[0m \u001b[0mresult\u001b[0m\u001b[0;34m)\u001b[0m\u001b[0;34m)\u001b[0m\u001b[0;34m\u001b[0m\u001b[0;34m\u001b[0m\u001b[0m\n",
      "\u001b[0;32m<ipython-input-23-4635029a3f87>\u001b[0m in \u001b[0;36mevaluate_model\u001b[0;34m(n_nodes, trainX, trainy, testX, testy)\u001b[0m\n\u001b[1;32m      6\u001b[0m \u001b[0;34m\u001b[0m\u001b[0m\n\u001b[1;32m      7\u001b[0m \u001b[0;32mdef\u001b[0m \u001b[0mevaluate_model\u001b[0m\u001b[0;34m(\u001b[0m\u001b[0mn_nodes\u001b[0m\u001b[0;34m,\u001b[0m \u001b[0mtrainX\u001b[0m\u001b[0;34m,\u001b[0m \u001b[0mtrainy\u001b[0m\u001b[0;34m,\u001b[0m \u001b[0mtestX\u001b[0m\u001b[0;34m,\u001b[0m \u001b[0mtesty\u001b[0m\u001b[0;34m)\u001b[0m\u001b[0;34m:\u001b[0m\u001b[0;34m\u001b[0m\u001b[0;34m\u001b[0m\u001b[0m\n\u001b[0;32m----> 8\u001b[0;31m     \u001b[0mn_input\u001b[0m\u001b[0;34m,\u001b[0m \u001b[0mn_classes\u001b[0m \u001b[0;34m=\u001b[0m \u001b[0mtrainX\u001b[0m\u001b[0;34m.\u001b[0m\u001b[0mshape\u001b[0m\u001b[0;34m[\u001b[0m\u001b[0;36m0\u001b[0m\u001b[0;34m]\u001b[0m\u001b[0;34m,\u001b[0m \u001b[0mtesty\u001b[0m\u001b[0;34m,\u001b[0m\u001b[0mshape\u001b[0m\u001b[0;34m[\u001b[0m\u001b[0;36m0\u001b[0m\u001b[0;34m]\u001b[0m\u001b[0;34m\u001b[0m\u001b[0;34m\u001b[0m\u001b[0m\n\u001b[0m\u001b[1;32m      9\u001b[0m     \u001b[0mmodel\u001b[0m \u001b[0;34m=\u001b[0m \u001b[0mSequential\u001b[0m\u001b[0;34m(\u001b[0m\u001b[0;34m)\u001b[0m\u001b[0;34m\u001b[0m\u001b[0;34m\u001b[0m\u001b[0m\n\u001b[1;32m     10\u001b[0m     model = Sequential([tf.keras.layers.Flatten(),\n",
      "\u001b[0;31mNameError\u001b[0m: name 'shape' is not defined"
     ]
    }
   ],
   "source": [
    "num_nodes = [16, 32, 64, 128, 256, 512, 1024, 2048]\n",
    "\n",
    "for n_nodes in num_nodes:\n",
    "    history, result = evaluate_model(n_nodes, training_images, \n",
    "                                    training_labels, test_images, test_labels)\n",
    "    print('nodes=%d: %.3f' % (n_nodes, result))\n",
    "    pyplot.plot(history.history['loss'], label=str(n_nodes))\n",
    "pyplot.legend()\n",
    "pyplot.show()"
   ]
  },
  {
   "cell_type": "markdown",
   "metadata": {},
   "source": [
    "Observamos que há ganhos até o número de 256 neurônios. Após isso o resultado não melhora mais. Com essa análise podemos considerar que não há vantagem em aumentar o número de nós para mais de 256. Deixaria o modelo mais lento para treinar e causaria overfitting."
   ]
  }
 ],
 "metadata": {
  "kernelspec": {
   "display_name": "Python 3",
   "language": "python",
   "name": "python3"
  },
  "language_info": {
   "codemirror_mode": {
    "name": "ipython",
    "version": 3
   },
   "file_extension": ".py",
   "mimetype": "text/x-python",
   "name": "python",
   "nbconvert_exporter": "python",
   "pygments_lexer": "ipython3",
   "version": "3.8.3"
  }
 },
 "nbformat": 4,
 "nbformat_minor": 4
}
