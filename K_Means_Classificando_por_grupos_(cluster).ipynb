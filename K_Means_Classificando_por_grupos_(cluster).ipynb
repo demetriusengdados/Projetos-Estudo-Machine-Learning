{
  "nbformat": 4,
  "nbformat_minor": 0,
  "metadata": {
    "anaconda-cloud": {},
    "kernelspec": {
      "display_name": "Python 3",
      "language": "python",
      "name": "python3"
    },
    "language_info": {
      "codemirror_mode": {
        "name": "ipython",
        "version": 3
      },
      "file_extension": ".py",
      "mimetype": "text/x-python",
      "name": "python",
      "nbconvert_exporter": "python",
      "pygments_lexer": "ipython3",
      "version": "3.7.4"
    },
    "colab": {
      "name": "K-Means: Classificando por grupos (cluster).ipynb",
      "provenance": []
    }
  },
  "cells": [
    {
      "cell_type": "markdown",
      "metadata": {
        "id": "q6fPA3IGEOZe",
        "colab_type": "text"
      },
      "source": [
        "# <font color='Grey'>Ciência dos Dados - Machine Learning</font>\n",
        "\n",
        "## <font color='blue'> Classificando clientes nos respectivos grupos (Clusters)</font>"
      ]
    },
    {
      "cell_type": "markdown",
      "metadata": {
        "id": "HNj-UebZEOZf",
        "colab_type": "text"
      },
      "source": [
        "## Kmeans: Um algoritmo de aprendizagem não supervisionada (quando não se sabe qual é a saída...)"
      ]
    },
    {
      "cell_type": "markdown",
      "metadata": {
        "id": "VG1xxA99EOZg",
        "colab_type": "text"
      },
      "source": [
        "Na aprendizagem não supervisionada, os dados não possuem um label e cabe ao algoritmo descobrir automaticamente como os dados se agrupam. Isso é feito pelas medidas de distância dos pontos de dados para os centróides. Não há uma classificação final e cabe a você definir o que cada cluster representa, a partir da observação do resultado do algoritmo. Abaixo um exemplo de código sobre como realizar essa classificação a partir da saída do algoritmo.\n"
      ]
    },
    {
      "cell_type": "code",
      "metadata": {
        "id": "BdcbB0qVEOZi",
        "colab_type": "code",
        "colab": {}
      },
      "source": [
        "# Imports\n",
        "import pandas as pd\n",
        "from sklearn.datasets import load_iris\n",
        "from sklearn.cluster import KMeans\n",
        "from sklearn.decomposition import PCA\n",
        "import pylab as pl"
      ],
      "execution_count": 2,
      "outputs": []
    },
    {
      "cell_type": "code",
      "metadata": {
        "id": "izHG87hDEOZn",
        "colab_type": "code",
        "colab": {}
      },
      "source": [
        "# Carregando o dataset\n",
        "iris = load_iris()"
      ],
      "execution_count": 3,
      "outputs": []
    },
    {
      "cell_type": "code",
      "metadata": {
        "id": "M4Ixa791EOZs",
        "colab_type": "code",
        "colab": {}
      },
      "source": [
        "# Visualizando todo o conteúdo\n",
        "# Perceba que os dados possuem apenas atributos de entrada e não possuem classificação como no dataset iris original\n",
        "# https://archive.ics.uci.edu/ml/datasets/Iris\n",
        "iris"
      ],
      "execution_count": null,
      "outputs": []
    },
    {
      "cell_type": "code",
      "metadata": {
        "id": "cZfK7BWoEOZy",
        "colab_type": "code",
        "colab": {}
      },
      "source": [
        "# Visualizando o tipo de objeto dos dados\n",
        "type(iris.data)"
      ],
      "execution_count": null,
      "outputs": []
    },
    {
      "cell_type": "code",
      "metadata": {
        "id": "1SXxhoaaEOZ2",
        "colab_type": "code",
        "colab": {}
      },
      "source": [
        "# Visualizando as 20 primeiras linhas\n",
        "iris.data[1:20,]"
      ],
      "execution_count": null,
      "outputs": []
    },
    {
      "cell_type": "code",
      "metadata": {
        "id": "RGqWI-1ZEOZ8",
        "colab_type": "code",
        "colab": {}
      },
      "source": [
        "# Criando o modelo\n",
        "kmeans = KMeans(n_clusters = 3, random_state = 111)\n",
        "kmeans.fit(iris.data)"
      ],
      "execution_count": null,
      "outputs": []
    },
    {
      "cell_type": "code",
      "metadata": {
        "id": "lRQ4vqANEOaA",
        "colab_type": "code",
        "colab": {}
      },
      "source": [
        "kmeans.labels_"
      ],
      "execution_count": null,
      "outputs": []
    },
    {
      "cell_type": "code",
      "metadata": {
        "id": "hM4GomJmEOaE",
        "colab_type": "code",
        "colab": {}
      },
      "source": [
        "# Criando o Cluster Map\n",
        "cluster_map = pd.DataFrame(iris.data)\n",
        "cluster_map['cluster'] = kmeans.labels_"
      ],
      "execution_count": null,
      "outputs": []
    },
    {
      "cell_type": "code",
      "metadata": {
        "id": "lWDjBglnEOaI",
        "colab_type": "code",
        "colab": {}
      },
      "source": [
        "cluster_map"
      ],
      "execution_count": null,
      "outputs": []
    },
    {
      "cell_type": "code",
      "metadata": {
        "id": "Oe-M_TqhEOaN",
        "colab_type": "code",
        "colab": {}
      },
      "source": [
        "# Filtrando os Dados Pelo Cluster\n",
        "cluster_map[cluster_map.cluster == 2]"
      ],
      "execution_count": null,
      "outputs": []
    },
    {
      "cell_type": "markdown",
      "metadata": {
        "id": "pxEEmssLEOaR",
        "colab_type": "text"
      },
      "source": [
        "Para poder visualizar os dados, vamos reduzir a dimensionalidade do dataset. O objeto pca_2d permite visualizar os dados com duas dimensões (2 componentes)."
      ]
    },
    {
      "cell_type": "code",
      "metadata": {
        "id": "LVE1_U3QEOaR",
        "colab_type": "code",
        "colab": {}
      },
      "source": [
        "# Reduzindo a dimensionalidade\n",
        "pca = PCA(n_components = 2).fit(iris.data)"
      ],
      "execution_count": null,
      "outputs": []
    },
    {
      "cell_type": "code",
      "metadata": {
        "id": "tzgzOyxnEOaW",
        "colab_type": "code",
        "colab": {}
      },
      "source": [
        "# Aplicando o PCA\n",
        "pca_2d = pca.transform(iris.data)"
      ],
      "execution_count": null,
      "outputs": []
    },
    {
      "cell_type": "code",
      "metadata": {
        "id": "zPd_ah5hEOaZ",
        "colab_type": "code",
        "colab": {}
      },
      "source": [
        "pca_2d"
      ],
      "execution_count": null,
      "outputs": []
    },
    {
      "cell_type": "code",
      "metadata": {
        "id": "C131HhRbEOae",
        "colab_type": "code",
        "colab": {}
      },
      "source": [
        "pca_2d.shape"
      ],
      "execution_count": null,
      "outputs": []
    },
    {
      "cell_type": "code",
      "metadata": {
        "id": "TPbuWI3CEOah",
        "colab_type": "code",
        "colab": {}
      },
      "source": [
        "pca_2d.shape[0]"
      ],
      "execution_count": null,
      "outputs": []
    },
    {
      "cell_type": "code",
      "metadata": {
        "id": "BPURXpq3EOan",
        "colab_type": "code",
        "colab": {}
      },
      "source": [
        "# Gerando \"labels\" para os resultados dos clusters\n",
        "for i in range(0, pca_2d.shape[0]):\n",
        "    \n",
        "    if kmeans.labels_[i] == 0:\n",
        "        c1 = pl.scatter(pca_2d[i,0],pca_2d[i,1], c ='r', marker = '+')\n",
        "        \n",
        "    elif kmeans.labels_[i] == 1:\n",
        "        c2 = pl.scatter(pca_2d[i,0],pca_2d[i,1], c ='g', marker = 'o')\n",
        "\n",
        "    elif kmeans.labels_[i] == 2:\n",
        "        c3 = pl.scatter(pca_2d[i,0],pca_2d[i,1], c ='b', marker = '*')\n",
        "        pl.legend([c1, c2, c3],['Cluster 0', 'Cluster 1', 'Cluster 2'])\n",
        "        pl.title('Clusters K-means com Iris dataset em 3 clusters')\n",
        "pl.show()"
      ],
      "execution_count": null,
      "outputs": []
    },
    {
      "cell_type": "markdown",
      "metadata": {
        "id": "AqvvxXaWEOar",
        "colab_type": "text"
      },
      "source": [
        "### Fim"
      ]
    },
    {
      "cell_type": "markdown",
      "metadata": {
        "id": "tPIJymKaEOas",
        "colab_type": "text"
      },
      "source": [
        "### Valeu! - Ciência dos Dados - <a href=\"http://facebook.com/cienciaadosdadosbr\">facebook.com/cienciadosdadosbrbr</a>"
      ]
    },
    {
      "cell_type": "code",
      "metadata": {
        "id": "arBs_JFiHAhy",
        "colab_type": "code",
        "colab": {}
      },
      "source": [
        ""
      ],
      "execution_count": null,
      "outputs": []
    }
  ]
}