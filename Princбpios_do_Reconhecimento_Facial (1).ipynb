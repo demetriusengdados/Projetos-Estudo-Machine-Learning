{
  "nbformat": 4,
  "nbformat_minor": 0,
  "metadata": {
    "colab": {
      "name": "Princípios do Reconhecimento Facial.ipynb",
      "provenance": [],
      "collapsed_sections": []
    },
    "kernelspec": {
      "name": "python3",
      "display_name": "Python 3"
    }
  },
  "cells": [
    {
      "cell_type": "markdown",
      "metadata": {
        "id": "mdD8uie7g1rP"
      },
      "source": [
        "![alt text](https://encrypted-tbn0.gstatic.com/images?q=tbn%3AANd9GcTK4gQ9nhwHHaSXMHpeggWg7twwMCgb877smkRmtkmDeDoGF9Z6&usqp=CAU)"
      ]
    },
    {
      "cell_type": "markdown",
      "metadata": {
        "id": "hoLxv-7jg1rQ"
      },
      "source": [
        "# <font color='PURPLE'>Ciência dos Dados na Prática</font>\n",
        "\n",
        "# <font color='GREY'> Princípios do Reconhecimento Facial</font>\n"
      ]
    },
    {
      "cell_type": "markdown",
      "metadata": {
        "id": "fV4XEW1Yk2Lp"
      },
      "source": [
        "#1° Problema de Negócio \n",
        "Precisamos Criar um detector de Face. Para isso nós Vamos fazer o Seguinte:\n",
        "\n",
        "1. Entender como os dados são Processados\n",
        "2. Reduzir a Dimensionalidade dos Dados\n",
        "3. Criar a Máquina com SVM (classifier)\n",
        "4. Usar o GrisSearch para escolher os Melhores Hyperparâmetros do SVM\n",
        "\n",
        "Simbóra?"
      ]
    },
    {
      "cell_type": "markdown",
      "metadata": {
        "id": "cfIsGz3ZqnN_"
      },
      "source": [
        "![alt text](https://www.computerid.com.br/imagens/loading.gif)\n",
        "\n",
        "![alt text](https://www.sine.co/wp-content/uploads/2019/05/face_check_gif_520-2.gif)"
      ]
    },
    {
      "cell_type": "markdown",
      "metadata": {
        "id": "7k-jRGAGWwWn"
      },
      "source": [
        "##### **Transformação da imagem bidimensional num vetor**\n",
        "* Assuma-se uma determinada imagem facial I(x,y) num espaço bidimensional N×N. Essa imagem pode ser encarada como um vector de dimensão N2. \n",
        "\n",
        "* Nesse caso uma imagem com 256×256 pixéis passa a ser considerada um vector de dimensão 65536, ou então um ponto num espaço com 65536 dimensões. \n",
        "\n",
        "* Como resultado, um conjunto de imagens pode mapear um grupo de pontos neste espaço gigantesco."
      ]
    },
    {
      "cell_type": "markdown",
      "metadata": {
        "id": "WUxMQmFzWxBg"
      },
      "source": [
        " ##### **Aplicação do PCA para reduzir a Dimensionalidade**\n",
        " * Cada face é decomposta numa série de componentes principais, ou vectores próprios da matriz covariância, definidos por um conjunto de faces de referência. \n",
        "  \n",
        " * Basicamente, cada face pode ser representada como a combinação linear de diversas Eigenfaces.\n",
        "\n",
        " * Eigenfaces é o nome dado a um conjunto de vetores próprios quando usado no problema de visão computacional do reconhecimento de rosto humano.\n",
        "\n",
        " * Esta técnica foi desenvolvida por Sirovich e Kirby (1987) com o objectivo de representar, de forma eficiente, imagens de faces através da análise de componentes principais (PCA - Principal Component Analysis). \n",
        "\n",
        " * As imagens originais tinham  250 x 250 pixels, porém foi realizado o redimensionamento para 62 x 47.\n",
        "\n",
        " * Há um total de 13.233 imagens e 5749 pessoas no banco de dados, ou seja, tem pessoas que tem mais de uma imagem, como por exemplo o G.W.Bush."
      ]
    },
    {
      "cell_type": "markdown",
      "metadata": {
        "id": "eCtti3jAlLYT"
      },
      "source": [
        "#2° Análise Exploratória dos Dados"
      ]
    },
    {
      "cell_type": "code",
      "metadata": {
        "id": "HGZUDfc3A41L"
      },
      "source": [
        "# Reconhecimento de face\n",
        "from sklearn.datasets import fetch_lfw_people\n",
        "faces=fetch_lfw_people(min_faces_per_person=60)\n",
        "print(faces.target_names)\n",
        "print(faces.images.shape)"
      ],
      "execution_count": null,
      "outputs": []
    },
    {
      "cell_type": "code",
      "metadata": {
        "id": "4ijypyfTaRMq"
      },
      "source": [
        "# Labeled Faces in the Wild (LFW) dataset.\n",
        "fetch_lfw_people"
      ],
      "execution_count": null,
      "outputs": []
    },
    {
      "cell_type": "markdown",
      "metadata": {
        "id": "iZfzxQSQlRgO"
      },
      "source": [
        "#3° Pré-Processamento dos Dados"
      ]
    },
    {
      "cell_type": "code",
      "metadata": {
        "id": "DUQho2anDQy6"
      },
      "source": [
        "import matplotlib.pyplot as plt\n",
        "fig, ax = plt.subplots(3,6)\n",
        "for i, axi in enumerate(ax.flat):\n",
        "  axi.imshow(faces.images[i], cmap='bone')\n",
        "  axi.set(xticks=[], yticks=[]),\n",
        "  xlabel=faces.target_names[faces.target[i]]  "
      ],
      "execution_count": null,
      "outputs": []
    },
    {
      "cell_type": "markdown",
      "metadata": {
        "id": "qzZ6DmFhlSv3"
      },
      "source": [
        "#4° Máquina Preditiva Detectora de Face"
      ]
    },
    {
      "cell_type": "code",
      "metadata": {
        "id": "2PyYM8BGEAhu"
      },
      "source": [
        "# Importação de Bibliotecas\n",
        "from sklearn.svm import SVC\n",
        "from sklearn.decomposition import PCA\n",
        "from sklearn.pipeline import make_pipeline\n",
        "\n"
      ],
      "execution_count": null,
      "outputs": []
    },
    {
      "cell_type": "code",
      "metadata": {
        "id": "3zk5K7z8E3oq"
      },
      "source": [
        "# Criação da Máquina Preditiva com SVC e PCA\n",
        "pca = PCA(n_components=150, whiten=True, random_state=7)\n",
        "svc = SVC(kernel='rbf', class_weight='balanced')\n",
        "model = make_pipeline(pca, svc)"
      ],
      "execution_count": null,
      "outputs": []
    },
    {
      "cell_type": "code",
      "metadata": {
        "id": "uEwwn2p_F_iY"
      },
      "source": [
        "# Separação dos Dados de Treino e Teste\n",
        "from sklearn.model_selection import train_test_split\n",
        "X_train, X_test, y_train, y_test = train_test_split(faces.data ,faces.target, test_size=0.3, random_state = 7) "
      ],
      "execution_count": null,
      "outputs": []
    },
    {
      "cell_type": "code",
      "metadata": {
        "id": "mKju_fnjIN5X"
      },
      "source": [
        "# Tunning de Hyperparâmetro\n",
        "from sklearn.model_selection import GridSearchCV\n",
        "param_grid = {'svc__C': [1, 5, 10, 50],\n",
        "              'svc__gamma': [0.0001, 0.0005, 0.001, 0.005]}\n",
        "              \n",
        "grid = GridSearchCV(model,param_grid)"
      ],
      "execution_count": null,
      "outputs": []
    },
    {
      "cell_type": "code",
      "metadata": {
        "id": "ygASBi4CIfgW"
      },
      "source": [
        "#Cálculo dos Melhores hyperparâmetros\n",
        "grid.fit(X_train,y_train)\n",
        "print(grid.best_params_)"
      ],
      "execution_count": null,
      "outputs": []
    },
    {
      "cell_type": "code",
      "metadata": {
        "id": "j7cB94UxQLNA"
      },
      "source": [
        "#Visualizando o resultado do Tunning\n",
        "grid.best_estimator_"
      ],
      "execution_count": null,
      "outputs": []
    },
    {
      "cell_type": "code",
      "metadata": {
        "id": "y-YVeZ39J2uU"
      },
      "source": [
        "#Treinando a Máquina Preditiva\n",
        "model= grid.best_estimator_\n",
        "yfit = model.predict(X_test)"
      ],
      "execution_count": null,
      "outputs": []
    },
    {
      "cell_type": "code",
      "metadata": {
        "id": "BPZLUcdKKlsB"
      },
      "source": [
        "# Resultado do Treinamento\n",
        "fig, ax = plt.subplots(4,6)\n",
        "for i, axi in enumerate(ax.flat):\n",
        "  axi.imshow(X_test[i].reshape(62,47), cmap='bone')\n",
        "  axi.set(xticks=[], yticks=[])\n",
        "  axi.set_ylabel(faces.target_names[yfit[i]].split()[-1],\n",
        "                  color='blue' if yfit[i] == y_test[i] else 'red')\n",
        "fig.suptitle('Nomes Preditos Incorretamente em Vermelho', size=14);"
      ],
      "execution_count": null,
      "outputs": []
    },
    {
      "cell_type": "markdown",
      "metadata": {
        "id": "jsMdHoDKlaxz"
      },
      "source": [
        "#5° Avaliação da Máquina Preditiva"
      ]
    },
    {
      "cell_type": "code",
      "metadata": {
        "id": "tS3iHIRrRCqc",
        "outputId": "f0306aac-18ef-47d0-a7f5-68384006548c",
        "colab": {
          "base_uri": "https://localhost:8080/"
        }
      },
      "source": [
        "#Avaliação da Máquina Preditiva com o Classification Report\n",
        "from sklearn.metrics import classification_report\n",
        "print(classification_report(y_test, yfit,\n",
        "                            target_names=faces.target_names))\n"
      ],
      "execution_count": null,
      "outputs": [
        {
          "output_type": "stream",
          "text": [
            "                   precision    recall  f1-score   support\n",
            "\n",
            "     Ariel Sharon       0.86      0.62      0.72        29\n",
            "     Colin Powell       0.83      0.87      0.85        78\n",
            "  Donald Rumsfeld       0.79      0.79      0.79        39\n",
            "    George W Bush       0.90      0.81      0.85       157\n",
            "Gerhard Schroeder       0.57      0.72      0.64        29\n",
            "      Hugo Chavez       0.77      0.81      0.79        21\n",
            "Junichiro Koizumi       0.79      0.92      0.85        12\n",
            "       Tony Blair       0.71      0.88      0.79        40\n",
            "\n",
            "         accuracy                           0.81       405\n",
            "        macro avg       0.78      0.80      0.78       405\n",
            "     weighted avg       0.82      0.81      0.81       405\n",
            "\n"
          ],
          "name": "stdout"
        }
      ]
    },
    {
      "cell_type": "code",
      "metadata": {
        "id": "sAKWnOJkLxej",
        "outputId": "029dda1d-2b78-44f8-cab1-6550b014608a",
        "colab": {
          "base_uri": "https://localhost:8080/",
          "height": 364
        }
      },
      "source": [
        "#Avaliação da Máquina Preditiva com a Confusion Matrix\n",
        "from sklearn.metrics import confusion_matrix\n",
        "import seaborn as sns\n",
        "\n",
        "mat = confusion_matrix(y_test, yfit)\n",
        "sns.heatmap(mat.T, square=True , annot=True , fmt='d' ,  cbar=False,\n",
        "            xticklabels=faces.target_names,\n",
        "            yticklabels=faces.target_names)\n",
        "plt.xlabel('Foto Real - true label ')\n",
        "plt.ylabel('predicted label - Predito pela Máquina');\n"
      ],
      "execution_count": null,
      "outputs": [
        {
          "output_type": "display_data",
          "data": {
            "image/png": "[encoded data removed]",
            "text/plain": [
              "<Figure size 432x288 with 1 Axes>"
            ]
          },
          "metadata": {
            "tags": [],
            "needs_background": "light"
          }
        }
      ]
    },
    {
      "cell_type": "code",
      "metadata": {
        "id": "uhfHv3TcPhTx",
        "outputId": "c2a363e4-62c5-439e-e30c-318dc896d440",
        "colab": {
          "base_uri": "https://localhost:8080/"
        }
      },
      "source": [
        "#Avaliação da Máquina Preditiva com o Accuray Score\n",
        "from sklearn.metrics import accuracy_score\n",
        "resultado = accuracy_score(y_test,yfit)\n",
        "resultado"
      ],
      "execution_count": null,
      "outputs": [
        {
          "output_type": "execute_result",
          "data": {
            "text/plain": [
              "0.8098765432098766"
            ]
          },
          "metadata": {
            "tags": []
          },
          "execution_count": 60
        }
      ]
    },
    {
      "cell_type": "markdown",
      "metadata": {
        "id": "VAYeG5uXn652"
      },
      "source": [
        "# Resumão\n",
        "\n"
      ]
    },
    {
      "cell_type": "markdown",
      "metadata": {
        "id": "L3ANcfm2rkbP"
      },
      "source": [
        "* Você Aprendeu como os dados de Imagem são Processados para utilização em Machine Learning\n",
        "\n",
        "* Aprendeu a usar o PCA para reduzir a dimensionalidade dos dados\n",
        "\n",
        "* Entendeu como o SVM trabalha na separação de dados não lineares\n",
        "\n",
        "* Aprendeu a Tunnar os Hyperparâmetros dos algoritmos com o GridSearch"
      ]
    },
    {
      "cell_type": "markdown",
      "metadata": {
        "id": "XTRc7NjBKG65"
      },
      "source": [
        "# Fim"
      ]
    },
    {
      "cell_type": "markdown",
      "metadata": {
        "id": "_fHqFSvWe94c"
      },
      "source": [
        "## Valeu!"
      ]
    },
    {
      "cell_type": "markdown",
      "metadata": {
        "id": "_2DT4SBZRDP-"
      },
      "source": [
        "### #Links - Ciência dos Dados <a href=\"https://linktr.ee/cienciadosdados\">https://linktr.ee/cienciadosdados</a>"
      ]
    },
    {
      "cell_type": "markdown",
      "metadata": {
        "id": "ThxYRK6DfJ3f"
      },
      "source": [
        "### #YouTube - Mais Aulas como essa no YouTube <a href=\"https://www.youtube.com/watch?v=IaIc5oHd3II&t=1569s\">https://www.youtube.com/watch?v=IaIc5oHd3II&t=1569s</a>"
      ]
    },
    {
      "cell_type": "code",
      "metadata": {
        "id": "_pg8zEm-Nv6Y",
        "outputId": "25ae1d78-d7a0-41fc-d384-3d886d93f50e",
        "colab": {
          "base_uri": "https://localhost:8080/",
          "height": 221
        }
      },
      "source": [
        "from IPython.core.display import HTML\n",
        "HTML('<iframe width=\"380\" height=\"200\" src=\"https://www.youtube.com/embed/Z0vDDKXzAhA\" frameborder=\"0\" allow=\"accelerometer; autoplay; clipboard-write; encrypted-media; gyroscope; picture-in-picture\" allowfullscreen></iframe>')"
      ],
      "execution_count": null,
      "outputs": [
        {
          "output_type": "execute_result",
          "data": {
            "text/html": [
              "<iframe width=\"380\" height=\"200\" src=\"https://www.youtube.com/embed/Z0vDDKXzAhA\" frameborder=\"0\" allow=\"accelerometer; autoplay; clipboard-write; encrypted-media; gyroscope; picture-in-picture\" allowfullscreen></iframe>"
            ],
            "text/plain": [
              "<IPython.core.display.HTML object>"
            ]
          },
          "metadata": {
            "tags": []
          },
          "execution_count": 40
        }
      ]
    },
    {
      "cell_type": "markdown",
      "metadata": {
        "id": "KNYHMRFqhX4v"
      },
      "source": [
        "## Links Úteis"
      ]
    },
    {
      "cell_type": "markdown",
      "metadata": {
        "id": "dD-ts0HHWc-_"
      },
      "source": [
        "http://www.sinfic.pt/SinficWeb/displayconteudo.do2?numero=44666#:~:text=Esta%20t%C3%A9cnica%20foi%20desenvolvida%20por,combina%C3%A7%C3%A3o%20linear%20de%20diversas%20Eigenfaces."
      ]
    },
    {
      "cell_type": "markdown",
      "metadata": {
        "id": "C7eQUPJUWWCH"
      },
      "source": [
        "https://scikit-learn.org/stable/auto_examples/applications/plot_face_recognition.html#sphx-glr-download-auto-examples-applications-plot-face-recognition-py"
      ]
    }
  ]
}