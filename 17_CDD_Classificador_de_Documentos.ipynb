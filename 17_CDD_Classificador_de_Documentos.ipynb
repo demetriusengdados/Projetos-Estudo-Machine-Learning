{
  "nbformat": 4,
  "nbformat_minor": 0,
  "metadata": {
    "anaconda-cloud": {},
    "kernelspec": {
      "display_name": "Python 3",
      "language": "python",
      "name": "python3"
    },
    "language_info": {
      "codemirror_mode": {
        "name": "ipython",
        "version": 3
      },
      "file_extension": ".py",
      "mimetype": "text/x-python",
      "name": "python",
      "nbconvert_exporter": "python",
      "pygments_lexer": "ipython3",
      "version": "3.7.3"
    },
    "colab": {
      "name": "17-CDD-Classificador de Documentos.ipynb",
      "provenance": []
    },
    "accelerator": "TPU"
  },
  "cells": [
    {
      "cell_type": "markdown",
      "metadata": {
        "id": "7oiQVQi0AJ6D",
        "colab_type": "text"
      },
      "source": [
        "# <font color='Purple'>Ciência dos Dados - Na Prática</font>\n",
        "\n",
        "# <font color='blue'>Criando um Classificador de Documentos com PLN e Naive Bayes</font>"
      ]
    },
    {
      "cell_type": "markdown",
      "metadata": {
        "id": "ToGCnD72AJ6F",
        "colab_type": "text"
      },
      "source": [
        "http://scikit-learn.org/stable/modules/naive_bayes.html"
      ]
    },
    {
      "cell_type": "markdown",
      "metadata": {
        "id": "m3aH5X2NAJ6H",
        "colab_type": "text"
      },
      "source": [
        "# Multinomial Naive Bayes - Scikit-Learn"
      ]
    },
    {
      "cell_type": "markdown",
      "metadata": {
        "id": "eHDyIEocAJ6J",
        "colab_type": "text"
      },
      "source": [
        "O classificador Multinomial Naive Bayes é adequado para classificação com variáveis discretas (por exemplo, contagens de palavras para a classificação de texto). A distribuição multinomial normalmente requer contagens de entidades inteiras. No entanto, na prática, contagens fracionadas (contagem de palavras) como tf-idf também podem funcionar."
      ]
    },
    {
      "cell_type": "markdown",
      "metadata": {
        "id": "uPce1d2wAJ6J",
        "colab_type": "text"
      },
      "source": [
        "http://scikit-learn.org/stable/modules/generated/sklearn.naive_bayes.MultinomialNB.html"
      ]
    },
    {
      "cell_type": "markdown",
      "metadata": {
        "id": "lUDbp_boAJ6K",
        "colab_type": "text"
      },
      "source": [
        "# Classificador de Documentos\n",
        "\n",
        "> Ex: Escritórios de Advocacia (milhões de petições...), Diagnósticos de Exames Laboratoriais (Sabin , Exame) - Pesquisas Acadêmicas, Relatório Financeiro de empresas de Capital aberto\n",
        "\n",
        "      \n",
        "\n"
      ]
    },
    {
      "cell_type": "markdown",
      "metadata": {
        "id": "Gx06sN2qAJ6L",
        "colab_type": "text"
      },
      "source": [
        "http://qwone.com/~jason/20Newsgroups/"
      ]
    },
    {
      "cell_type": "code",
      "metadata": {
        "id": "ijA44JIfAJ6M",
        "colab_type": "code",
        "colab": {}
      },
      "source": [
        "# Imports\n",
        "import numpy as np\n",
        "from sklearn.datasets import fetch_20newsgroups\n",
        "from sklearn.feature_extraction.text import CountVectorizer\n",
        "from sklearn.naive_bayes import MultinomialNB\n",
        "from sklearn.feature_extraction.text import TfidfTransformer\n",
        "from sklearn.pipeline import Pipeline\n",
        "from sklearn.model_selection import GridSearchCV\n",
        "from sklearn import metrics\n",
        "import warnings\n",
        "warnings.filterwarnings(\"ignore\", category=FutureWarning)"
      ],
      "execution_count": 0,
      "outputs": []
    },
    {
      "cell_type": "code",
      "metadata": {
        "id": "6Od8JbygBI4L",
        "colab_type": "code",
        "colab": {}
      },
      "source": [
        "fetch_20newsgroups"
      ],
      "execution_count": 0,
      "outputs": []
    },
    {
      "cell_type": "code",
      "metadata": {
        "id": "F02-h1azAJ6R",
        "colab_type": "code",
        "colab": {}
      },
      "source": [
        "# Definindo as categorias \n",
        "# (usando apenas 4 de um total de 20 disponível para que o processo de classificação seja mais rápido)\n",
        "categories = ['alt.atheism', 'soc.religion.christian', 'comp.graphics', 'sci.med']"
      ],
      "execution_count": 0,
      "outputs": []
    },
    {
      "cell_type": "code",
      "metadata": {
        "id": "iT-nKv0YAJ6W",
        "colab_type": "code",
        "colab": {}
      },
      "source": [
        "# Treinamento\n",
        "twenty_train = fetch_20newsgroups(subset = 'train', categories = categories, shuffle = True, random_state = 42)"
      ],
      "execution_count": 0,
      "outputs": []
    },
    {
      "cell_type": "code",
      "metadata": {
        "id": "YeSaz7c4AJ6d",
        "colab_type": "code",
        "colab": {}
      },
      "source": [
        "# Classes\n",
        "twenty_train.target_names"
      ],
      "execution_count": 0,
      "outputs": []
    },
    {
      "cell_type": "code",
      "metadata": {
        "id": "rk0BvspzAJ6k",
        "colab_type": "code",
        "colab": {}
      },
      "source": [
        "len(twenty_train.data)"
      ],
      "execution_count": 0,
      "outputs": []
    },
    {
      "cell_type": "code",
      "metadata": {
        "id": "HrQSbnKDAJ6q",
        "colab_type": "code",
        "colab": {}
      },
      "source": [
        "# Visualizando alguns dados (atributos)\n",
        "print(\"\\n\".join(twenty_train.data[0].split(\"\\n\")[:10]))"
      ],
      "execution_count": 0,
      "outputs": []
    },
    {
      "cell_type": "code",
      "metadata": {
        "id": "-xoAaaaqAJ6z",
        "colab_type": "code",
        "colab": {}
      },
      "source": [
        "# Visualizando variáveis target\n",
        "print(twenty_train.target_names[twenty_train.target[0]])"
      ],
      "execution_count": 0,
      "outputs": []
    },
    {
      "cell_type": "code",
      "metadata": {
        "id": "MHDqMkh7AJ64",
        "colab_type": "code",
        "colab": {}
      },
      "source": [
        "# O Scikit-Learn registra os labels como array de números, a fim de aumentar a velocidade\n",
        "twenty_train.target[:10]"
      ],
      "execution_count": 0,
      "outputs": []
    },
    {
      "cell_type": "code",
      "metadata": {
        "id": "w5eZEM8EAJ6-",
        "colab_type": "code",
        "colab": {}
      },
      "source": [
        "# Visualizando as classes dos 10 primeiros registros\n",
        "for t in twenty_train.target[:10]:\n",
        "    print(twenty_train.target_names[t])"
      ],
      "execution_count": 0,
      "outputs": []
    },
    {
      "cell_type": "markdown",
      "metadata": {
        "id": "2UsMbkmNAJ7D",
        "colab_type": "text"
      },
      "source": [
        "# Bag of Words (Saco de Palavras)"
      ]
    },
    {
      "cell_type": "code",
      "metadata": {
        "id": "LY7XxUUwAJ7F",
        "colab_type": "code",
        "outputId": "4439cc02-ce55-4015-eb58-411e44f0f1e1",
        "colab": {
          "base_uri": "https://localhost:8080/",
          "height": 34
        }
      },
      "source": [
        "# Tokenizing\n",
        "count_vect = CountVectorizer()\n",
        "X_train_counts = count_vect.fit_transform(twenty_train.data)\n",
        "count_vect.vocabulary_.get(u'algorithm')\n",
        "X_train_counts.shape"
      ],
      "execution_count": 15,
      "outputs": [
        {
          "output_type": "execute_result",
          "data": {
            "text/plain": [
              "(2257, 35788)"
            ]
          },
          "metadata": {
            "tags": []
          },
          "execution_count": 15
        }
      ]
    },
    {
      "cell_type": "code",
      "metadata": {
        "id": "uPLwvCBhAJ7O",
        "colab_type": "code",
        "outputId": "f4efd89a-c1be-4060-aef9-20a5a3a56bab",
        "colab": {
          "base_uri": "https://localhost:8080/",
          "height": 34
        }
      },
      "source": [
        "# De ocorrências a frequências - Term Frequency times Inverse Document Frequency (Tfidf)\n",
        "tf_transformer = TfidfTransformer(use_idf = False).fit(X_train_counts)\n",
        "X_train_tf = tf_transformer.transform(X_train_counts)\n",
        "X_train_tf.shape"
      ],
      "execution_count": 14,
      "outputs": [
        {
          "output_type": "execute_result",
          "data": {
            "text/plain": [
              "(2257, 35788)"
            ]
          },
          "metadata": {
            "tags": []
          },
          "execution_count": 14
        }
      ]
    },
    {
      "cell_type": "code",
      "metadata": {
        "id": "6gj7RrdbAJ7T",
        "colab_type": "code",
        "outputId": "f73d761c-1319-4498-e399-bb4358232d33",
        "colab": {
          "base_uri": "https://localhost:8080/",
          "height": 34
        }
      },
      "source": [
        "# Mesmo resultado da célula anterior, mas combinando as funções\n",
        "tfidf_transformer = TfidfTransformer()\n",
        "X_train_tfidf = tfidf_transformer.fit_transform(X_train_counts)\n",
        "X_train_tfidf.shape"
      ],
      "execution_count": 16,
      "outputs": [
        {
          "output_type": "execute_result",
          "data": {
            "text/plain": [
              "(2257, 35788)"
            ]
          },
          "metadata": {
            "tags": []
          },
          "execution_count": 16
        }
      ]
    },
    {
      "cell_type": "code",
      "metadata": {
        "id": "wrpWXcRBAJ7Y",
        "colab_type": "code",
        "colab": {}
      },
      "source": [
        "# Criando o modelo Multinomial\n",
        "clf = MultinomialNB().fit(X_train_tfidf, twenty_train.target)"
      ],
      "execution_count": 0,
      "outputs": []
    },
    {
      "cell_type": "code",
      "metadata": {
        "id": "XbCQpRraAJ7d",
        "colab_type": "code",
        "outputId": "4d186cb1-79b7-428f-e64b-ca41b8262c0c",
        "colab": {
          "base_uri": "https://localhost:8080/",
          "height": 34
        }
      },
      "source": [
        "# Previsões\n",
        "docs_new = ['Darwin fish bumper stickers']\n",
        "X_new_counts = count_vect.transform(docs_new)\n",
        "X_new_tfidf = tfidf_transformer.transform(X_new_counts)\n",
        "\n",
        "predicted = clf.predict(X_new_tfidf)\n",
        "\n",
        "for doc, category in zip(docs_new, predicted):\n",
        "    print('%r => %s' % (doc, twenty_train.target_names[category]))"
      ],
      "execution_count": 24,
      "outputs": [
        {
          "output_type": "stream",
          "text": [
            "'Darwin fish bumper stickers' => alt.atheism\n"
          ],
          "name": "stdout"
        }
      ]
    },
    {
      "cell_type": "code",
      "metadata": {
        "id": "Q9fd9ikeAJ7g",
        "colab_type": "code",
        "colab": {}
      },
      "source": [
        "# Criando um Pipeline - Classificador Composto\n",
        "# vectorizer => transformer => classifier \n",
        "text_clf = Pipeline([('vect', CountVectorizer()),\n",
        "                     ('tfidf', TfidfTransformer()),\n",
        "                     ('clf', MultinomialNB()),\n",
        "])"
      ],
      "execution_count": 0,
      "outputs": []
    },
    {
      "cell_type": "code",
      "metadata": {
        "id": "iFZrgbDbAJ7k",
        "colab_type": "code",
        "colab": {}
      },
      "source": [
        "# Fit\n",
        "text_clf = text_clf.fit(twenty_train.data, twenty_train.target)"
      ],
      "execution_count": 0,
      "outputs": []
    },
    {
      "cell_type": "code",
      "metadata": {
        "id": "rgAxl2vuAJ7p",
        "colab_type": "code",
        "outputId": "c0c4bdd7-1126-4b5f-a291-a23577553907",
        "colab": {
          "base_uri": "https://localhost:8080/",
          "height": 34
        }
      },
      "source": [
        "# Acurácia do Modelo\n",
        "twenty_test = fetch_20newsgroups(subset = 'test', categories = categories, shuffle = True, random_state = 42)\n",
        "docs_test = twenty_test.data\n",
        "predicted = text_clf.predict(docs_test)\n",
        "np.mean(predicted == twenty_test.target)    "
      ],
      "execution_count": 27,
      "outputs": [
        {
          "output_type": "execute_result",
          "data": {
            "text/plain": [
              "0.8348868175765646"
            ]
          },
          "metadata": {
            "tags": []
          },
          "execution_count": 27
        }
      ]
    },
    {
      "cell_type": "code",
      "metadata": {
        "id": "ssvMWGG-AJ7t",
        "colab_type": "code",
        "outputId": "6ea4541e-374d-4529-f708-48f365dd629c",
        "colab": {
          "base_uri": "https://localhost:8080/",
          "height": 204
        }
      },
      "source": [
        "# Métricas\n",
        "print(metrics.classification_report(twenty_test.target, predicted, target_names = twenty_test.target_names))"
      ],
      "execution_count": 28,
      "outputs": [
        {
          "output_type": "stream",
          "text": [
            "                        precision    recall  f1-score   support\n",
            "\n",
            "           alt.atheism       0.97      0.60      0.74       319\n",
            "         comp.graphics       0.96      0.89      0.92       389\n",
            "               sci.med       0.97      0.81      0.88       396\n",
            "soc.religion.christian       0.65      0.99      0.78       398\n",
            "\n",
            "              accuracy                           0.83      1502\n",
            "             macro avg       0.89      0.82      0.83      1502\n",
            "          weighted avg       0.88      0.83      0.84      1502\n",
            "\n"
          ],
          "name": "stdout"
        }
      ]
    },
    {
      "cell_type": "code",
      "metadata": {
        "id": "ysjwM3e1AJ7w",
        "colab_type": "code",
        "outputId": "43c7ee82-831e-4c4a-fe64-19969a32d83f",
        "colab": {
          "base_uri": "https://localhost:8080/",
          "height": 85
        }
      },
      "source": [
        "# Confusion Matrix\n",
        "metrics.confusion_matrix(twenty_test.target, predicted)"
      ],
      "execution_count": 29,
      "outputs": [
        {
          "output_type": "execute_result",
          "data": {
            "text/plain": [
              "array([[192,   2,   6, 119],\n",
              "       [  2, 347,   4,  36],\n",
              "       [  2,  11, 322,  61],\n",
              "       [  2,   2,   1, 393]])"
            ]
          },
          "metadata": {
            "tags": []
          },
          "execution_count": 29
        }
      ]
    },
    {
      "cell_type": "code",
      "metadata": {
        "id": "YZfNsw4iAJ7y",
        "colab_type": "code",
        "colab": {}
      },
      "source": [
        "# Parâmetros para o GridSearchCV\n",
        "parameters = {'vect__ngram_range': [(1, 1), (1, 2)],\n",
        "              'tfidf__use_idf': (True, False),\n",
        "              'clf__alpha': (1e-2, 1e-3),\n",
        "}"
      ],
      "execution_count": 0,
      "outputs": []
    },
    {
      "cell_type": "code",
      "metadata": {
        "id": "ERYUdHs_AJ71",
        "colab_type": "code",
        "colab": {}
      },
      "source": [
        "# GridSearchCV\n",
        "gs_clf = GridSearchCV(text_clf, parameters, n_jobs = -1)"
      ],
      "execution_count": 0,
      "outputs": []
    },
    {
      "cell_type": "code",
      "metadata": {
        "id": "hxkKtDH9AJ74",
        "colab_type": "code",
        "colab": {}
      },
      "source": [
        "# Fit\n",
        "gs_clf = gs_clf.fit(twenty_train.data[:400], twenty_train.target[:400])"
      ],
      "execution_count": 0,
      "outputs": []
    },
    {
      "cell_type": "code",
      "metadata": {
        "id": "gsIu7ndhAJ78",
        "colab_type": "code",
        "outputId": "1db315b6-9797-499b-8d32-c7cc1a376768",
        "colab": {
          "base_uri": "https://localhost:8080/",
          "height": 34
        }
      },
      "source": [
        "# Teste\n",
        "twenty_train.target_names[gs_clf.predict(['atheist paraphernalia'])[0]]"
      ],
      "execution_count": 42,
      "outputs": [
        {
          "output_type": "execute_result",
          "data": {
            "text/plain": [
              "'alt.atheism'"
            ]
          },
          "metadata": {
            "tags": []
          },
          "execution_count": 42
        }
      ]
    },
    {
      "cell_type": "code",
      "metadata": {
        "id": "_N8AbcTqAJ8A",
        "colab_type": "code",
        "outputId": "4d0e5ac8-17f5-47e0-8d8c-89b982829fbd",
        "colab": {
          "base_uri": "https://localhost:8080/",
          "height": 34
        }
      },
      "source": [
        "# Score\n",
        "gs_clf.best_score_        "
      ],
      "execution_count": 43,
      "outputs": [
        {
          "output_type": "execute_result",
          "data": {
            "text/plain": [
              "0.9349999999999999"
            ]
          },
          "metadata": {
            "tags": []
          },
          "execution_count": 43
        }
      ]
    },
    {
      "cell_type": "code",
      "metadata": {
        "id": "r2U0CjUQAJ8H",
        "colab_type": "code",
        "outputId": "3e77c644-b028-484f-bee4-4443bf477b69",
        "colab": {
          "base_uri": "https://localhost:8080/",
          "height": 68
        }
      },
      "source": [
        "# Parâmetros utilizados\n",
        "for param_name in sorted(parameters.keys()):\n",
        "    print(\"%s: %r\" % (param_name, gs_clf.best_params_[param_name]))"
      ],
      "execution_count": 44,
      "outputs": [
        {
          "output_type": "stream",
          "text": [
            "clf__alpha: 0.01\n",
            "tfidf__use_idf: True\n",
            "vect__ngram_range: (1, 2)\n"
          ],
          "name": "stdout"
        }
      ]
    },
    {
      "cell_type": "markdown",
      "metadata": {
        "id": "Z4hNg2yFAJ8M",
        "colab_type": "text"
      },
      "source": [
        "# Fim"
      ]
    },
    {
      "cell_type": "markdown",
      "metadata": {
        "id": "9oqdYMQlZAGg",
        "colab_type": "text"
      },
      "source": [
        "![alt text](https://encrypted-tbn0.gstatic.com/images?q=tbn%3AANd9GcTK4gQ9nhwHHaSXMHpeggWg7twwMCgb877smkRmtkmDeDoGF9Z6&usqp=CAU)"
      ]
    },
    {
      "cell_type": "markdown",
      "metadata": {
        "id": "9pSC2-x-AJ8N",
        "colab_type": "text"
      },
      "source": [
        "### #Tamojunto - Ciência dos Dados - <a href=\"http://facebook.com/cienciadosdadosbr\">facebook.com/cienciadosdadosbr</a>"
      ]
    },
    {
      "cell_type": "markdown",
      "metadata": {
        "colab_type": "text",
        "id": "BaC-lfhtZGlv"
      },
      "source": [
        "### #Scripts e Datasets - Comunidade Telegram <a href=\"https://t.me/cienciadosdados\">https://t.me/cienciadosdados</a>"
      ]
    },
    {
      "cell_type": "markdown",
      "metadata": {
        "id": "p5z7r1NSZ4AO",
        "colab_type": "text"
      },
      "source": [
        "### #Mais Aulas como essa no YouTube <a href=\"https://www.youtube.com/watch?v=IaIc5oHd3II&t=1569s\">https://www.youtube.com/watch?v=IaIc5oHd3II&t=1569s</a>"
      ]
    },
    {
      "cell_type": "code",
      "metadata": {
        "id": "tYmSVbrZdAQX",
        "colab_type": "code",
        "colab": {
          "base_uri": "https://localhost:8080/",
          "height": 221
        },
        "outputId": "704771c0-6e70-45dd-f14c-ecf00311a081"
      },
      "source": [
        "from IPython.core.display import HTML\n",
        "HTML('<iframe width=\"300\" height=\"200\" src=\"https://www.youtube.com/embed/IaIc5oHd3II\" frameborder=\"0\" allow=\"accelerometer; autoplay; encrypted-media; gyroscope; picture-in-picture\" allowfullscreen></iframe></iframe>')"
      ],
      "execution_count": 51,
      "outputs": [
        {
          "output_type": "execute_result",
          "data": {
            "text/html": [
              "<iframe width=\"300\" height=\"200\" src=\"https://www.youtube.com/embed/IaIc5oHd3II\" frameborder=\"0\" allow=\"accelerometer; autoplay; encrypted-media; gyroscope; picture-in-picture\" allowfullscreen></iframe></iframe>"
            ],
            "text/plain": [
              "<IPython.core.display.HTML object>"
            ]
          },
          "metadata": {
            "tags": []
          },
          "execution_count": 51
        }
      ]
    }
  ]
}