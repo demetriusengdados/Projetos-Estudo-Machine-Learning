{
 "cells": [
  {
   "cell_type": "code",
   "execution_count": null,
   "metadata": {},
   "outputs": [],
   "source": [
    "from tkinter import *\n",
    "root = Tk()\n",
    "def send():\n",
    "    send=\"you:\"+a.get()\n",
    "    text.insert(END,\"\\n\"+send)\n",
    "    if(a.get()=='hi'):\n",
    "        text.insert(END,\"\\n\" + \"Bot:Hello\")\n",
    "    elif(a.get()=='Oi'):\n",
    "        text.insert(END, \"\\n\"+ \"Bot:Olá\")\n",
    "    elif(a.get()=='Como você está?'):\n",
    "        text.insert(END, \"\\n\"+ \"Bot: Eu estou bem, e como você está\")\n",
    "    elif(a.get()=='Eu estou bem'):\n",
    "        text.insert(END,\"\\n\"+ \"Bot: Bom ouvir isso\")\n",
    "    else:\n",
    "        text.insert(END, \"\\n\"+ \"Bot:Eu não consegui entender\")\n",
    "\n",
    "text = Text(root, bg='white')\n",
    "text.grid(row=0,column=0,columnspan=2)\n",
    "a = Entry(root, width = 80)\n",
    "send = Button(root, text='Send', bg='white', width=20,command=send).grid(row = 1, column = 1)\n",
    "a.grid(row = 1, column = 0)\n",
    "root.title('Chatbot Simples')\n",
    "root.mainloop()"
   ]
  }
 ],
 "metadata": {
  "kernelspec": {
   "display_name": "Python 3",
   "language": "python",
   "name": "python3"
  },
  "language_info": {
   "codemirror_mode": {
    "name": "ipython",
    "version": 3
   },
   "file_extension": ".py",
   "mimetype": "text/x-python",
   "name": "python",
   "nbconvert_exporter": "python",
   "pygments_lexer": "ipython3",
   "version": "3.8.5"
  }
 },
 "nbformat": 4,
 "nbformat_minor": 4
}
